{
 "cells": [
  {
   "attachments": {},
   "cell_type": "markdown",
   "metadata": {},
   "source": [
    "## Conhecendo a requests"
   ]
  },
  {
   "attachments": {},
   "cell_type": "markdown",
   "metadata": {},
   "source": [
    "### Primeira requisição"
   ]
  },
  {
   "cell_type": "code",
   "execution_count": 1,
   "metadata": {},
   "outputs": [],
   "source": [
    "import requests"
   ]
  },
  {
   "cell_type": "code",
   "execution_count": 2,
   "metadata": {},
   "outputs": [],
   "source": [
    "r = requests.get('https://api.github.com/events')"
   ]
  },
  {
   "cell_type": "code",
   "execution_count": 3,
   "metadata": {},
   "outputs": [
    {
     "data": {
      "text/plain": [
       "<Response [200]>"
      ]
     },
     "execution_count": 3,
     "metadata": {},
     "output_type": "execute_result"
    }
   ],
   "source": [
    "r"
   ]
  },
  {
   "attachments": {},
   "cell_type": "markdown",
   "metadata": {},
   "source": [
    "### Explorando a biblioteca"
   ]
  },
  {
   "cell_type": "code",
   "execution_count": 27,
   "metadata": {},
   "outputs": [
    {
     "data": {
      "text/plain": [
       "200"
      ]
     },
     "execution_count": 27,
     "metadata": {},
     "output_type": "execute_result"
    }
   ],
   "source": [
    "r.status_code"
   ]
  },
  {
   "cell_type": "code",
   "execution_count": 28,
   "metadata": {},
   "outputs": [
    {
     "data": {
      "text/plain": [
       "'https://api.github.com/events'"
      ]
     },
     "execution_count": 28,
     "metadata": {},
     "output_type": "execute_result"
    }
   ],
   "source": [
    "r.url"
   ]
  },
  {
   "cell_type": "code",
   "execution_count": 29,
   "metadata": {},
   "outputs": [
    {
     "data": {
      "text/plain": [
       "'[{\"id\":\"28927456083\",\"type\":\"PushEvent\",\"actor\":{\"id\":109895156,\"login\":\"DREWiex\",\"display_login\":\"DREWiex\",\"gravatar_id\":\"\",\"url\":\"https://api.github.com/users/DREWiex\",\"avatar_url\":\"https://avatars.githubusercontent.com/u/109895156?\"},\"repo\":{\"id\":632026283,\"name\":\"DREWiex/proyecto-final-spa-BACK\",\"url\":\"https://api.github.com/repos/DREWiex/proyecto-final-spa-BACK\"},\"payload\":{\"repository_id\":632026283,\"push_id\":13565005656,\"size\":4,\"distinct_size\":0,\"ref\":\"refs/heads/dev\",\"head\":\"f2d88d959bece7908f0622c4f6328e11aaa86e36\",\"before\":\"12c614c342130a750b836144d0bb29931a68bef5\",\"commits\":[{\"sha\":\"07544ad6b94ca46f4cf92f89581adca28619c466\",\"author\":{\"email\":\"aleon88@gmail.com\",\"name\":\"DREWiex\"},\"message\":\"Probando main\",\"distinct\":false,\"url\":\"https://api.github.com/repos/DREWiex/proyecto-final-spa-BACK/commits/07544ad6b94ca46f4cf92f89581adca28619c466\"},{\"sha\":\"944249b40f7dc3cc8452b3a36460e63c6109d498\",\"author\":{\"email\":\"aleon88@gmail.com\",\"name\":\"DREWiex\"},\"message\":\"Limpio main después de error\",\"distinct\":false,\"url\":\"https://api.github.com/repos/DREWiex/proyecto-final-spa-BACK/commits/944249b40f7dc3cc8452b3a36460e63c6109d498\"},{\"sha\":\"e80b3b483a793c39dbd17c3306e3ca985faa0801\",\"author\":{\"email\":\"109895156+DREWiex@users.noreply.github.com\",\"name\":\"DREWiex\"},\"message\":\"Delete .DS_Store\",\"distinct\":false,\"url\":\"https://api.github.com/repos/DREWiex/proyecto-final-spa-BACK/commits/e80b3b483a793c39dbd17c3306e3ca985faa0801\"},{\"sha\":\"f2d88d959bece7908f0622c4f6328e11aaa86e36\",\"author\":{\"email\":\"109895156+DREWiex@users.noreply.github.com\",\"name\":\"DREWiex\"},\"message\":\"Merge pull request #9 from DREWiex/dev\\\\n\\\\nDev\",\"distinct\":false,\"url\":\"https://api.github.com/repos/DREWiex/proyecto-final-spa-BACK/commits/f2d88d959bece7908f0622c4f6328e11aaa86e36\"}]},\"public\":true,\"created_at\":\"2023-05-08T19:47:03Z\"},{\"id\":\"28927456064\",\"type\":\"PushEvent\",\"actor\":{\"id\":41898282,\"login\":\"github-actions[bot]\",\"display_login\":\"github-actions\",\"gravatar_id\":\"\",\"url\":\"https://api.github.com/users/github-actions[bot]\",\"avatar_url\":\"https://avatars.githubusercontent.com/u/41898282?\"},\"repo\":{\"id\":531115061,\"name\":\"TREEcg/Blue-Bike-to-OSLO\",\"url\":\"https://api.github.com/repos/TREEcg/Blue-Bike-to-OSLO\"},\"payload\":{\"repository_id\":531115061,\"push_id\":13565005652,\"size\":1,\"distinct_size\":1,\"ref\":\"refs/heads/master\",\"head\":\"d133794abcee505cb022d455f3ef6d0bb6875363\",\"before\":\"df596b8adf0abd8e0986601da2ca98a277fa4faa\",\"commits\":[{\"sha\":\"d133794abcee505cb022d455f3ef6d0bb6875363\",\"author\":{\"email\":\"bot@pieter.pm\",\"name\":\"Pieter\\'s GitHub Actions Bot\"},\"message\":\"history: update 2023-05-08T19:46:07\",\"distinct\":true,\"url\":\"https://api.github.com/repos/TREEcg/Blue-Bike-to-OSLO/commits/d133794abcee505cb022d455f3ef6d0bb6875363\"}]},\"public\":true,\"created_at\":\"2023-05-08T19:47:03Z\",\"org\":{\"id\":62235665,\"login\":\"TREEcg\",\"gravatar_id\":\"\",\"url\":\"https://api.github.com/orgs/TREEcg\",\"avatar_url\":\"https://avatars.githubusercontent.com/u/62235665?\"}},{\"id\":\"28927456068\",\"type\":\"PushEvent\",\"actor\":{\"id\":32224847,\"login\":\"Pjoao1578\",\"display_login\":\"Pjoao1578\",\"gravatar_id\":\"\",\"url\":\"https://api.github.com/users/Pjoao1578\",\"avatar_url\":\"https://avatars.githubusercontent.com/u/32224847?\"},\"repo\":{\"id\":617754251,\"name\":\"Pjoao1578/Upcrypter\",\"url\":\"https://api.github.com/repos/Pjoao1578/Upcrypter\"},\"payload\":{\"repository_id\":617754251,\"push_id\":13565005681,\"size\":1,\"distinct_size\":1,\"ref\":\"refs/heads/main\",\"head\":\"aa00e79242884dd7e69eed90ed4da748179b0520\",\"before\":\"eac494a7bed04874556464cfc2b4af25bbbbeccb\",\"commits\":[{\"sha\":\"aa00e79242884dd7e69eed90ed4da748179b0520\",\"author\":{\"email\":\"32224847+Pjoao1578@users.noreply.github.com\",\"name\":\"Pjoao1578\"},\"message\":\"Update DLL1\",\"distinct\":true,\"url\":\"https://api.github.com/repos/Pjoao1578/Upcrypter/commits/aa00e79242884dd7e69eed90ed4da748179b0520\"}]},\"public\":true,\"created_at\":\"2023-05-08T19:47:03Z\"},{\"id\":\"28927456063\",\"type\":\"PushEvent\",\"actor\":{\"id\":119446310,\"login\":\"i8Raffles\",\"display_login\":\"i8Raffles\",\"gravatar_id\":\"\",\"url\":\"https://api.github.com/users/i8Raffles\",\"avatar_url\":\"https://avatars.githubusercontent.com/u/119446310?\"},\"repo\":{\"id\":635016735,\"name\":\"i8Raffles/lotide\",\"url\":\"https://api.github.com/repos/i8Raffles/lotide\"},\"payload\":{\"repository_id\":635016735,\"push_id\":13565005689,\"size\":1,\"distinct_size\":1,\"ref\":\"refs/heads/master\",\"head\":\"d8e556a801fa870650920567823bfbe2b87cffd5\",\"before\":\"69978ec219ace5cca6936fc4f3e7dc3ce7cf5665\",\"commits\":[{\"sha\":\"d8e556a801fa870650920567823bfbe2b87cffd5\",\"author\":{\"email\":\"muhtasimyasser@gmail.com\",\"name\":\"Md Muhtasim Yasser\"},\"message\":\"added index with all function availability\",\"distinct\":true,\"url\":\"https://api.github.com/repos/i8Raffles/lotide/commits/d8e556a801fa870650920567823bfbe2b87cffd5\"}]},\"public\":true,\"created_at\":\"2023-05-08T19:47:03Z\"},{\"id\":\"28927456039\",\"type\":\"PullRequestReviewCommentEvent\",\"actor\":{\"id\":21186993,\"login\":\"caohai\",\"display_login\":\"caohai\",\"gravatar_id\":\"\",\"url\":\"https://api.github.com/users/caohai\",\"avatar_url\":\"https://avatars.githubusercontent.com/u/21186993?\"},\"repo\":{\"id\":109200851,\"name\":\"microsoft/azuredatastudio\",\"url\":\"https://api.github.com/repos/microsoft/azuredatastudio\"},\"payload\":{\"action\":\"created\",\"comment\":{\"url\":\"https://api.github.com/repos/microsoft/azuredatastudio/pulls/comments/1187827596\",\"pull_request_review_id\":1417405633,\"id\":1187827596,\"node_id\":\"PRRC_kwDOBoJF085GzM-M\",\"diff_hunk\":\"@@ -107,14 +117,16 @@ export class FindObjectDialog extends DialogBase<FindObjectDialogResult> {\\\\n \\\\t\\\\tthis.objectsLoadingComponent.loading = true;\\\\n \\\\t\\\\tthis.findButton.enabled = false;\\\\n \\\\t\\\\ttry {\\\\n-\\\\t\\\\t\\\\tconst results = await this.objectManagementService.search(this.options.contextId, <mssql.ObjectManagement.NodeType[]>this.selectedObjectTypes);\\\\n+\\\\t\\\\t\\\\tconst results = await this.objectManagementService.search(this.options.contextId, this.selectedObjectTypes);\",\"path\":\"extensions/mssql/src/objectManagement/ui/findObjectDialog.ts\",\"commit_id\":\"e15ef0d1056512c959f2241f248c3a845db31a09\",\"original_commit_id\":\"e15ef0d1056512c959f2241f248c3a845db31a09\",\"user\":{\"login\":\"caohai\",\"id\":21186993,\"node_id\":\"MDQ6VXNlcjIxMTg2OTkz\",\"avatar_url\":\"https://avatars.githubusercontent.com/u/21186993?v=4\",\"gravatar_id\":\"\",\"url\":\"https://api.github.com/users/caohai\",\"html_url\":\"https://github.com/caohai\",\"followers_url\":\"https://api.github.com/users/caohai/followers\",\"following_url\":\"https://api.github.com/users/caohai/following{/other_user}\",\"gists_url\":\"https://api.github.com/users/caohai/gists{/gist_id}\",\"starred_url\":\"https://api.github.com/users/caohai/starred{/owner}{/repo}\",\"subscriptions_url\":\"https://api.github.com/users/caohai/subscriptions\",\"organizations_url\":\"https://api.github.com/users/caohai/orgs\",\"repos_url\":\"https://api.github.com/users/caohai/repos\",\"events_url\":\"https://api.github.com/users/caohai/events{/privacy}\",\"received_events_url\":\"https://api.github.com/users/caohai/received_events\",\"type\":\"User\",\"site_admin\":false},\"body\":\"`this.selectedObjectTypes.map(item => this.getObjectTypeName(item))`?\",\"created_at\":\"2023-05-08T19:47:02Z\",\"updated_at\":\"2023-05-08T19:47:03Z\",\"html_url\":\"https://github.com/microsoft/azuredatastudio/pull/22936#discussion_r1187827596\",\"pull_request_url\":\"https://api.github.com/repos/microsoft/azuredatastudio/pulls/22936\",\"author_association\":\"MEMBER\",\"_links\":{\"self\":{\"href\":\"https://api.github.com/repos/microsoft/azuredatastudio/pulls/comments/1187827596\"},\"html\":{\"href\":\"https://github.com/microsoft/azuredatastudio/pull/22936#discussion_r1187827596\"},\"pull_request\":{\"href\":\"https://api.github.com/repos/microsoft/azuredatastudio/pulls/22936\"}},\"reactions\":{\"url\":\"https://api.github.com/repos/microsoft/azuredatastudio/pulls/comments/1187827596/reactions\",\"total_count\":0,\"+1\":0,\"-1\":0,\"laugh\":0,\"hooray\":0,\"confused\":0,\"heart\":0,\"rocket\":0,\"eyes\":0},\"start_line\":null,\"original_start_line\":null,\"start_side\":null,\"line\":120,\"original_line\":120,\"side\":\"RIGHT\",\"original_position\":112,\"position\":112,\"subject_type\":\"line\"},\"pull_request\":{\"url\":\"https://api.github.com/repos/microsoft/azuredatastudio/pulls/22936\",\"id\":1335918835,\"node_id\":\"PR_kwDOBoJF085PoIDz\",\"html_url\":\"https://github.com/microsoft/azuredatastudio/pull/22936\",\"diff_url\":\"https://github.com/microsoft/azuredatastudio/pull/22936.diff\",\"patch_url\":\"https://github.com/microsoft/azuredatastudio/pull/22936.patch\",\"issue_url\":\"https://api.github.com/repos/microsoft/azuredatastudio/issues/22936\",\"number\":22936,\"state\":\"open\",\"locked\":false,\"title\":\"add securable settings\",\"user\":{\"login\":\"alanrenmsft\",\"id\":13777222,\"node_id\":\"MDQ6VXNlcjEzNzc3MjIy\",\"avatar_url\":\"https://avatars.githubusercontent.com/u/13777222?v=4\",\"gravatar_id\":\"\",\"url\":\"https://api.github.com/users/alanrenmsft\",\"html_url\":\"https://github.com/alanrenmsft\",\"followers_url\":\"https://api.github.com/users/alanrenmsft/followers\",\"following_url\":\"https://api.github.com/users/alanrenmsft/following{/other_user}\",\"gists_url\":\"https://api.github.com/users/alanrenmsft/gists{/gist_id}\",\"starred_url\":\"https://api.github.com/users/alanrenmsft/starred{/owner}{/repo}\",\"subscriptions_url\":\"https://api.github.com/users/alanrenmsft/subscriptions\",\"organizations_url\":\"https://api.github.com/users/alanrenmsft/orgs\",\"repos_url\":\"https://api.github.com/users/alanrenmsft/repos\",\"events_url\":\"https://api.github.com/users/alanrenmsft/events{/privacy}\",\"received_events_url\":\"https://api.github.com/users/alanrenmsft/received_events\",\"type\":\"User\",\"site_admin\":false},\"body\":\"NOTE: the screenshots are based on test data. Hai is working on the STS changes.\\\\r\\\\n\\\\r\\\\nserver level objects:\\\\r\\\\n![server-level-securable](https://user-images.githubusercontent.com/13777222/235801025-c87a5417-a3a4-4206-9b75-57ddd5f08de4.gif)\\\\r\\\\n\\\\r\\\\n\\\\r\\\\ndatabase level objects:\\\\r\\\\n![db-level-securable](https://user-images.githubusercontent.com/13777222/235801042-a0993ba4-bd17-4a64-ab6d-48bd686461dd.gif)\\\\r\\\\n\",\"created_at\":\"2023-05-02T22:45:31Z\",\"updated_at\":\"2023-05-08T19:47:02Z\",\"closed_at\":null,\"merged_at\":null,\"merge_commit_sha\":\"4c67f94fb3d62f4adacfbb8b7fd6582f2be61a06\",\"assignee\":null,\"assignees\":[],\"requested_reviewers\":[],\"requested_teams\":[],\"labels\":[],\"milestone\":null,\"draft\":true,\"commits_url\":\"https://api.github.com/repos/microsoft/azuredatastudio/pulls/22936/commits\",\"review_comments_url\":\"https://api.github.com/repos/microsoft/azuredatastudio/pulls/22936/comments\",\"review_comment_url\":\"https://api.github.com/repos/microsoft/azuredatastudio/pulls/comments{/number}\",\"comments_url\":\"https://api.github.com/repos/microsoft/azuredatastudio/issues/22936/comments\",\"statuses_url\":\"https://api.github.com/repos/microsoft/azuredatastudio/statuses/e15ef0d1056512c959f2241f248c3a845db31a09\",\"head\":{\"label\":\"microsoft:alanren/securable-settings\",\"ref\":\"alanren/securable-settings\",\"sha\":\"e15ef0d1056512c959f2241f248c3a845db31a09\",\"user\":{\"login\":\"microsoft\",\"id\":6154722,\"node_id\":\"MDEyOk9yZ2FuaXphdGlvbjYxNTQ3MjI=\",\"avatar_url\":\"https://avatars.githubusercontent.com/u/6154722?v=4\",\"gravatar_id\":\"\",\"url\":\"https://api.github.com/users/microsoft\",\"html_url\":\"https://github.com/microsoft\",\"followers_url\":\"https://api.github.com/users/microsoft/followers\",\"following_url\":\"https://api.github.com/users/microsoft/following{/other_user}\",\"gists_url\":\"https://api.github.com/users/microsoft/gists{/gist_id}\",\"starred_url\":\"https://api.github.com/users/microsoft/starred{/owner}{/repo}\",\"subscriptions_url\":\"https://api.github.com/users/microsoft/subscriptions\",\"organizations_url\":\"https://api.github.com/users/microsoft/orgs\",\"repos_url\":\"https://api.github.com/users/microsoft/repos\",\"events_url\":\"https://api.github.com/users/microsoft/events{/privacy}\",\"received_events_url\":\"https://api.github.com/users/microsoft/received_events\",\"type\":\"Organization\",\"site_admin\":false},\"repo\":{\"id\":109200851,\"node_id\":\"MDEwOlJlcG9zaXRvcnkxMDkyMDA4NTE=\",\"name\":\"azuredatastudio\",\"full_name\":\"microsoft/azuredatastudio\",\"private\":false,\"owner\":{\"login\":\"microsoft\",\"id\":6154722,\"node_id\":\"MDEyOk9yZ2FuaXphdGlvbjYxNTQ3MjI=\",\"avatar_url\":\"https://avatars.githubusercontent.com/u/6154722?v=4\",\"gravatar_id\":\"\",\"url\":\"https://api.github.com/users/microsoft\",\"html_url\":\"https://github.com/microsoft\",\"followers_url\":\"https://api.github.com/users/microsoft/followers\",\"following_url\":\"https://api.github.com/users/microsoft/following{/other_user}\",\"gists_url\":\"https://api.github.com/users/microsoft/gists{/gist_id}\",\"starred_url\":\"https://api.github.com/users/microsoft/starred{/owner}{/repo}\",\"subscriptions_url\":\"https://api.github.com/users/microsoft/subscriptions\",\"organizations_url\":\"https://api.github.com/users/microsoft/orgs\",\"repos_url\":\"https://api.github.com/users/microsoft/repos\",\"events_url\":\"https://api.github.com/users/microsoft/events{/privacy}\",\"received_events_url\":\"https://api.github.com/users/microsoft/received_events\",\"type\":\"Organization\",\"site_admin\":false},\"html_url\":\"https://github.com/microsoft/azuredatastudio\",\"description\":\"Azure Data Studio is a data management and development tool with connectivity to popular cloud and on-premises databases. Azure Data Studio supports Windows, macOS, and Linux, with immediate capability to connect to Azure SQL and SQL Server. Browse the extension library for more database support options including MySQL, PostreSQL, and MongoDB.\",\"fork\":false,\"url\":\"https://api.github.com/repos/microsoft/azuredatastudio\",\"forks_url\":\"https://api.github.com/repos/microsoft/azuredatastudio/forks\",\"keys_url\":\"https://api.github.com/repos/microsoft/azuredatastudio/keys{/key_id}\",\"collaborators_url\":\"https://api.github.com/repos/microsoft/azuredatastudio/collaborators{/collaborator}\",\"teams_url\":\"https://api.github.com/repos/microsoft/azuredatastudio/teams\",\"hooks_url\":\"https://api.github.com/repos/microsoft/azuredatastudio/hooks\",\"issue_events_url\":\"https://api.github.com/repos/microsoft/azuredatastudio/issues/events{/number}\",\"events_url\":\"https://api.github.com/repos/microsoft/azuredatastudio/events\",\"assignees_url\":\"https://api.github.com/repos/microsoft/azuredatastudio/assignees{/user}\",\"branches_url\":\"https://api.github.com/repos/microsoft/azuredatastudio/branches{/branch}\",\"tags_url\":\"https://api.github.com/repos/microsoft/azuredatastudio/tags\",\"blobs_url\":\"https://api.github.com/repos/microsoft/azuredatastudio/git/blobs{/sha}\",\"git_tags_url\":\"https://api.github.com/repos/microsoft/azuredatastudio/git/tags{/sha}\",\"git_refs_url\":\"https://api.github.com/repos/microsoft/azuredatastudio/git/refs{/sha}\",\"trees_url\":\"https://api.github.com/repos/microsoft/azuredatastudio/git/trees{/sha}\",\"statuses_url\":\"https://api.github.com/repos/microsoft/azuredatastudio/statuses/{sha}\",\"languages_url\":\"https://api.github.com/repos/microsoft/azuredatastudio/languages\",\"stargazers_url\":\"https://api.github.com/repos/microsoft/azuredatastudio/stargazers\",\"contributors_url\":\"https://api.github.com/repos/microsoft/azuredatastudio/contributors\",\"subscribers_url\":\"https://api.github.com/repos/microsoft/azuredatastudio/subscribers\",\"subscription_url\":\"https://api.github.com/repos/microsoft/azuredatastudio/subscription\",\"commits_url\":\"https://api.github.com/repos/microsoft/azuredatastudio/commits{/sha}\",\"git_commits_url\":\"https://api.github.com/repos/microsoft/azuredatastudio/git/commits{/sha}\",\"comments_url\":\"https://api.github.com/repos/microsoft/azuredatastudio/comments{/number}\",\"issue_comment_url\":\"https://api.github.com/repos/microsoft/azuredatastudio/issues/comments{/number}\",\"contents_url\":\"https://api.github.com/repos/microsoft/azuredatastudio/contents/{+path}\",\"compare_url\":\"https://api.github.com/repos/microsoft/azuredatastudio/compare/{base}...{head}\",\"merges_url\":\"https://api.github.com/repos/microsoft/azuredatastudio/merges\",\"archive_url\":\"https://api.github.com/repos/microsoft/azuredatastudio/{archive_format}{/ref}\",\"downloads_url\":\"https://api.github.com/repos/microsoft/azuredatastudio/downloads\",\"issues_url\":\"https://api.github.com/repos/microsoft/azuredatastudio/issues{/number}\",\"pulls_url\":\"https://api.github.com/repos/microsoft/azuredatastudio/pulls{/number}\",\"milestones_url\":\"https://api.github.com/repos/microsoft/azuredatastudio/milestones{/number}\",\"notifications_url\":\"https://api.github.com/repos/microsoft/azuredatastudio/notifications{?since,all,participating}\",\"labels_url\":\"https://api.github.com/repos/microsoft/azuredatastudio/labels{/name}\",\"releases_url\":\"https://api.github.com/repos/microsoft/azuredatastudio/releases{/id}\",\"deployments_url\":\"https://api.github.com/repos/microsoft/azuredatastudio/deployments\",\"created_at\":\"2017-11-02T01:00:13Z\",\"updated_at\":\"2023-05-08T03:06:09Z\",\"pushed_at\":\"2023-05-08T19:26:22Z\",\"git_url\":\"git://github.com/microsoft/azuredatastudio.git\",\"ssh_url\":\"git@github.com:microsoft/azuredatastudio.git\",\"clone_url\":\"https://github.com/microsoft/azuredatastudio.git\",\"svn_url\":\"https://github.com/microsoft/azuredatastudio\",\"homepage\":\"https://learn.microsoft.com/sql/azure-data-studio\",\"size\":625996,\"stargazers_count\":7125,\"watchers_count\":7125,\"language\":\"TypeScript\",\"has_issues\":true,\"has_projects\":true,\"has_downloads\":true,\"has_wiki\":true,\"has_pages\":false,\"has_discussions\":true,\"forks_count\":860,\"mirror_url\":null,\"archived\":false,\"disabled\":false,\"open_issues_count\":2108,\"license\":{\"key\":\"other\",\"name\":\"Other\",\"spdx_id\":\"NOASSERTION\",\"url\":null,\"node_id\":\"MDc6TGljZW5zZTA=\"},\"allow_forking\":true,\"is_template\":false,\"web_commit_signoff_required\":false,\"topics\":[\"azure\",\"azure-data-studio\",\"electron\",\"microsoft\",\"postgresql\",\"sql\",\"sql-server\",\"typescript\"],\"visibility\":\"public\",\"forks\":860,\"open_issues\":2108,\"watchers\":7125,\"default_branch\":\"main\"}},\"base\":{\"label\":\"microsoft:main\",\"ref\":\"main\",\"sha\":\"25bc14fb25579822a49f82e0cdbab02f2855b5d4\",\"user\":{\"login\":\"microsoft\",\"id\":6154722,\"node_id\":\"MDEyOk9yZ2FuaXphdGlvbjYxNTQ3MjI=\",\"avatar_url\":\"https://avatars.githubusercontent.com/u/6154722?v=4\",\"gravatar_id\":\"\",\"url\":\"https://api.github.com/users/microsoft\",\"html_url\":\"https://github.com/microsoft\",\"followers_url\":\"https://api.github.com/users/microsoft/followers\",\"following_url\":\"https://api.github.com/users/microsoft/following{/other_user}\",\"gists_url\":\"https://api.github.com/users/microsoft/gists{/gist_id}\",\"starred_url\":\"https://api.github.com/users/microsoft/starred{/owner}{/repo}\",\"subscriptions_url\":\"https://api.github.com/users/microsoft/subscriptions\",\"organizations_url\":\"https://api.github.com/users/microsoft/orgs\",\"repos_url\":\"https://api.github.com/users/microsoft/repos\",\"events_url\":\"https://api.github.com/users/microsoft/events{/privacy}\",\"received_events_url\":\"https://api.github.com/users/microsoft/received_events\",\"type\":\"Organization\",\"site_admin\":false},\"repo\":{\"id\":109200851,\"node_id\":\"MDEwOlJlcG9zaXRvcnkxMDkyMDA4NTE=\",\"name\":\"azuredatastudio\",\"full_name\":\"microsoft/azuredatastudio\",\"private\":false,\"owner\":{\"login\":\"microsoft\",\"id\":6154722,\"node_id\":\"MDEyOk9yZ2FuaXphdGlvbjYxNTQ3MjI=\",\"avatar_url\":\"https://avatars.githubusercontent.com/u/6154722?v=4\",\"gravatar_id\":\"\",\"url\":\"https://api.github.com/users/microsoft\",\"html_url\":\"https://github.com/microsoft\",\"followers_url\":\"https://api.github.com/users/microsoft/followers\",\"following_url\":\"https://api.github.com/users/microsoft/following{/other_user}\",\"gists_url\":\"https://api.github.com/users/microsoft/gists{/gist_id}\",\"starred_url\":\"https://api.github.com/users/microsoft/starred{/owner}{/repo}\",\"subscriptions_url\":\"https://api.github.com/users/microsoft/subscriptions\",\"organizations_url\":\"https://api.github.com/users/microsoft/orgs\",\"repos_url\":\"https://api.github.com/users/microsoft/repos\",\"events_url\":\"https://api.github.com/users/microsoft/events{/privacy}\",\"received_events_url\":\"https://api.github.com/users/microsoft/received_events\",\"type\":\"Organization\",\"site_admin\":false},\"html_url\":\"https://github.com/microsoft/azuredatastudio\",\"description\":\"Azure Data Studio is a data management and development tool with connectivity to popular cloud and on-premises databases. Azure Data Studio supports Windows, macOS, and Linux, with immediate capability to connect to Azure SQL and SQL Server. Browse the extension library for more database support options including MySQL, PostreSQL, and MongoDB.\",\"fork\":false,\"url\":\"https://api.github.com/repos/microsoft/azuredatastudio\",\"forks_url\":\"https://api.github.com/repos/microsoft/azuredatastudio/forks\",\"keys_url\":\"https://api.github.com/repos/microsoft/azuredatastudio/keys{/key_id}\",\"collaborators_url\":\"https://api.github.com/repos/microsoft/azuredatastudio/collaborators{/collaborator}\",\"teams_url\":\"https://api.github.com/repos/microsoft/azuredatastudio/teams\",\"hooks_url\":\"https://api.github.com/repos/microsoft/azuredatastudio/hooks\",\"issue_events_url\":\"https://api.github.com/repos/microsoft/azuredatastudio/issues/events{/number}\",\"events_url\":\"https://api.github.com/repos/microsoft/azuredatastudio/events\",\"assignees_url\":\"https://api.github.com/repos/microsoft/azuredatastudio/assignees{/user}\",\"branches_url\":\"https://api.github.com/repos/microsoft/azuredatastudio/branches{/branch}\",\"tags_url\":\"https://api.github.com/repos/microsoft/azuredatastudio/tags\",\"blobs_url\":\"https://api.github.com/repos/microsoft/azuredatastudio/git/blobs{/sha}\",\"git_tags_url\":\"https://api.github.com/repos/microsoft/azuredatastudio/git/tags{/sha}\",\"git_refs_url\":\"https://api.github.com/repos/microsoft/azuredatastudio/git/refs{/sha}\",\"trees_url\":\"https://api.github.com/repos/microsoft/azuredatastudio/git/trees{/sha}\",\"statuses_url\":\"https://api.github.com/repos/microsoft/azuredatastudio/statuses/{sha}\",\"languages_url\":\"https://api.github.com/repos/microsoft/azuredatastudio/languages\",\"stargazers_url\":\"https://api.github.com/repos/microsoft/azuredatastudio/stargazers\",\"contributors_url\":\"https://api.github.com/repos/microsoft/azuredatastudio/contributors\",\"subscribers_url\":\"https://api.github.com/repos/microsoft/azuredatastudio/subscribers\",\"subscription_url\":\"https://api.github.com/repos/microsoft/azuredatastudio/subscription\",\"commits_url\":\"https://api.github.com/repos/microsoft/azuredatastudio/commits{/sha}\",\"git_commits_url\":\"https://api.github.com/repos/microsoft/azuredatastudio/git/commits{/sha}\",\"comments_url\":\"https://api.github.com/repos/microsoft/azuredatastudio/comments{/number}\",\"issue_comment_url\":\"https://api.github.com/repos/microsoft/azuredatastudio/issues/comments{/number}\",\"contents_url\":\"https://api.github.com/repos/microsoft/azuredatastudio/contents/{+path}\",\"compare_url\":\"https://api.github.com/repos/microsoft/azuredatastudio/compare/{base}...{head}\",\"merges_url\":\"https://api.github.com/repos/microsoft/azuredatastudio/merges\",\"archive_url\":\"https://api.github.com/repos/microsoft/azuredatastudio/{archive_format}{/ref}\",\"downloads_url\":\"https://api.github.com/repos/microsoft/azuredatastudio/downloads\",\"issues_url\":\"https://api.github.com/repos/microsoft/azuredatastudio/issues{/number}\",\"pulls_url\":\"https://api.github.com/repos/microsoft/azuredatastudio/pulls{/number}\",\"milestones_url\":\"https://api.github.com/repos/microsoft/azuredatastudio/milestones{/number}\",\"notifications_url\":\"https://api.github.com/repos/microsoft/azuredatastudio/notifications{?since,all,participating}\",\"labels_url\":\"https://api.github.com/repos/microsoft/azuredatastudio/labels{/name}\",\"releases_url\":\"https://api.github.com/repos/microsoft/azuredatastudio/releases{/id}\",\"deployments_url\":\"https://api.github.com/repos/microsoft/azuredatastudio/deployments\",\"created_at\":\"2017-11-02T01:00:13Z\",\"updated_at\":\"2023-05-08T03:06:09Z\",\"pushed_at\":\"2023-05-08T19:26:22Z\",\"git_url\":\"git://github.com/microsoft/azuredatastudio.git\",\"ssh_url\":\"git@github.com:microsoft/azuredatastudio.git\",\"clone_url\":\"https://github.com/microsoft/azuredatastudio.git\",\"svn_url\":\"https://github.com/microsoft/azuredatastudio\",\"homepage\":\"https://learn.microsoft.com/sql/azure-data-studio\",\"size\":625996,\"stargazers_count\":7125,\"watchers_count\":7125,\"language\":\"TypeScript\",\"has_issues\":true,\"has_projects\":true,\"has_downloads\":true,\"has_wiki\":true,\"has_pages\":false,\"has_discussions\":true,\"forks_count\":860,\"mirror_url\":null,\"archived\":false,\"disabled\":false,\"open_issues_count\":2108,\"license\":{\"key\":\"other\",\"name\":\"Other\",\"spdx_id\":\"NOASSERTION\",\"url\":null,\"node_id\":\"MDc6TGljZW5zZTA=\"},\"allow_forking\":true,\"is_template\":false,\"web_commit_signoff_required\":false,\"topics\":[\"azure\",\"azure-data-studio\",\"electron\",\"microsoft\",\"postgresql\",\"sql\",\"sql-server\",\"typescript\"],\"visibility\":\"public\",\"forks\":860,\"open_issues\":2108,\"watchers\":7125,\"default_branch\":\"main\"}},\"_links\":{\"self\":{\"href\":\"https://api.github.com/repos/microsoft/azuredatastudio/pulls/22936\"},\"html\":{\"href\":\"https://github.com/microsoft/azuredatastudio/pull/22936\"},\"issue\":{\"href\":\"https://api.github.com/repos/microsoft/azuredatastudio/issues/22936\"},\"comments\":{\"href\":\"https://api.github.com/repos/microsoft/azuredatastudio/issues/22936/comments\"},\"review_comments\":{\"href\":\"https://api.github.com/repos/microsoft/azuredatastudio/pulls/22936/comments\"},\"review_comment\":{\"href\":\"https://api.github.com/repos/microsoft/azuredatastudio/pulls/comments{/number}\"},\"commits\":{\"href\":\"https://api.github.com/repos/microsoft/azuredatastudio/pulls/22936/commits\"},\"statuses\":{\"href\":\"https://api.github.com/repos/microsoft/azuredatastudio/statuses/e15ef0d1056512c959f2241f248c3a845db31a09\"}},\"author_association\":\"CONTRIBUTOR\",\"auto_merge\":null,\"active_lock_reason\":null}},\"public\":true,\"created_at\":\"2023-05-08T19:47:02Z\",\"org\":{\"id\":6154722,\"login\":\"microsoft\",\"gravatar_id\":\"\",\"url\":\"https://api.github.com/orgs/microsoft\",\"avatar_url\":\"https://avatars.githubusercontent.com/u/6154722?\"}},{\"id\":\"28927456040\",\"type\":\"PullRequestReviewEvent\",\"actor\":{\"id\":21186993,\"login\":\"caohai\",\"display_login\":\"caohai\",\"gravatar_id\":\"\",\"url\":\"https://api.github.com/users/caohai\",\"avatar_url\":\"https://avatars.githubusercontent.com/u/21186993?\"},\"repo\":{\"id\":109200851,\"name\":\"microsoft/azuredatastudio\",\"url\":\"https://api.github.com/repos/microsoft/azuredatastudio\"},\"payload\":{\"action\":\"created\",\"review\":{\"id\":1417405633,\"node_id\":\"PRR_kwDOBoJF085Ue-TB\",\"user\":{\"login\":\"caohai\",\"id\":21186993,\"node_id\":\"MDQ6VXNlcjIxMTg2OTkz\",\"avatar_url\":\"https://avatars.githubusercontent.com/u/21186993?v=4\",\"gravatar_id\":\"\",\"url\":\"https://api.github.com/users/caohai\",\"html_url\":\"https://github.com/caohai\",\"followers_url\":\"https://api.github.com/users/caohai/followers\",\"following_url\":\"https://api.github.com/users/caohai/following{/other_user}\",\"gists_url\":\"https://api.github.com/users/caohai/gists{/gist_id}\",\"starred_url\":\"https://api.github.com/users/caohai/starred{/owner}{/repo}\",\"subscriptions_url\":\"https://api.github.com/users/caohai/subscriptions\",\"organizations_url\":\"https://api.github.com/users/caohai/orgs\",\"repos_url\":\"https://api.github.com/users/caohai/repos\",\"events_url\":\"https://api.github.com/users/caohai/events{/privacy}\",\"received_events_url\":\"https://api.github.com/users/caohai/received_events\",\"type\":\"User\",\"site_admin\":false},\"body\":null,\"commit_id\":\"e15ef0d1056512c959f2241f248c3a845db31a09\",\"submitted_at\":\"2023-05-08T19:47:02Z\",\"state\":\"commented\",\"html_url\":\"https://github.com/microsoft/azuredatastudio/pull/22936#pullrequestreview-1417405633\",\"pull_request_url\":\"https://api.github.com/repos/microsoft/azuredatastudio/pulls/22936\",\"author_association\":\"MEMBER\",\"_links\":{\"html\":{\"href\":\"https://github.com/microsoft/azuredatastudio/pull/22936#pullrequestreview-1417405633\"},\"pull_request\":{\"href\":\"https://api.github.com/repos/microsoft/azuredatastudio/pulls/22936\"}}},\"pull_request\":{\"url\":\"https://api.github.com/repos/microsoft/azuredatastudio/pulls/22936\",\"id\":1335918835,\"node_id\":\"PR_kwDOBoJF085PoIDz\",\"html_url\":\"https://github.com/microsoft/azuredatastudio/pull/22936\",\"diff_url\":\"https://github.com/microsoft/azuredatastudio/pull/22936.diff\",\"patch_url\":\"https://github.com/microsoft/azuredatastudio/pull/22936.patch\",\"issue_url\":\"https://api.github.com/repos/microsoft/azuredatastudio/issues/22936\",\"number\":22936,\"state\":\"open\",\"locked\":false,\"title\":\"add securable settings\",\"user\":{\"login\":\"alanrenmsft\",\"id\":13777222,\"node_id\":\"MDQ6VXNlcjEzNzc3MjIy\",\"avatar_url\":\"https://avatars.githubusercontent.com/u/13777222?v=4\",\"gravatar_id\":\"\",\"url\":\"https://api.github.com/users/alanrenmsft\",\"html_url\":\"https://github.com/alanrenmsft\",\"followers_url\":\"https://api.github.com/users/alanrenmsft/followers\",\"following_url\":\"https://api.github.com/users/alanrenmsft/following{/other_user}\",\"gists_url\":\"https://api.github.com/users/alanrenmsft/gists{/gist_id}\",\"starred_url\":\"https://api.github.com/users/alanrenmsft/starred{/owner}{/repo}\",\"subscriptions_url\":\"https://api.github.com/users/alanrenmsft/subscriptions\",\"organizations_url\":\"https://api.github.com/users/alanrenmsft/orgs\",\"repos_url\":\"https://api.github.com/users/alanrenmsft/repos\",\"events_url\":\"https://api.github.com/users/alanrenmsft/events{/privacy}\",\"received_events_url\":\"https://api.github.com/users/alanrenmsft/received_events\",\"type\":\"User\",\"site_admin\":false},\"body\":\"NOTE: the screenshots are based on test data. Hai is working on the STS changes.\\\\r\\\\n\\\\r\\\\nserver level objects:\\\\r\\\\n![server-level-securable](https://user-images.githubusercontent.com/13777222/235801025-c87a5417-a3a4-4206-9b75-57ddd5f08de4.gif)\\\\r\\\\n\\\\r\\\\n\\\\r\\\\ndatabase level objects:\\\\r\\\\n![db-level-securable](https://user-images.githubusercontent.com/13777222/235801042-a0993ba4-bd17-4a64-ab6d-48bd686461dd.gif)\\\\r\\\\n\",\"created_at\":\"2023-05-02T22:45:31Z\",\"updated_at\":\"2023-05-08T19:47:02Z\",\"closed_at\":null,\"merged_at\":null,\"merge_commit_sha\":\"4c67f94fb3d62f4adacfbb8b7fd6582f2be61a06\",\"assignee\":null,\"assignees\":[],\"requested_reviewers\":[],\"requested_teams\":[],\"labels\":[],\"milestone\":null,\"draft\":true,\"commits_url\":\"https://api.github.com/repos/microsoft/azuredatastudio/pulls/22936/commits\",\"review_comments_url\":\"https://api.github.com/repos/microsoft/azuredatastudio/pulls/22936/comments\",\"review_comment_url\":\"https://api.github.com/repos/microsoft/azuredatastudio/pulls/comments{/number}\",\"comments_url\":\"https://api.github.com/repos/microsoft/azuredatastudio/issues/22936/comments\",\"statuses_url\":\"https://api.github.com/repos/microsoft/azuredatastudio/statuses/e15ef0d1056512c959f2241f248c3a845db31a09\",\"head\":{\"label\":\"microsoft:alanren/securable-settings\",\"ref\":\"alanren/securable-settings\",\"sha\":\"e15ef0d1056512c959f2241f248c3a845db31a09\",\"user\":{\"login\":\"microsoft\",\"id\":6154722,\"node_id\":\"MDEyOk9yZ2FuaXphdGlvbjYxNTQ3MjI=\",\"avatar_url\":\"https://avatars.githubusercontent.com/u/6154722?v=4\",\"gravatar_id\":\"\",\"url\":\"https://api.github.com/users/microsoft\",\"html_url\":\"https://github.com/microsoft\",\"followers_url\":\"https://api.github.com/users/microsoft/followers\",\"following_url\":\"https://api.github.com/users/microsoft/following{/other_user}\",\"gists_url\":\"https://api.github.com/users/microsoft/gists{/gist_id}\",\"starred_url\":\"https://api.github.com/users/microsoft/starred{/owner}{/repo}\",\"subscriptions_url\":\"https://api.github.com/users/microsoft/subscriptions\",\"organizations_url\":\"https://api.github.com/users/microsoft/orgs\",\"repos_url\":\"https://api.github.com/users/microsoft/repos\",\"events_url\":\"https://api.github.com/users/microsoft/events{/privacy}\",\"received_events_url\":\"https://api.github.com/users/microsoft/received_events\",\"type\":\"Organization\",\"site_admin\":false},\"repo\":{\"id\":109200851,\"node_id\":\"MDEwOlJlcG9zaXRvcnkxMDkyMDA4NTE=\",\"name\":\"azuredatastudio\",\"full_name\":\"microsoft/azuredatastudio\",\"private\":false,\"owner\":{\"login\":\"microsoft\",\"id\":6154722,\"node_id\":\"MDEyOk9yZ2FuaXphdGlvbjYxNTQ3MjI=\",\"avatar_url\":\"https://avatars.githubusercontent.com/u/6154722?v=4\",\"gravatar_id\":\"\",\"url\":\"https://api.github.com/users/microsoft\",\"html_url\":\"https://github.com/microsoft\",\"followers_url\":\"https://api.github.com/users/microsoft/followers\",\"following_url\":\"https://api.github.com/users/microsoft/following{/other_user}\",\"gists_url\":\"https://api.github.com/users/microsoft/gists{/gist_id}\",\"starred_url\":\"https://api.github.com/users/microsoft/starred{/owner}{/repo}\",\"subscriptions_url\":\"https://api.github.com/users/microsoft/subscriptions\",\"organizations_url\":\"https://api.github.com/users/microsoft/orgs\",\"repos_url\":\"https://api.github.com/users/microsoft/repos\",\"events_url\":\"https://api.github.com/users/microsoft/events{/privacy}\",\"received_events_url\":\"https://api.github.com/users/microsoft/received_events\",\"type\":\"Organization\",\"site_admin\":false},\"html_url\":\"https://github.com/microsoft/azuredatastudio\",\"description\":\"Azure Data Studio is a data management and development tool with connectivity to popular cloud and on-premises databases. Azure Data Studio supports Windows, macOS, and Linux, with immediate capability to connect to Azure SQL and SQL Server. Browse the extension library for more database support options including MySQL, PostreSQL, and MongoDB.\",\"fork\":false,\"url\":\"https://api.github.com/repos/microsoft/azuredatastudio\",\"forks_url\":\"https://api.github.com/repos/microsoft/azuredatastudio/forks\",\"keys_url\":\"https://api.github.com/repos/microsoft/azuredatastudio/keys{/key_id}\",\"collaborators_url\":\"https://api.github.com/repos/microsoft/azuredatastudio/collaborators{/collaborator}\",\"teams_url\":\"https://api.github.com/repos/microsoft/azuredatastudio/teams\",\"hooks_url\":\"https://api.github.com/repos/microsoft/azuredatastudio/hooks\",\"issue_events_url\":\"https://api.github.com/repos/microsoft/azuredatastudio/issues/events{/number}\",\"events_url\":\"https://api.github.com/repos/microsoft/azuredatastudio/events\",\"assignees_url\":\"https://api.github.com/repos/microsoft/azuredatastudio/assignees{/user}\",\"branches_url\":\"https://api.github.com/repos/microsoft/azuredatastudio/branches{/branch}\",\"tags_url\":\"https://api.github.com/repos/microsoft/azuredatastudio/tags\",\"blobs_url\":\"https://api.github.com/repos/microsoft/azuredatastudio/git/blobs{/sha}\",\"git_tags_url\":\"https://api.github.com/repos/microsoft/azuredatastudio/git/tags{/sha}\",\"git_refs_url\":\"https://api.github.com/repos/microsoft/azuredatastudio/git/refs{/sha}\",\"trees_url\":\"https://api.github.com/repos/microsoft/azuredatastudio/git/trees{/sha}\",\"statuses_url\":\"https://api.github.com/repos/microsoft/azuredatastudio/statuses/{sha}\",\"languages_url\":\"https://api.github.com/repos/microsoft/azuredatastudio/languages\",\"stargazers_url\":\"https://api.github.com/repos/microsoft/azuredatastudio/stargazers\",\"contributors_url\":\"https://api.github.com/repos/microsoft/azuredatastudio/contributors\",\"subscribers_url\":\"https://api.github.com/repos/microsoft/azuredatastudio/subscribers\",\"subscription_url\":\"https://api.github.com/repos/microsoft/azuredatastudio/subscription\",\"commits_url\":\"https://api.github.com/repos/microsoft/azuredatastudio/commits{/sha}\",\"git_commits_url\":\"https://api.github.com/repos/microsoft/azuredatastudio/git/commits{/sha}\",\"comments_url\":\"https://api.github.com/repos/microsoft/azuredatastudio/comments{/number}\",\"issue_comment_url\":\"https://api.github.com/repos/microsoft/azuredatastudio/issues/comments{/number}\",\"contents_url\":\"https://api.github.com/repos/microsoft/azuredatastudio/contents/{+path}\",\"compare_url\":\"https://api.github.com/repos/microsoft/azuredatastudio/compare/{base}...{head}\",\"merges_url\":\"https://api.github.com/repos/microsoft/azuredatastudio/merges\",\"archive_url\":\"https://api.github.com/repos/microsoft/azuredatastudio/{archive_format}{/ref}\",\"downloads_url\":\"https://api.github.com/repos/microsoft/azuredatastudio/downloads\",\"issues_url\":\"https://api.github.com/repos/microsoft/azuredatastudio/issues{/number}\",\"pulls_url\":\"https://api.github.com/repos/microsoft/azuredatastudio/pulls{/number}\",\"milestones_url\":\"https://api.github.com/repos/microsoft/azuredatastudio/milestones{/number}\",\"notifications_url\":\"https://api.github.com/repos/microsoft/azuredatastudio/notifications{?since,all,participating}\",\"labels_url\":\"https://api.github.com/repos/microsoft/azuredatastudio/labels{/name}\",\"releases_url\":\"https://api.github.com/repos/microsoft/azuredatastudio/releases{/id}\",\"deployments_url\":\"https://api.github.com/repos/microsoft/azuredatastudio/deployments\",\"created_at\":\"2017-11-02T01:00:13Z\",\"updated_at\":\"2023-05-08T03:06:09Z\",\"pushed_at\":\"2023-05-08T19:26:22Z\",\"git_url\":\"git://github.com/microsoft/azuredatastudio.git\",\"ssh_url\":\"git@github.com:microsoft/azuredatastudio.git\",\"clone_url\":\"https://github.com/microsoft/azuredatastudio.git\",\"svn_url\":\"https://github.com/microsoft/azuredatastudio\",\"homepage\":\"https://learn.microsoft.com/sql/azure-data-studio\",\"size\":625996,\"stargazers_count\":7125,\"watchers_count\":7125,\"language\":\"TypeScript\",\"has_issues\":true,\"has_projects\":true,\"has_downloads\":true,\"has_wiki\":true,\"has_pages\":false,\"has_discussions\":true,\"forks_count\":860,\"mirror_url\":null,\"archived\":false,\"disabled\":false,\"open_issues_count\":2108,\"license\":{\"key\":\"other\",\"name\":\"Other\",\"spdx_id\":\"NOASSERTION\",\"url\":null,\"node_id\":\"MDc6TGljZW5zZTA=\"},\"allow_forking\":true,\"is_template\":false,\"web_commit_signoff_required\":false,\"topics\":[\"azure\",\"azure-data-studio\",\"electron\",\"microsoft\",\"postgresql\",\"sql\",\"sql-server\",\"typescript\"],\"visibility\":\"public\",\"forks\":860,\"open_issues\":2108,\"watchers\":7125,\"default_branch\":\"main\"}},\"base\":{\"label\":\"microsoft:main\",\"ref\":\"main\",\"sha\":\"25bc14fb25579822a49f82e0cdbab02f2855b5d4\",\"user\":{\"login\":\"microsoft\",\"id\":6154722,\"node_id\":\"MDEyOk9yZ2FuaXphdGlvbjYxNTQ3MjI=\",\"avatar_url\":\"https://avatars.githubusercontent.com/u/6154722?v=4\",\"gravatar_id\":\"\",\"url\":\"https://api.github.com/users/microsoft\",\"html_url\":\"https://github.com/microsoft\",\"followers_url\":\"https://api.github.com/users/microsoft/followers\",\"following_url\":\"https://api.github.com/users/microsoft/following{/other_user}\",\"gists_url\":\"https://api.github.com/users/microsoft/gists{/gist_id}\",\"starred_url\":\"https://api.github.com/users/microsoft/starred{/owner}{/repo}\",\"subscriptions_url\":\"https://api.github.com/users/microsoft/subscriptions\",\"organizations_url\":\"https://api.github.com/users/microsoft/orgs\",\"repos_url\":\"https://api.github.com/users/microsoft/repos\",\"events_url\":\"https://api.github.com/users/microsoft/events{/privacy}\",\"received_events_url\":\"https://api.github.com/users/microsoft/received_events\",\"type\":\"Organization\",\"site_admin\":false},\"repo\":{\"id\":109200851,\"node_id\":\"MDEwOlJlcG9zaXRvcnkxMDkyMDA4NTE=\",\"name\":\"azuredatastudio\",\"full_name\":\"microsoft/azuredatastudio\",\"private\":false,\"owner\":{\"login\":\"microsoft\",\"id\":6154722,\"node_id\":\"MDEyOk9yZ2FuaXphdGlvbjYxNTQ3MjI=\",\"avatar_url\":\"https://avatars.githubusercontent.com/u/6154722?v=4\",\"gravatar_id\":\"\",\"url\":\"https://api.github.com/users/microsoft\",\"html_url\":\"https://github.com/microsoft\",\"followers_url\":\"https://api.github.com/users/microsoft/followers\",\"following_url\":\"https://api.github.com/users/microsoft/following{/other_user}\",\"gists_url\":\"https://api.github.com/users/microsoft/gists{/gist_id}\",\"starred_url\":\"https://api.github.com/users/microsoft/starred{/owner}{/repo}\",\"subscriptions_url\":\"https://api.github.com/users/microsoft/subscriptions\",\"organizations_url\":\"https://api.github.com/users/microsoft/orgs\",\"repos_url\":\"https://api.github.com/users/microsoft/repos\",\"events_url\":\"https://api.github.com/users/microsoft/events{/privacy}\",\"received_events_url\":\"https://api.github.com/users/microsoft/received_events\",\"type\":\"Organization\",\"site_admin\":false},\"html_url\":\"https://github.com/microsoft/azuredatastudio\",\"description\":\"Azure Data Studio is a data management and development tool with connectivity to popular cloud and on-premises databases. Azure Data Studio supports Windows, macOS, and Linux, with immediate capability to connect to Azure SQL and SQL Server. Browse the extension library for more database support options including MySQL, PostreSQL, and MongoDB.\",\"fork\":false,\"url\":\"https://api.github.com/repos/microsoft/azuredatastudio\",\"forks_url\":\"https://api.github.com/repos/microsoft/azuredatastudio/forks\",\"keys_url\":\"https://api.github.com/repos/microsoft/azuredatastudio/keys{/key_id}\",\"collaborators_url\":\"https://api.github.com/repos/microsoft/azuredatastudio/collaborators{/collaborator}\",\"teams_url\":\"https://api.github.com/repos/microsoft/azuredatastudio/teams\",\"hooks_url\":\"https://api.github.com/repos/microsoft/azuredatastudio/hooks\",\"issue_events_url\":\"https://api.github.com/repos/microsoft/azuredatastudio/issues/events{/number}\",\"events_url\":\"https://api.github.com/repos/microsoft/azuredatastudio/events\",\"assignees_url\":\"https://api.github.com/repos/microsoft/azuredatastudio/assignees{/user}\",\"branches_url\":\"https://api.github.com/repos/microsoft/azuredatastudio/branches{/branch}\",\"tags_url\":\"https://api.github.com/repos/microsoft/azuredatastudio/tags\",\"blobs_url\":\"https://api.github.com/repos/microsoft/azuredatastudio/git/blobs{/sha}\",\"git_tags_url\":\"https://api.github.com/repos/microsoft/azuredatastudio/git/tags{/sha}\",\"git_refs_url\":\"https://api.github.com/repos/microsoft/azuredatastudio/git/refs{/sha}\",\"trees_url\":\"https://api.github.com/repos/microsoft/azuredatastudio/git/trees{/sha}\",\"statuses_url\":\"https://api.github.com/repos/microsoft/azuredatastudio/statuses/{sha}\",\"languages_url\":\"https://api.github.com/repos/microsoft/azuredatastudio/languages\",\"stargazers_url\":\"https://api.github.com/repos/microsoft/azuredatastudio/stargazers\",\"contributors_url\":\"https://api.github.com/repos/microsoft/azuredatastudio/contributors\",\"subscribers_url\":\"https://api.github.com/repos/microsoft/azuredatastudio/subscribers\",\"subscription_url\":\"https://api.github.com/repos/microsoft/azuredatastudio/subscription\",\"commits_url\":\"https://api.github.com/repos/microsoft/azuredatastudio/commits{/sha}\",\"git_commits_url\":\"https://api.github.com/repos/microsoft/azuredatastudio/git/commits{/sha}\",\"comments_url\":\"https://api.github.com/repos/microsoft/azuredatastudio/comments{/number}\",\"issue_comment_url\":\"https://api.github.com/repos/microsoft/azuredatastudio/issues/comments{/number}\",\"contents_url\":\"https://api.github.com/repos/microsoft/azuredatastudio/contents/{+path}\",\"compare_url\":\"https://api.github.com/repos/microsoft/azuredatastudio/compare/{base}...{head}\",\"merges_url\":\"https://api.github.com/repos/microsoft/azuredatastudio/merges\",\"archive_url\":\"https://api.github.com/repos/microsoft/azuredatastudio/{archive_format}{/ref}\",\"downloads_url\":\"https://api.github.com/repos/microsoft/azuredatastudio/downloads\",\"issues_url\":\"https://api.github.com/repos/microsoft/azuredatastudio/issues{/number}\",\"pulls_url\":\"https://api.github.com/repos/microsoft/azuredatastudio/pulls{/number}\",\"milestones_url\":\"https://api.github.com/repos/microsoft/azuredatastudio/milestones{/number}\",\"notifications_url\":\"https://api.github.com/repos/microsoft/azuredatastudio/notifications{?since,all,participating}\",\"labels_url\":\"https://api.github.com/repos/microsoft/azuredatastudio/labels{/name}\",\"releases_url\":\"https://api.github.com/repos/microsoft/azuredatastudio/releases{/id}\",\"deployments_url\":\"https://api.github.com/repos/microsoft/azuredatastudio/deployments\",\"created_at\":\"2017-11-02T01:00:13Z\",\"updated_at\":\"2023-05-08T03:06:09Z\",\"pushed_at\":\"2023-05-08T19:26:22Z\",\"git_url\":\"git://github.com/microsoft/azuredatastudio.git\",\"ssh_url\":\"git@github.com:microsoft/azuredatastudio.git\",\"clone_url\":\"https://github.com/microsoft/azuredatastudio.git\",\"svn_url\":\"https://github.com/microsoft/azuredatastudio\",\"homepage\":\"https://learn.microsoft.com/sql/azure-data-studio\",\"size\":625996,\"stargazers_count\":7125,\"watchers_count\":7125,\"language\":\"TypeScript\",\"has_issues\":true,\"has_projects\":true,\"has_downloads\":true,\"has_wiki\":true,\"has_pages\":false,\"has_discussions\":true,\"forks_count\":860,\"mirror_url\":null,\"archived\":false,\"disabled\":false,\"open_issues_count\":2108,\"license\":{\"key\":\"other\",\"name\":\"Other\",\"spdx_id\":\"NOASSERTION\",\"url\":null,\"node_id\":\"MDc6TGljZW5zZTA=\"},\"allow_forking\":true,\"is_template\":false,\"web_commit_signoff_required\":false,\"topics\":[\"azure\",\"azure-data-studio\",\"electron\",\"microsoft\",\"postgresql\",\"sql\",\"sql-server\",\"typescript\"],\"visibility\":\"public\",\"forks\":860,\"open_issues\":2108,\"watchers\":7125,\"default_branch\":\"main\"}},\"_links\":{\"self\":{\"href\":\"https://api.github.com/repos/microsoft/azuredatastudio/pulls/22936\"},\"html\":{\"href\":\"https://github.com/microsoft/azuredatastudio/pull/22936\"},\"issue\":{\"href\":\"https://api.github.com/repos/microsoft/azuredatastudio/issues/22936\"},\"comments\":{\"href\":\"https://api.github.com/repos/microsoft/azuredatastudio/issues/22936/comments\"},\"review_comments\":{\"href\":\"https://api.github.com/repos/microsoft/azuredatastudio/pulls/22936/comments\"},\"review_comment\":{\"href\":\"https://api.github.com/repos/microsoft/azuredatastudio/pulls/comments{/number}\"},\"commits\":{\"href\":\"https://api.github.com/repos/microsoft/azuredatastudio/pulls/22936/commits\"},\"statuses\":{\"href\":\"https://api.github.com/repos/microsoft/azuredatastudio/statuses/e15ef0d1056512c959f2241f248c3a845db31a09\"}},\"author_association\":\"CONTRIBUTOR\",\"auto_merge\":null,\"active_lock_reason\":null}},\"public\":true,\"created_at\":\"2023-05-08T19:47:03Z\",\"org\":{\"id\":6154722,\"login\":\"microsoft\",\"gravatar_id\":\"\",\"url\":\"https://api.github.com/orgs/microsoft\",\"avatar_url\":\"https://avatars.githubusercontent.com/u/6154722?\"}},{\"id\":\"28927456121\",\"type\":\"CreateEvent\",\"actor\":{\"id\":98186675,\"login\":\"Mohahmad0\",\"display_login\":\"Mohahmad0\",\"gravatar_id\":\"\",\"url\":\"https://api.github.com/users/Mohahmad0\",\"avatar_url\":\"https://avatars.githubusercontent.com/u/98186675?\"},\"repo\":{\"id\":637966312,\"name\":\"Mohahmad0/3360-interprocess-communication-sockets\",\"url\":\"https://api.github.com/repos/Mohahmad0/3360-interprocess-communication-sockets\"},\"payload\":{\"ref\":null,\"ref_type\":\"repository\",\"master_branch\":\"main\",\"description\":null,\"pusher_type\":\"user\"},\"public\":true,\"created_at\":\"2023-05-08T19:47:03Z\"},{\"id\":\"28927456100\",\"type\":\"CreateEvent\",\"actor\":{\"id\":129416058,\"login\":\"rhtap-qe-bots\",\"display_login\":\"rhtap-qe-bots\",\"gravatar_id\":\"\",\"url\":\"https://api.github.com/users/rhtap-qe-bots\",\"avatar_url\":\"https://avatars.githubusercontent.com/u/129416058?\"},\"repo\":{\"id\":637966287,\"name\":\"redhat-appstudio-qe/e2e-springboot-pjHFk-encourage-construct\",\"url\":\"https://api.github.com/repos/redhat-appstudio-qe/e2e-springboot-pjHFk-encourage-construct\"},\"payload\":{\"ref\":\"main\",\"ref_type\":\"branch\",\"master_branch\":\"main\",\"description\":\"GitOps Repository\",\"pusher_type\":\"user\"},\"public\":true,\"created_at\":\"2023-05-08T19:47:03Z\",\"org\":{\"id\":97878856,\"login\":\"redhat-appstudio-qe\",\"gravatar_id\":\"\",\"url\":\"https://api.github.com/orgs/redhat-appstudio-qe\",\"avatar_url\":\"https://avatars.githubusercontent.com/u/97878856?\"}},{\"id\":\"28927456042\",\"type\":\"CreateEvent\",\"actor\":{\"id\":426784,\"login\":\"remram44\",\"display_login\":\"remram44\",\"gravatar_id\":\"\",\"url\":\"https://api.github.com/users/remram44\",\"avatar_url\":\"https://avatars.githubusercontent.com/u/426784?\"},\"repo\":{\"id\":637966311,\"name\":\"remram44/ceph-k8s-backup\",\"url\":\"https://api.github.com/repos/remram44/ceph-k8s-backup\"},\"payload\":{\"ref\":null,\"ref_type\":\"repository\",\"master_branch\":\"master\",\"description\":\"A backup solution for Ceph and Kubernetes, using Restic\",\"pusher_type\":\"user\"},\"public\":true,\"created_at\":\"2023-05-08T19:47:03Z\"},{\"id\":\"28927456054\",\"type\":\"CreateEvent\",\"actor\":{\"id\":29542590,\"login\":\"mat5098\",\"display_login\":\"mat5098\",\"gravatar_id\":\"\",\"url\":\"https://api.github.com/users/mat5098\",\"avatar_url\":\"https://avatars.githubusercontent.com/u/29542590?\"},\"repo\":{\"id\":637966310,\"name\":\"mat5098/Very_simple_blog\",\"url\":\"https://api.github.com/repos/mat5098/Very_simple_blog\"},\"payload\":{\"ref\":null,\"ref_type\":\"repository\",\"master_branch\":\"main\",\"description\":null,\"pusher_type\":\"user\"},\"public\":true,\"created_at\":\"2023-05-08T19:47:03Z\"},{\"id\":\"28927456047\",\"type\":\"PushEvent\",\"actor\":{\"id\":82781111,\"login\":\"luizcarlosjj\",\"display_login\":\"luizcarlosjj\",\"gravatar_id\":\"\",\"url\":\"https://api.github.com/users/luizcarlosjj\",\"avatar_url\":\"https://avatars.githubusercontent.com/u/82781111?\"},\"repo\":{\"id\":614348526,\"name\":\"luizcarlosjj/aps-web\",\"url\":\"https://api.github.com/repos/luizcarlosjj/aps-web\"},\"payload\":{\"repository_id\":614348526,\"push_id\":13565005672,\"size\":1,\"distinct_size\":1,\"ref\":\"refs/heads/main\",\"head\":\"1c77f94208d54332e20197f93d4c47fd69fdad34\",\"before\":\"276a5b868730b7335d6c165abd5437b6f682a629\",\"commits\":[{\"sha\":\"1c77f94208d54332e20197f93d4c47fd69fdad34\",\"author\":{\"email\":\"82781111+luizcarlosjj@users.noreply.github.com\",\"name\":\"Luiz Carlos\"},\"message\":\"Create CNAME\",\"distinct\":true,\"url\":\"https://api.github.com/repos/luizcarlosjj/aps-web/commits/1c77f94208d54332e20197f93d4c47fd69fdad34\"}]},\"public\":true,\"created_at\":\"2023-05-08T19:47:03Z\"},{\"id\":\"28927456035\",\"type\":\"PushEvent\",\"actor\":{\"id\":103634789,\"login\":\"NatashaKhotkina\",\"display_login\":\"NatashaKhotkina\",\"gravatar_id\":\"\",\"url\":\"https://api.github.com/users/NatashaKhotkina\",\"avatar_url\":\"https://avatars.githubusercontent.com/u/103634789?\"},\"repo\":{\"id\":598302904,\"name\":\"NatashaKhotkina/Amino_acid_transfer_learning_for_antibody_binding_prediction\",\"url\":\"https://api.github.com/repos/NatashaKhotkina/Amino_acid_transfer_learning_for_antibody_binding_prediction\"},\"payload\":{\"repository_id\":598302904,\"push_id\":13565005654,\"size\":1,\"distinct_size\":1,\"ref\":\"refs/heads/main\",\"head\":\"49c749b612e870f5dcb751519c3c94920486e3ba\",\"before\":\"0775adddcfda2f206cd474d28e17908537014ce8\",\"commits\":[{\"sha\":\"49c749b612e870f5dcb751519c3c94920486e3ba\",\"author\":{\"email\":\"natashakhotkina@gmail.com\",\"name\":\"NatashaKhotkina\"},\"message\":\"Updated README\",\"distinct\":true,\"url\":\"https://api.github.com/repos/NatashaKhotkina/Amino_acid_transfer_learning_for_antibody_binding_prediction/commits/49c749b612e870f5dcb751519c3c94920486e3ba\"}]},\"public\":true,\"created_at\":\"2023-05-08T19:47:03Z\"},{\"id\":\"28927456023\",\"type\":\"PushEvent\",\"actor\":{\"id\":131042942,\"login\":\"lifeofbran\",\"display_login\":\"lifeofbran\",\"gravatar_id\":\"\",\"url\":\"https://api.github.com/users/lifeofbran\",\"avatar_url\":\"https://avatars.githubusercontent.com/u/131042942?\"},\"repo\":{\"id\":629180757,\"name\":\"lifeofbran/the-life\",\"url\":\"https://api.github.com/repos/lifeofbran/the-life\"},\"payload\":{\"repository_id\":629180757,\"push_id\":13565005615,\"size\":1,\"distinct_size\":1,\"ref\":\"refs/heads/master\",\"head\":\"e3389e58cf4e3f61844ee45025271ea8083fb7f7\",\"before\":\"722e03c599d95cfa7a803a5d3099f4c6ca4da94a\",\"commits\":[{\"sha\":\"e3389e58cf4e3f61844ee45025271ea8083fb7f7\",\"author\":{\"email\":\"noreply@github.com\",\"name\":\"noreply\"},\"message\":\"be-in-the-first.txt\",\"distinct\":true,\"url\":\"https://api.github.com/repos/lifeofbran/the-life/commits/e3389e58cf4e3f61844ee45025271ea8083fb7f7\"}]},\"public\":true,\"created_at\":\"2023-05-08T19:47:03Z\"},{\"id\":\"28927455714\",\"type\":\"PushEvent\",\"actor\":{\"id\":64189793,\"login\":\"sommio\",\"display_login\":\"sommio\",\"gravatar_id\":\"\",\"url\":\"https://api.github.com/users/sommio\",\"avatar_url\":\"https://avatars.githubusercontent.com/u/64189793?\"},\"repo\":{\"id\":553454125,\"name\":\"sommio/sub_share\",\"url\":\"https://api.github.com/repos/sommio/sub_share\"},\"payload\":{\"repository_id\":553454125,\"push_id\":13565005504,\"size\":2,\"distinct_size\":2,\"ref\":\"refs/heads/master\",\"head\":\"e6233760680eb053805a924b458204d78516f201\",\"before\":\"67ab3bd9c0462d682934b3801e226fa890576e86\",\"commits\":[{\"sha\":\"dec57b808ad82150b58c2352c8a4db5c89340a49\",\"author\":{\"email\":\"sommio.mail@gmail.com\",\"name\":\"sommio\"},\"message\":\"整理：想要成为影之实力者！- 去重重复 bilibili 字幕\",\"distinct\":true,\"url\":\"https://api.github.com/repos/sommio/sub_share/commits/dec57b808ad82150b58c2352c8a4db5c89340a49\"},{\"sha\":\"e6233760680eb053805a924b458204d78516f201\",\"author\":{\"email\":\"sommio.mail@gmail.com\",\"name\":\"sommio\"},\"message\":\"整理：结城友奈是勇者 -结城友奈之章- - 去除旧版字幕\",\"distinct\":true,\"url\":\"https://api.github.com/repos/sommio/sub_share/commits/e6233760680eb053805a924b458204d78516f201\"}]},\"public\":true,\"created_at\":\"2023-05-08T19:47:02Z\"},{\"id\":\"28927455713\",\"type\":\"PushEvent\",\"actor\":{\"id\":41898282,\"login\":\"github-actions[bot]\",\"display_login\":\"github-actions\",\"gravatar_id\":\"\",\"url\":\"https://api.github.com/users/github-actions[bot]\",\"avatar_url\":\"https://avatars.githubusercontent.com/u/41898282?\"},\"repo\":{\"id\":395526380,\"name\":\"angelporo/auto-green\",\"url\":\"https://api.github.com/repos/angelporo/auto-green\"},\"payload\":{\"repository_id\":395526380,\"push_id\":13565005507,\"size\":1,\"distinct_size\":1,\"ref\":\"refs/heads/master\",\"head\":\"6bcc645cf2550949694120473777ddd8c5212122\",\"before\":\"8eee9b8c069dcfda723202ea22284cfb78873376\",\"commits\":[{\"sha\":\"6bcc645cf2550949694120473777ddd8c5212122\",\"author\":{\"email\":\"940079461@qq.com\",\"name\":\"angelporo\"},\"message\":\"a commit a day keeps your girlfriend away\",\"distinct\":true,\"url\":\"https://api.github.com/repos/angelporo/auto-green/commits/6bcc645cf2550949694120473777ddd8c5212122\"}]},\"public\":true,\"created_at\":\"2023-05-08T19:47:02Z\"},{\"id\":\"28927456069\",\"type\":\"PushEvent\",\"actor\":{\"id\":94918075,\"login\":\"Jonavoe\",\"display_login\":\"Jonavoe\",\"gravatar_id\":\"\",\"url\":\"https://api.github.com/users/Jonavoe\",\"avatar_url\":\"https://avatars.githubusercontent.com/u/94918075?\"},\"repo\":{\"id\":637879543,\"name\":\"Smlappadm/sml-app\",\"url\":\"https://api.github.com/repos/Smlappadm/sml-app\"},\"payload\":{\"repository_id\":637879543,\"push_id\":13565005663,\"size\":2,\"distinct_size\":2,\"ref\":\"refs/heads/develop-jona\",\"head\":\"ff7d599c14ed05e5cbd637fe1ad8f041f0eef82b\",\"before\":\"e1b61bab5d1bedfe5f30e6be085c1fc68f8c54ed\",\"commits\":[{\"sha\":\"6f95ae9cba5d4b84187872bd5cd66526d4108164\",\"author\":{\"email\":\"voeffray.jonathan@gmail.com\",\"name\":\"Jonavoe\"},\"message\":\"Vite\\\\n\\\\nSe crea la estructura del proyecto\",\"distinct\":true,\"url\":\"https://api.github.com/repos/Smlappadm/sml-app/commits/6f95ae9cba5d4b84187872bd5cd66526d4108164\"},{\"sha\":\"ff7d599c14ed05e5cbd637fe1ad8f041f0eef82b\",\"author\":{\"email\":\"voeffray.jonathan@gmail.com\",\"name\":\"Jonavoe\"},\"message\":\"se agrega el gitignore\",\"distinct\":true,\"url\":\"https://api.github.com/repos/Smlappadm/sml-app/commits/ff7d599c14ed05e5cbd637fe1ad8f041f0eef82b\"}]},\"public\":true,\"created_at\":\"2023-05-08T19:47:03Z\"},{\"id\":\"28927456060\",\"type\":\"PushEvent\",\"actor\":{\"id\":98569995,\"login\":\"hjskhan\",\"display_login\":\"hjskhan\",\"gravatar_id\":\"\",\"url\":\"https://api.github.com/users/hjskhan\",\"avatar_url\":\"https://avatars.githubusercontent.com/u/98569995?\"},\"repo\":{\"id\":637763269,\"name\":\"hjskhan/Machine-Learning\",\"url\":\"https://api.github.com/repos/hjskhan/Machine-Learning\"},\"payload\":{\"repository_id\":637763269,\"push_id\":13565005649,\"size\":1,\"distinct_size\":1,\"ref\":\"refs/heads/main\",\"head\":\"4af1eb122680f3919b528d9cb4e55edb6e1af93e\",\"before\":\"324b4c9060ba99a51029921da7ff1171e99ac1bf\",\"commits\":[{\"sha\":\"4af1eb122680f3919b528d9cb4e55edb6e1af93e\",\"author\":{\"email\":\"98569995+hjskhan@users.noreply.github.com\",\"name\":\"Hamza Jamal Shahid Khan\"},\"message\":\"Create ReadMe.txt\",\"distinct\":true,\"url\":\"https://api.github.com/repos/hjskhan/Machine-Learning/commits/4af1eb122680f3919b528d9cb4e55edb6e1af93e\"}]},\"public\":true,\"created_at\":\"2023-05-08T19:47:03Z\"},{\"id\":\"28927456059\",\"type\":\"PullRequestReviewCommentEvent\",\"actor\":{\"id\":52157662,\"login\":\"rakuraev\",\"display_login\":\"rakuraev\",\"gravatar_id\":\"\",\"url\":\"https://api.github.com/users/rakuraev\",\"avatar_url\":\"https://avatars.githubusercontent.com/u/52157662?\"},\"repo\":{\"id\":628996161,\"name\":\"encoreee/GameDevPractikum\",\"url\":\"https://api.github.com/repos/encoreee/GameDevPractikum\"},\"payload\":{\"action\":\"created\",\"comment\":{\"url\":\"https://api.github.com/repos/encoreee/GameDevPractikum/pulls/comments/1187827597\",\"pull_request_review_id\":1417405637,\"id\":1187827597,\"node_id\":\"PRRC_kwDOJX24Qc5GzM-N\",\"diff_hunk\":\"@@ -0,0 +1,147 @@\\\\n+import {\\\\n+  Table,\\\\n+  Stack,\\\\n+  TableHead,\\\\n+  TableRow,\\\\n+  TableCell,\\\\n+  Button,\\\\n+  Box,\\\\n+} from \\'@mui/material\\';\\\\n+import BreadCrumbs from \\'@components/BreadCrumbs\\';\\\\n+import { FC, useEffect } from \\'react\\';\\\\n+import {\\\\n+  getThreadsList,\\\\n+  selectThreadList,\\\\n+  selectThreadListStatus,\\\\n+} from \\'@/app/forum/forumSlice\\';\\\\n+import { useAppDispatch } from \\'@/app/hooks\\';\\\\n+import { useSelector } from \\'react-redux\\';\\\\n+import { chunk } from \\'lodash\\';\\\\n+import { useNavigate, useSearchParams } from \\'react-router-dom\\';\\\\n+import { useModalWindow } from \\'@/components/ModalWindow\\';\\\\n+import { NewThreadModal } from \\'../components/NewThreadModal\\';\\\\n+import { STATE_STATUSES } from \\'@/shared/const\\';\\\\n+import {\\\\n+  bottomNavStyles,\\\\n+  changePageBtnsStyles,\\\\n+  cleanButtonStyles,\\\\n+  greenButtonStyles,\\\\n+  mainBoxStyles,\\\\n+  purpleButtonStyles,\\\\n+  tableHeadCellStyles,\\\\n+} from \\'../styles\\';\\\\n+import TBThreads from \\'../components/TBThreads\\';\\\\n+\\\\n+const ForumThreadList: FC = () => {\\\\n+  const navigate = useNavigate();\\\\n+  const dispatch = useAppDispatch();\\\\n+  const threadList = useSelector(selectThreadList);\\\\n+  const threadListStatus = useSelector(selectThreadListStatus);\\\\n+\\\\n+  useEffect(() => {\\\\n+    if (!threadListStatus) {\\\\n+      dispatch(getThreadsList());\\\\n+    }\\\\n+  });\\\\n+\\\\n+  const [params, setSearchParam] = useSearchParams();\\\\n+\\\\n+  const currentPagesIdx = params.get(\\'page\\') || 1;\\\\n+\\\\n+  const threadsPerPage = 9;\\\\n+\\\\n+  const chankedThreadList = chunk(threadList, threadsPerPage);\\\\n+\\\\n+  const lastPageIdx = chankedThreadList.length;\\\\n+\\\\n+  useEffect(() => {\\\\n+    if (threadListStatus === STATE_STATUSES.IDLE) {\\\\n+      if (+currentPagesIdx > lastPageIdx) {\\\\n+        setSearchParam({ page: lastPageIdx.toString() });\\\\n+      } else if (+currentPagesIdx < 1) {\\\\n+        setSearchParam({ page: \\'1\\' });\\\\n+      }\\\\n+    }\\\\n+  });\",\"path\":\"packages/client/src/features/forum/pages/ThreadList.tsx\",\"commit_id\":\"3fcaaa4896ed80274560a5e1ff690271d1e863e8\",\"original_commit_id\":\"45b84d8330818933711342428d7459bcb8883c75\",\"user\":{\"login\":\"rakuraev\",\"id\":52157662,\"node_id\":\"MDQ6VXNlcjUyMTU3NjYy\",\"avatar_url\":\"https://avatars.githubusercontent.com/u/52157662?v=4\",\"gravatar_id\":\"\",\"url\":\"https://api.github.com/users/rakuraev\",\"html_url\":\"https://github.com/rakuraev\",\"followers_url\":\"https://api.github.com/users/rakuraev/followers\",\"following_url\":\"https://api.github.com/users/rakuraev/following{/other_user}\",\"gists_url\":\"https://api.github.com/users/rakuraev/gists{/gist_id}\",\"starred_url\":\"https://api.github.com/users/rakuraev/starred{/owner}{/repo}\",\"subscriptions_url\":\"https://api.github.com/users/rakuraev/subscriptions\",\"organizations_url\":\"https://api.github.com/users/rakuraev/orgs\",\"repos_url\":\"https://api.github.com/users/rakuraev/repos\",\"events_url\":\"https://api.github.com/users/rakuraev/events{/privacy}\",\"received_events_url\":\"https://api.github.com/users/rakuraev/received_events\",\"type\":\"User\",\"site_admin\":false},\"body\":\"Поправил\",\"created_at\":\"2023-05-08T19:47:02Z\",\"updated_at\":\"2023-05-08T19:47:02Z\",\"html_url\":\"https://github.com/encoreee/GameDevPractikum/pull/15#discussion_r1187827597\",\"pull_request_url\":\"https://api.github.com/repos/encoreee/GameDevPractikum/pulls/15\",\"author_association\":\"COLLABORATOR\",\"_links\":{\"self\":{\"href\":\"https://api.github.com/repos/encoreee/GameDevPractikum/pulls/comments/1187827597\"},\"html\":{\"href\":\"https://github.com/encoreee/GameDevPractikum/pull/15#discussion_r1187827597\"},\"pull_request\":{\"href\":\"https://api.github.com/repos/encoreee/GameDevPractikum/pulls/15\"}},\"reactions\":{\"url\":\"https://api.github.com/repos/encoreee/GameDevPractikum/pulls/comments/1187827597/reactions\",\"total_count\":0,\"+1\":0,\"-1\":0,\"laugh\":0,\"hooray\":0,\"confused\":0,\"heart\":0,\"rocket\":0,\"eyes\":0},\"start_line\":null,\"original_start_line\":57,\"start_side\":\"RIGHT\",\"line\":null,\"original_line\":65,\"side\":\"RIGHT\",\"in_reply_to_id\":1185967161,\"original_position\":65,\"position\":null,\"subject_type\":\"line\"},\"pull_request\":{\"url\":\"https://api.github.com/repos/encoreee/GameDevPractikum/pulls/15\",\"id\":1333933453,\"node_id\":\"PR_kwDOJX24Qc5PgjWN\",\"html_url\":\"https://github.com/encoreee/GameDevPractikum/pull/15\",\"diff_url\":\"https://github.com/encoreee/GameDevPractikum/pull/15.diff\",\"patch_url\":\"https://github.com/encoreee/GameDevPractikum/pull/15.patch\",\"issue_url\":\"https://api.github.com/repos/encoreee/GameDevPractikum/issues/15\",\"number\":15,\"state\":\"open\",\"locked\":false,\"title\":\"Rakuraev/gam 17\",\"user\":{\"login\":\"rakuraev\",\"id\":52157662,\"node_id\":\"MDQ6VXNlcjUyMTU3NjYy\",\"avatar_url\":\"https://avatars.githubusercontent.com/u/52157662?v=4\",\"gravatar_id\":\"\",\"url\":\"https://api.github.com/users/rakuraev\",\"html_url\":\"https://github.com/rakuraev\",\"followers_url\":\"https://api.github.com/users/rakuraev/followers\",\"following_url\":\"https://api.github.com/users/rakuraev/following{/other_user}\",\"gists_url\":\"https://api.github.com/users/rakuraev/gists{/gist_id}\",\"starred_url\":\"https://api.github.com/users/rakuraev/starred{/owner}{/repo}\",\"subscriptions_url\":\"https://api.github.com/users/rakuraev/subscriptions\",\"organizations_url\":\"https://api.github.com/users/rakuraev/orgs\",\"repos_url\":\"https://api.github.com/users/rakuraev/repos\",\"events_url\":\"https://api.github.com/users/rakuraev/events{/privacy}\",\"received_events_url\":\"https://api.github.com/users/rakuraev/received_events\",\"type\":\"User\",\"site_admin\":false},\"body\":\"## GAM-17 Верстка страниц форума\\\\r\\\\n\\\\r\\\\nЧто сделано: \\\\r\\\\n- Сверстаны страницы форума и треда\\\\r\\\\n![CleanShot 2023-05-01 at 18 11 41](https://user-images.githubusercontent.com/52157662/235474564-939fcdd8-85f3-4b52-ab44-f37002a0f719.png)\\\\r\\\\n![CleanShot 2023-05-01 at 18 12 34](https://user-images.githubusercontent.com/52157662/235474720-57a83523-2292-424d-9d64-8dc7acb1d8a7.png)\\\\r\\\\n- Пагинация для списка тредов\\\\r\\\\n![CleanShot 2023-05-01 at 18 13 57](https://user-images.githubusercontent.com/52157662/235474954-8823dc79-8140-4bc0-886c-104ba9acbe33.gif)\\\\r\\\\n- Создание новой темы(треда)\\\\r\\\\n![CleanShot 2023-05-01 at 18 15 35](https://user-images.githubusercontent.com/52157662/235475469-7157d9c2-8121-4679-9100-cf68a5a11f97.gif)\\\\r\\\\n- Добавлена проверка на ошибки typescript в `pre-comit`\\\\r\\\\n- Добавлен `vite-plugin-cherker` для подсветки TS ошибок\",\"created_at\":\"2023-05-01T15:20:02Z\",\"updated_at\":\"2023-05-08T19:47:03Z\",\"closed_at\":null,\"merged_at\":null,\"merge_commit_sha\":\"091af3c30baf2455f238d7b69fa6cf40a6a84512\",\"assignee\":null,\"assignees\":[],\"requested_reviewers\":[],\"requested_teams\":[],\"labels\":[],\"milestone\":null,\"draft\":false,\"commits_url\":\"https://api.github.com/repos/encoreee/GameDevPractikum/pulls/15/commits\",\"review_comments_url\":\"https://api.github.com/repos/encoreee/GameDevPractikum/pulls/15/comments\",\"review_comment_url\":\"https://api.github.com/repos/encoreee/GameDevPractikum/pulls/comments{/number}\",\"comments_url\":\"https://api.github.com/repos/encoreee/GameDevPractikum/issues/15/comments\",\"statuses_url\":\"https://api.github.com/repos/encoreee/GameDevPractikum/statuses/3fcaaa4896ed80274560a5e1ff690271d1e863e8\",\"head\":{\"label\":\"encoreee:rakuraev/gam-17\",\"ref\":\"rakuraev/gam-17\",\"sha\":\"3fcaaa4896ed80274560a5e1ff690271d1e863e8\",\"user\":{\"login\":\"encoreee\",\"id\":44232406,\"node_id\":\"MDQ6VXNlcjQ0MjMyNDA2\",\"avatar_url\":\"https://avatars.githubusercontent.com/u/44232406?v=4\",\"gravatar_id\":\"\",\"url\":\"https://api.github.com/users/encoreee\",\"html_url\":\"https://github.com/encoreee\",\"followers_url\":\"https://api.github.com/users/encoreee/followers\",\"following_url\":\"https://api.github.com/users/encoreee/following{/other_user}\",\"gists_url\":\"https://api.github.com/users/encoreee/gists{/gist_id}\",\"starred_url\":\"https://api.github.com/users/encoreee/starred{/owner}{/repo}\",\"subscriptions_url\":\"https://api.github.com/users/encoreee/subscriptions\",\"organizations_url\":\"https://api.github.com/users/encoreee/orgs\",\"repos_url\":\"https://api.github.com/users/encoreee/repos\",\"events_url\":\"https://api.github.com/users/encoreee/events{/privacy}\",\"received_events_url\":\"https://api.github.com/users/encoreee/received_events\",\"type\":\"User\",\"site_admin\":false},\"repo\":{\"id\":628996161,\"node_id\":\"R_kgDOJX24QQ\",\"name\":\"GameDevPractikum\",\"full_name\":\"encoreee/GameDevPractikum\",\"private\":false,\"owner\":{\"login\":\"encoreee\",\"id\":44232406,\"node_id\":\"MDQ6VXNlcjQ0MjMyNDA2\",\"avatar_url\":\"https://avatars.githubusercontent.com/u/44232406?v=4\",\"gravatar_id\":\"\",\"url\":\"https://api.github.com/users/encoreee\",\"html_url\":\"https://github.com/encoreee\",\"followers_url\":\"https://api.github.com/users/encoreee/followers\",\"following_url\":\"https://api.github.com/users/encoreee/following{/other_user}\",\"gists_url\":\"https://api.github.com/users/encoreee/gists{/gist_id}\",\"starred_url\":\"https://api.github.com/users/encoreee/starred{/owner}{/repo}\",\"subscriptions_url\":\"https://api.github.com/users/encoreee/subscriptions\",\"organizations_url\":\"https://api.github.com/users/encoreee/orgs\",\"repos_url\":\"https://api.github.com/users/encoreee/repos\",\"events_url\":\"https://api.github.com/users/encoreee/events{/privacy}\",\"received_events_url\":\"https://api.github.com/users/encoreee/received_events\",\"type\":\"User\",\"site_admin\":false},\"html_url\":\"https://github.com/encoreee/GameDevPractikum\",\"description\":null,\"fork\":false,\"url\":\"https://api.github.com/repos/encoreee/GameDevPractikum\",\"forks_url\":\"https://api.github.com/repos/encoreee/GameDevPractikum/forks\",\"keys_url\":\"https://api.github.com/repos/encoreee/GameDevPractikum/keys{/key_id}\",\"collaborators_url\":\"https://api.github.com/repos/encoreee/GameDevPractikum/collaborators{/collaborator}\",\"teams_url\":\"https://api.github.com/repos/encoreee/GameDevPractikum/teams\",\"hooks_url\":\"https://api.github.com/repos/encoreee/GameDevPractikum/hooks\",\"issue_events_url\":\"https://api.github.com/repos/encoreee/GameDevPractikum/issues/events{/number}\",\"events_url\":\"https://api.github.com/repos/encoreee/GameDevPractikum/events\",\"assignees_url\":\"https://api.github.com/repos/encoreee/GameDevPractikum/assignees{/user}\",\"branches_url\":\"https://api.github.com/repos/encoreee/GameDevPractikum/branches{/branch}\",\"tags_url\":\"https://api.github.com/repos/encoreee/GameDevPractikum/tags\",\"blobs_url\":\"https://api.github.com/repos/encoreee/GameDevPractikum/git/blobs{/sha}\",\"git_tags_url\":\"https://api.github.com/repos/encoreee/GameDevPractikum/git/tags{/sha}\",\"git_refs_url\":\"https://api.github.com/repos/encoreee/GameDevPractikum/git/refs{/sha}\",\"trees_url\":\"https://api.github.com/repos/encoreee/GameDevPractikum/git/trees{/sha}\",\"statuses_url\":\"https://api.github.com/repos/encoreee/GameDevPractikum/statuses/{sha}\",\"languages_url\":\"https://api.github.com/repos/encoreee/GameDevPractikum/languages\",\"stargazers_url\":\"https://api.github.com/repos/encoreee/GameDevPractikum/stargazers\",\"contributors_url\":\"https://api.github.com/repos/encoreee/GameDevPractikum/contributors\",\"subscribers_url\":\"https://api.github.com/repos/encoreee/GameDevPractikum/subscribers\",\"subscription_url\":\"https://api.github.com/repos/encoreee/GameDevPractikum/subscription\",\"commits_url\":\"https://api.github.com/repos/encoreee/GameDevPractikum/commits{/sha}\",\"git_commits_url\":\"https://api.github.com/repos/encoreee/GameDevPractikum/git/commits{/sha}\",\"comments_url\":\"https://api.github.com/repos/encoreee/GameDevPractikum/comments{/number}\",\"issue_comment_url\":\"https://api.github.com/repos/encoreee/GameDevPractikum/issues/comments{/number}\",\"contents_url\":\"https://api.github.com/repos/encoreee/GameDevPractikum/contents/{+path}\",\"compare_url\":\"https://api.github.com/repos/encoreee/GameDevPractikum/compare/{base}...{head}\",\"merges_url\":\"https://api.github.com/repos/encoreee/GameDevPractikum/merges\",\"archive_url\":\"https://api.github.com/repos/encoreee/GameDevPractikum/{archive_format}{/ref}\",\"downloads_url\":\"https://api.github.com/repos/encoreee/GameDevPractikum/downloads\",\"issues_url\":\"https://api.github.com/repos/encoreee/GameDevPractikum/issues{/number}\",\"pulls_url\":\"https://api.github.com/repos/encoreee/GameDevPractikum/pulls{/number}\",\"milestones_url\":\"https://api.github.com/repos/encoreee/GameDevPractikum/milestones{/number}\",\"notifications_url\":\"https://api.github.com/repos/encoreee/GameDevPractikum/notifications{?since,all,participating}\",\"labels_url\":\"https://api.github.com/repos/encoreee/GameDevPractikum/labels{/name}\",\"releases_url\":\"https://api.github.com/repos/encoreee/GameDevPractikum/releases{/id}\",\"deployments_url\":\"https://api.github.com/repos/encoreee/GameDevPractikum/deployments\",\"created_at\":\"2023-04-17T12:10:46Z\",\"updated_at\":\"2023-04-17T12:10:54Z\",\"pushed_at\":\"2023-05-08T19:45:26Z\",\"git_url\":\"git://github.com/encoreee/GameDevPractikum.git\",\"ssh_url\":\"git@github.com:encoreee/GameDevPractikum.git\",\"clone_url\":\"https://github.com/encoreee/GameDevPractikum.git\",\"svn_url\":\"https://github.com/encoreee/GameDevPractikum\",\"homepage\":null,\"size\":630,\"stargazers_count\":0,\"watchers_count\":0,\"language\":\"TypeScript\",\"has_issues\":true,\"has_projects\":true,\"has_downloads\":true,\"has_wiki\":true,\"has_pages\":false,\"has_discussions\":false,\"forks_count\":0,\"mirror_url\":null,\"archived\":false,\"disabled\":false,\"open_issues_count\":1,\"license\":null,\"allow_forking\":true,\"is_template\":false,\"web_commit_signoff_required\":false,\"topics\":[],\"visibility\":\"public\",\"forks\":0,\"open_issues\":1,\"watchers\":0,\"default_branch\":\"main\"}},\"base\":{\"label\":\"encoreee:sprint_1\",\"ref\":\"sprint_1\",\"sha\":\"d0fe93a12b2b93d3911ae1be7d3697643d47618a\",\"user\":{\"login\":\"encoreee\",\"id\":44232406,\"node_id\":\"MDQ6VXNlcjQ0MjMyNDA2\",\"avatar_url\":\"https://avatars.githubusercontent.com/u/44232406?v=4\",\"gravatar_id\":\"\",\"url\":\"https://api.github.com/users/encoreee\",\"html_url\":\"https://github.com/encoreee\",\"followers_url\":\"https://api.github.com/users/encoreee/followers\",\"following_url\":\"https://api.github.com/users/encoreee/following{/other_user}\",\"gists_url\":\"https://api.github.com/users/encoreee/gists{/gist_id}\",\"starred_url\":\"https://api.github.com/users/encoreee/starred{/owner}{/repo}\",\"subscriptions_url\":\"https://api.github.com/users/encoreee/subscriptions\",\"organizations_url\":\"https://api.github.com/users/encoreee/orgs\",\"repos_url\":\"https://api.github.com/users/encoreee/repos\",\"events_url\":\"https://api.github.com/users/encoreee/events{/privacy}\",\"received_events_url\":\"https://api.github.com/users/encoreee/received_events\",\"type\":\"User\",\"site_admin\":false},\"repo\":{\"id\":628996161,\"node_id\":\"R_kgDOJX24QQ\",\"name\":\"GameDevPractikum\",\"full_name\":\"encoreee/GameDevPractikum\",\"private\":false,\"owner\":{\"login\":\"encoreee\",\"id\":44232406,\"node_id\":\"MDQ6VXNlcjQ0MjMyNDA2\",\"avatar_url\":\"https://avatars.githubusercontent.com/u/44232406?v=4\",\"gravatar_id\":\"\",\"url\":\"https://api.github.com/users/encoreee\",\"html_url\":\"https://github.com/encoreee\",\"followers_url\":\"https://api.github.com/users/encoreee/followers\",\"following_url\":\"https://api.github.com/users/encoreee/following{/other_user}\",\"gists_url\":\"https://api.github.com/users/encoreee/gists{/gist_id}\",\"starred_url\":\"https://api.github.com/users/encoreee/starred{/owner}{/repo}\",\"subscriptions_url\":\"https://api.github.com/users/encoreee/subscriptions\",\"organizations_url\":\"https://api.github.com/users/encoreee/orgs\",\"repos_url\":\"https://api.github.com/users/encoreee/repos\",\"events_url\":\"https://api.github.com/users/encoreee/events{/privacy}\",\"received_events_url\":\"https://api.github.com/users/encoreee/received_events\",\"type\":\"User\",\"site_admin\":false},\"html_url\":\"https://github.com/encoreee/GameDevPractikum\",\"description\":null,\"fork\":false,\"url\":\"https://api.github.com/repos/encoreee/GameDevPractikum\",\"forks_url\":\"https://api.github.com/repos/encoreee/GameDevPractikum/forks\",\"keys_url\":\"https://api.github.com/repos/encoreee/GameDevPractikum/keys{/key_id}\",\"collaborators_url\":\"https://api.github.com/repos/encoreee/GameDevPractikum/collaborators{/collaborator}\",\"teams_url\":\"https://api.github.com/repos/encoreee/GameDevPractikum/teams\",\"hooks_url\":\"https://api.github.com/repos/encoreee/GameDevPractikum/hooks\",\"issue_events_url\":\"https://api.github.com/repos/encoreee/GameDevPractikum/issues/events{/number}\",\"events_url\":\"https://api.github.com/repos/encoreee/GameDevPractikum/events\",\"assignees_url\":\"https://api.github.com/repos/encoreee/GameDevPractikum/assignees{/user}\",\"branches_url\":\"https://api.github.com/repos/encoreee/GameDevPractikum/branches{/branch}\",\"tags_url\":\"https://api.github.com/repos/encoreee/GameDevPractikum/tags\",\"blobs_url\":\"https://api.github.com/repos/encoreee/GameDevPractikum/git/blobs{/sha}\",\"git_tags_url\":\"https://api.github.com/repos/encoreee/GameDevPractikum/git/tags{/sha}\",\"git_refs_url\":\"https://api.github.com/repos/encoreee/GameDevPractikum/git/refs{/sha}\",\"trees_url\":\"https://api.github.com/repos/encoreee/GameDevPractikum/git/trees{/sha}\",\"statuses_url\":\"https://api.github.com/repos/encoreee/GameDevPractikum/statuses/{sha}\",\"languages_url\":\"https://api.github.com/repos/encoreee/GameDevPractikum/languages\",\"stargazers_url\":\"https://api.github.com/repos/encoreee/GameDevPractikum/stargazers\",\"contributors_url\":\"https://api.github.com/repos/encoreee/GameDevPractikum/contributors\",\"subscribers_url\":\"https://api.github.com/repos/encoreee/GameDevPractikum/subscribers\",\"subscription_url\":\"https://api.github.com/repos/encoreee/GameDevPractikum/subscription\",\"commits_url\":\"https://api.github.com/repos/encoreee/GameDevPractikum/commits{/sha}\",\"git_commits_url\":\"https://api.github.com/repos/encoreee/GameDevPractikum/git/commits{/sha}\",\"comments_url\":\"https://api.github.com/repos/encoreee/GameDevPractikum/comments{/number}\",\"issue_comment_url\":\"https://api.github.com/repos/encoreee/GameDevPractikum/issues/comments{/number}\",\"contents_url\":\"https://api.github.com/repos/encoreee/GameDevPractikum/contents/{+path}\",\"compare_url\":\"https://api.github.com/repos/encoreee/GameDevPractikum/compare/{base}...{head}\",\"merges_url\":\"https://api.github.com/repos/encoreee/GameDevPractikum/merges\",\"archive_url\":\"https://api.github.com/repos/encoreee/GameDevPractikum/{archive_format}{/ref}\",\"downloads_url\":\"https://api.github.com/repos/encoreee/GameDevPractikum/downloads\",\"issues_url\":\"https://api.github.com/repos/encoreee/GameDevPractikum/issues{/number}\",\"pulls_url\":\"https://api.github.com/repos/encoreee/GameDevPractikum/pulls{/number}\",\"milestones_url\":\"https://api.github.com/repos/encoreee/GameDevPractikum/milestones{/number}\",\"notifications_url\":\"https://api.github.com/repos/encoreee/GameDevPractikum/notifications{?since,all,participating}\",\"labels_url\":\"https://api.github.com/repos/encoreee/GameDevPractikum/labels{/name}\",\"releases_url\":\"https://api.github.com/repos/encoreee/GameDevPractikum/releases{/id}\",\"deployments_url\":\"https://api.github.com/repos/encoreee/GameDevPractikum/deployments\",\"created_at\":\"2023-04-17T12:10:46Z\",\"updated_at\":\"2023-04-17T12:10:54Z\",\"pushed_at\":\"2023-05-08T19:45:26Z\",\"git_url\":\"git://github.com/encoreee/GameDevPractikum.git\",\"ssh_url\":\"git@github.com:encoreee/GameDevPractikum.git\",\"clone_url\":\"https://github.com/encoreee/GameDevPractikum.git\",\"svn_url\":\"https://github.com/encoreee/GameDevPractikum\",\"homepage\":null,\"size\":630,\"stargazers_count\":0,\"watchers_count\":0,\"language\":\"TypeScript\",\"has_issues\":true,\"has_projects\":true,\"has_downloads\":true,\"has_wiki\":true,\"has_pages\":false,\"has_discussions\":false,\"forks_count\":0,\"mirror_url\":null,\"archived\":false,\"disabled\":false,\"open_issues_count\":1,\"license\":null,\"allow_forking\":true,\"is_template\":false,\"web_commit_signoff_required\":false,\"topics\":[],\"visibility\":\"public\",\"forks\":0,\"open_issues\":1,\"watchers\":0,\"default_branch\":\"main\"}},\"_links\":{\"self\":{\"href\":\"https://api.github.com/repos/encoreee/GameDevPractikum/pulls/15\"},\"html\":{\"href\":\"https://github.com/encoreee/GameDevPractikum/pull/15\"},\"issue\":{\"href\":\"https://api.github.com/repos/encoreee/GameDevPractikum/issues/15\"},\"comments\":{\"href\":\"https://api.github.com/repos/encoreee/GameDevPractikum/issues/15/comments\"},\"review_comments\":{\"href\":\"https://api.github.com/repos/encoreee/GameDevPractikum/pulls/15/comments\"},\"review_comment\":{\"href\":\"https://api.github.com/repos/encoreee/GameDevPractikum/pulls/comments{/number}\"},\"commits\":{\"href\":\"https://api.github.com/repos/encoreee/GameDevPractikum/pulls/15/commits\"},\"statuses\":{\"href\":\"https://api.github.com/repos/encoreee/GameDevPractikum/statuses/3fcaaa4896ed80274560a5e1ff690271d1e863e8\"}},\"author_association\":\"COLLABORATOR\",\"auto_merge\":null,\"active_lock_reason\":null}},\"public\":true,\"created_at\":\"2023-05-08T19:47:02Z\"},{\"id\":\"28927456087\",\"type\":\"IssueCommentEvent\",\"actor\":{\"id\":57876960,\"login\":\"vladmandic\",\"display_login\":\"vladmandic\",\"gravatar_id\":\"\",\"url\":\"https://api.github.com/users/vladmandic\",\"avatar_url\":\"https://avatars.githubusercontent.com/u/57876960?\"},\"repo\":{\"id\":581913613,\"name\":\"vladmandic/automatic\",\"url\":\"https://api.github.com/repos/vladmandic/automatic\"},\"payload\":{\"action\":\"created\",\"issue\":{\"url\":\"https://api.github.com/repos/vladmandic/automatic/issues/692\",\"repository_url\":\"https://api.github.com/repos/vladmandic/automatic\",\"labels_url\":\"https://api.github.com/repos/vladmandic/automatic/issues/692/labels{/name}\",\"comments_url\":\"https://api.github.com/repos/vladmandic/automatic/issues/692/comments\",\"events_url\":\"https://api.github.com/repos/vladmandic/automatic/issues/692/events\",\"html_url\":\"https://github.com/vladmandic/automatic/issues/692\",\"id\":1691761729,\"node_id\":\"I_kwDOIq9MDc5k1jxB\",\"number\":692,\"title\":\"[Issue]: Extras (post-processing) Upscaling overwriting metadata\",\"user\":{\"login\":\"brknsoul\",\"id\":1969381,\"node_id\":\"MDQ6VXNlcjE5NjkzODE=\",\"avatar_url\":\"https://avatars.githubusercontent.com/u/1969381?v=4\",\"gravatar_id\":\"\",\"url\":\"https://api.github.com/users/brknsoul\",\"html_url\":\"https://github.com/brknsoul\",\"followers_url\":\"https://api.github.com/users/brknsoul/followers\",\"following_url\":\"https://api.github.com/users/brknsoul/following{/other_user}\",\"gists_url\":\"https://api.github.com/users/brknsoul/gists{/gist_id}\",\"starred_url\":\"https://api.github.com/users/brknsoul/starred{/owner}{/repo}\",\"subscriptions_url\":\"https://api.github.com/users/brknsoul/subscriptions\",\"organizations_url\":\"https://api.github.com/users/brknsoul/orgs\",\"repos_url\":\"https://api.github.com/users/brknsoul/repos\",\"events_url\":\"https://api.github.com/users/brknsoul/events{/privacy}\",\"received_events_url\":\"https://api.github.com/users/brknsoul/received_events\",\"type\":\"User\",\"site_admin\":false},\"labels\":[{\"id\":4942880359,\"node_id\":\"LA_kwDOIq9MDc8AAAABJp5eZw\",\"url\":\"https://api.github.com/repos/vladmandic/automatic/labels/bug\",\"name\":\"bug\",\"color\":\"d73a4a\",\"default\":true,\"description\":\"Something isn\\'t working\"}],\"state\":\"closed\",\"locked\":false,\"assignee\":{\"login\":\"vladmandic\",\"id\":57876960,\"node_id\":\"MDQ6VXNlcjU3ODc2OTYw\",\"avatar_url\":\"https://avatars.githubusercontent.com/u/57876960?v=4\",\"gravatar_id\":\"\",\"url\":\"https://api.github.com/users/vladmandic\",\"html_url\":\"https://github.com/vladmandic\",\"followers_url\":\"https://api.github.com/users/vladmandic/followers\",\"following_url\":\"https://api.github.com/users/vladmandic/following{/other_user}\",\"gists_url\":\"https://api.github.com/users/vladmandic/gists{/gist_id}\",\"starred_url\":\"https://api.github.com/users/vladmandic/starred{/owner}{/repo}\",\"subscriptions_url\":\"https://api.github.com/users/vladmandic/subscriptions\",\"organizations_url\":\"https://api.github.com/users/vladmandic/orgs\",\"repos_url\":\"https://api.github.com/users/vladmandic/repos\",\"events_url\":\"https://api.github.com/users/vladmandic/events{/privacy}\",\"received_events_url\":\"https://api.github.com/users/vladmandic/received_events\",\"type\":\"User\",\"site_admin\":false},\"assignees\":[{\"login\":\"vladmandic\",\"id\":57876960,\"node_id\":\"MDQ6VXNlcjU3ODc2OTYw\",\"avatar_url\":\"https://avatars.githubusercontent.com/u/57876960?v=4\",\"gravatar_id\":\"\",\"url\":\"https://api.github.com/users/vladmandic\",\"html_url\":\"https://github.com/vladmandic\",\"followers_url\":\"https://api.github.com/users/vladmandic/followers\",\"following_url\":\"https://api.github.com/users/vladmandic/following{/other_user}\",\"gists_url\":\"https://api.github.com/users/vladmandic/gists{/gist_id}\",\"starred_url\":\"https://api.github.com/users/vladmandic/starred{/owner}{/repo}\",\"subscriptions_url\":\"https://api.github.com/users/vladmandic/subscriptions\",\"organizations_url\":\"https://api.github.com/users/vladmandic/orgs\",\"repos_url\":\"https://api.github.com/users/vladmandic/repos\",\"events_url\":\"https://api.github.com/users/vladmandic/events{/privacy}\",\"received_events_url\":\"https://api.github.com/users/vladmandic/received_events\",\"type\":\"User\",\"site_admin\":false}],\"milestone\":null,\"comments\":8,\"created_at\":\"2023-05-02T04:32:00Z\",\"updated_at\":\"2023-05-08T19:47:03Z\",\"closed_at\":\"2023-05-08T13:40:51Z\",\"author_association\":\"NONE\",\"active_lock_reason\":null,\"body\":\"### Issue Description\\\\r\\\\n\\\\r\\\\nWhen sending a generated image to the Extras tab for upscaling, the embedded metadata is being overwritten with; \\\\r\\\\n```\\\\r\\\\npostprocessing: Postprocess upscale by: 3, Postprocess upscaler: 4x_foolhardy_Remacri\\\\r\\\\nextras: Postprocess upscale by: 3, Postprocess upscaler: 4x_foolhardy_Remacri\\\\r\\\\n```\\\\r\\\\n\\\\r\\\\nUpscaled info should probably be _added_ to the metadata, rather than overwriting it.\\\\r\\\\n\\\\r\\\\n### Version Platform Description\\\\r\\\\n\\\\r\\\\nVersion: 917ecad4 Sun Apr 30 09:31:38 2023 -0400\\\\r\\\\nUbuntu 22, Chrome, AMD RX 6600 XT 8Gb, ROCm.\",\"reactions\":{\"url\":\"https://api.github.com/repos/vladmandic/automatic/issues/692/reactions\",\"total_count\":1,\"+1\":0,\"-1\":0,\"laugh\":0,\"hooray\":0,\"confused\":0,\"heart\":0,\"rocket\":1,\"eyes\":0},\"timeline_url\":\"https://api.github.com/repos/vladmandic/automatic/issues/692/timeline\",\"performed_via_github_app\":null,\"state_reason\":\"completed\"},\"comment\":{\"url\":\"https://api.github.com/repos/vladmandic/automatic/issues/comments/1538947424\",\"html_url\":\"https://github.com/vladmandic/automatic/issues/692#issuecomment-1538947424\",\"issue_url\":\"https://api.github.com/repos/vladmandic/automatic/issues/692\",\"id\":1538947424,\"node_id\":\"IC_kwDOIq9MDc5bunlg\",\"user\":{\"login\":\"vladmandic\",\"id\":57876960,\"node_id\":\"MDQ6VXNlcjU3ODc2OTYw\",\"avatar_url\":\"https://avatars.githubusercontent.com/u/57876960?v=4\",\"gravatar_id\":\"\",\"url\":\"https://api.github.com/users/vladmandic\",\"html_url\":\"https://github.com/vladmandic\",\"followers_url\":\"https://api.github.com/users/vladmandic/followers\",\"following_url\":\"https://api.github.com/users/vladmandic/following{/other_user}\",\"gists_url\":\"https://api.github.com/users/vladmandic/gists{/gist_id}\",\"starred_url\":\"https://api.github.com/users/vladmandic/starred{/owner}{/repo}\",\"subscriptions_url\":\"https://api.github.com/users/vladmandic/subscriptions\",\"organizations_url\":\"https://api.github.com/users/vladmandic/orgs\",\"repos_url\":\"https://api.github.com/users/vladmandic/repos\",\"events_url\":\"https://api.github.com/users/vladmandic/events{/privacy}\",\"received_events_url\":\"https://api.github.com/users/vladmandic/received_events\",\"type\":\"User\",\"site_admin\":false},\"created_at\":\"2023-05-08T19:47:03Z\",\"updated_at\":\"2023-05-08T19:47:03Z\",\"author_association\":\"OWNER\",\"body\":\"top text-box is what was actually parsed.\\\\r\\\\n\\\\r\\\\nbottom text-box is full metadata. if you edit image in photoshop, it will add metadata. if you open an image taken with phone, it will have metadata. just so happens that everything *we* write, we write in metadata section called \\\\\"UserComment\\\\\" and that\\'s where parsed data will come from.\\\\r\\\\n\",\"reactions\":{\"url\":\"https://api.github.com/repos/vladmandic/automatic/issues/comments/1538947424/reactions\",\"total_count\":0,\"+1\":0,\"-1\":0,\"laugh\":0,\"hooray\":0,\"confused\":0,\"heart\":0,\"rocket\":0,\"eyes\":0},\"performed_via_github_app\":null}},\"public\":true,\"created_at\":\"2023-05-08T19:47:03Z\"},{\"id\":\"28927456031\",\"type\":\"DeleteEvent\",\"actor\":{\"id\":122065103,\"login\":\"GsellaWasTaken\",\"display_login\":\"GsellaWasTaken\",\"gravatar_id\":\"\",\"url\":\"https://api.github.com/users/GsellaWasTaken\",\"avatar_url\":\"https://avatars.githubusercontent.com/u/122065103?\"},\"repo\":{\"id\":585744972,\"name\":\"GsellaWasTaken/BeeSwarmMacroAhk\",\"url\":\"https://api.github.com/repos/GsellaWasTaken/BeeSwarmMacroAhk\"},\"payload\":{\"ref\":\"testbranch\",\"ref_type\":\"branch\",\"pusher_type\":\"user\"},\"public\":true,\"created_at\":\"2023-05-08T19:47:03Z\"},{\"id\":\"28927456006\",\"type\":\"PushEvent\",\"actor\":{\"id\":41898282,\"login\":\"github-actions[bot]\",\"display_login\":\"github-actions\",\"gravatar_id\":\"\",\"url\":\"https://api.github.com/users/github-actions[bot]\",\"avatar_url\":\"https://avatars.githubusercontent.com/u/41898282?\"},\"repo\":{\"id\":634055069,\"name\":\"pythoneerHiro/__empty\",\"url\":\"https://api.github.com/repos/pythoneerHiro/__empty\"},\"payload\":{\"repository_id\":634055069,\"push_id\":13565005640,\"size\":1,\"distinct_size\":1,\"ref\":\"refs/heads/main\",\"head\":\"5caf5ab6762495ee62f32dedced85b33ebeaa927\",\"before\":\"8f341abb12fb410e913b57a0f641516fe052f6c9\",\"commits\":[{\"sha\":\"5caf5ab6762495ee62f32dedced85b33ebeaa927\",\"author\":{\"email\":\"pythoneerHiro@gmail.com\",\"name\":\"Hiro\"},\"message\":\"Commit 158 of 10000000000000\",\"distinct\":true,\"url\":\"https://api.github.com/repos/pythoneerHiro/__empty/commits/5caf5ab6762495ee62f32dedced85b33ebeaa927\"}]},\"public\":true,\"created_at\":\"2023-05-08T19:47:03Z\"},{\"id\":\"28927456050\",\"type\":\"CreateEvent\",\"actor\":{\"id\":29139614,\"login\":\"renovate[bot]\",\"display_login\":\"renovate\",\"gravatar_id\":\"\",\"url\":\"https://api.github.com/users/renovate[bot]\",\"avatar_url\":\"https://avatars.githubusercontent.com/u/29139614?\"},\"repo\":{\"id\":249102102,\"name\":\"hardyscc/aws-nestjs-starter\",\"url\":\"https://api.github.com/repos/hardyscc/aws-nestjs-starter\"},\"payload\":{\"ref\":\"renovate/all-minor-patch\",\"ref_type\":\"branch\",\"master_branch\":\"master\",\"description\":\"Serverless, AWS, NestJS, GraphQL and DynamoDB starter\",\"pusher_type\":\"user\"},\"public\":true,\"created_at\":\"2023-05-08T19:47:03Z\"},{\"id\":\"28927455729\",\"type\":\"PushEvent\",\"actor\":{\"id\":130499873,\"login\":\"VoSoG\",\"display_login\":\"VoSoG\",\"gravatar_id\":\"\",\"url\":\"https://api.github.com/users/VoSoG\",\"avatar_url\":\"https://avatars.githubusercontent.com/u/130499873?\"},\"repo\":{\"id\":637566131,\"name\":\"VoSoG/geoboat-telaprincipal\",\"url\":\"https://api.github.com/repos/VoSoG/geoboat-telaprincipal\"},\"payload\":{\"repository_id\":637566131,\"push_id\":13565005498,\"size\":1,\"distinct_size\":1,\"ref\":\"refs/heads/main\",\"head\":\"982b80f2957ff3b4289ac17fead5d907b1e351b8\",\"before\":\"c343a3cb711ba7f45955ee0b21f1d4fb3aeb408a\",\"commits\":[{\"sha\":\"982b80f2957ff3b4289ac17fead5d907b1e351b8\",\"author\":{\"email\":\"130499873+VoSoG@users.noreply.github.com\",\"name\":\"VoSoG\"},\"message\":\"Update index.html\",\"distinct\":true,\"url\":\"https://api.github.com/repos/VoSoG/geoboat-telaprincipal/commits/982b80f2957ff3b4289ac17fead5d907b1e351b8\"}]},\"public\":true,\"created_at\":\"2023-05-08T19:47:02Z\"},{\"id\":\"28927455739\",\"type\":\"PushEvent\",\"actor\":{\"id\":115341111,\"login\":\"souravvaishyakiyar\",\"display_login\":\"souravvaishyakiyar\",\"gravatar_id\":\"\",\"url\":\"https://api.github.com/users/souravvaishyakiyar\",\"avatar_url\":\"https://avatars.githubusercontent.com/u/115341111?\"},\"repo\":{\"id\":637472971,\"name\":\"souravvaishyakiyar/Learning-HTML-CSS-concepts\",\"url\":\"https://api.github.com/repos/souravvaishyakiyar/Learning-HTML-CSS-concepts\"},\"payload\":{\"repository_id\":637472971,\"push_id\":13565005508,\"size\":1,\"distinct_size\":1,\"ref\":\"refs/heads/main\",\"head\":\"6cd537da1bb6b61e9af2cc5862dc1b2b2b9b19da\",\"before\":\"45347d48aaa14d9522bd54d52b8ccc1b19ddb701\",\"commits\":[{\"sha\":\"6cd537da1bb6b61e9af2cc5862dc1b2b2b9b19da\",\"author\":{\"email\":\"souravvaishyakiyar@gmail.com\",\"name\":\"souravvaishyakiyar\"},\"message\":\"Css property\",\"distinct\":true,\"url\":\"https://api.github.com/repos/souravvaishyakiyar/Learning-HTML-CSS-concepts/commits/6cd537da1bb6b61e9af2cc5862dc1b2b2b9b19da\"}]},\"public\":true,\"created_at\":\"2023-05-08T19:47:02Z\"},{\"id\":\"28927456012\",\"type\":\"PushEvent\",\"actor\":{\"id\":107436743,\"login\":\"abrhamendale\",\"display_login\":\"abrhamendale\",\"gravatar_id\":\"\",\"url\":\"https://api.github.com/users/abrhamendale\",\"avatar_url\":\"https://avatars.githubusercontent.com/u/107436743?\"},\"repo\":{\"id\":636600403,\"name\":\"abrhamendale/alx-backend-storage\",\"url\":\"https://api.github.com/repos/abrhamendale/alx-backend-storage\"},\"payload\":{\"repository_id\":636600403,\"push_id\":13565005629,\"size\":1,\"distinct_size\":1,\"ref\":\"refs/heads/master\",\"head\":\"09bc58e10669c9e4ba300f23d54e0e7293a1c6ff\",\"before\":\"4069a0d3bf4eddd337dde1346c43f305aef0b3af\",\"commits\":[{\"sha\":\"09bc58e10669c9e4ba300f23d54e0e7293a1c6ff\",\"author\":{\"email\":\"abrhamendale9@gmail.com\",\"name\":\"Abrham Endale\"},\"message\":\"Added task\",\"distinct\":true,\"url\":\"https://api.github.com/repos/abrhamendale/alx-backend-storage/commits/09bc58e10669c9e4ba300f23d54e0e7293a1c6ff\"}]},\"public\":true,\"created_at\":\"2023-05-08T19:47:03Z\"},{\"id\":\"28927456008\",\"type\":\"PullRequestEvent\",\"actor\":{\"id\":130904850,\"login\":\"AnniePopova\",\"display_login\":\"AnniePopova\",\"gravatar_id\":\"\",\"url\":\"https://api.github.com/users/AnniePopova\",\"avatar_url\":\"https://avatars.githubusercontent.com/u/130904850?\"},\"repo\":{\"id\":637953090,\"name\":\"AnniePopova/Exp\",\"url\":\"https://api.github.com/repos/AnniePopova/Exp\"},\"payload\":{\"action\":\"opened\",\"number\":1,\"pull_request\":{\"url\":\"https://api.github.com/repos/AnniePopova/Exp/pulls/1\",\"id\":1342693383,\"node_id\":\"PR_kwDOJgZkQs5QB-AH\",\"html_url\":\"https://github.com/AnniePopova/Exp/pull/1\",\"diff_url\":\"https://github.com/AnniePopova/Exp/pull/1.diff\",\"patch_url\":\"https://github.com/AnniePopova/Exp/pull/1.patch\",\"issue_url\":\"https://api.github.com/repos/AnniePopova/Exp/issues/1\",\"number\":1,\"state\":\"open\",\"locked\":false,\"title\":\"test3\",\"user\":{\"login\":\"AnniePopova\",\"id\":130904850,\"node_id\":\"U_kgDOB81zEg\",\"avatar_url\":\"https://avatars.githubusercontent.com/u/130904850?v=4\",\"gravatar_id\":\"\",\"url\":\"https://api.github.com/users/AnniePopova\",\"html_url\":\"https://github.com/AnniePopova\",\"followers_url\":\"https://api.github.com/users/AnniePopova/followers\",\"following_url\":\"https://api.github.com/users/AnniePopova/following{/other_user}\",\"gists_url\":\"https://api.github.com/users/AnniePopova/gists{/gist_id}\",\"starred_url\":\"https://api.github.com/users/AnniePopova/starred{/owner}{/repo}\",\"subscriptions_url\":\"https://api.github.com/users/AnniePopova/subscriptions\",\"organizations_url\":\"https://api.github.com/users/AnniePopova/orgs\",\"repos_url\":\"https://api.github.com/users/AnniePopova/repos\",\"events_url\":\"https://api.github.com/users/AnniePopova/events{/privacy}\",\"received_events_url\":\"https://api.github.com/users/AnniePopova/received_events\",\"type\":\"User\",\"site_admin\":false},\"body\":null,\"created_at\":\"2023-05-08T19:47:02Z\",\"updated_at\":\"2023-05-08T19:47:02Z\",\"closed_at\":null,\"merged_at\":null,\"merge_commit_sha\":null,\"assignee\":null,\"assignees\":[],\"requested_reviewers\":[],\"requested_teams\":[],\"labels\":[],\"milestone\":null,\"draft\":false,\"commits_url\":\"https://api.github.com/repos/AnniePopova/Exp/pulls/1/commits\",\"review_comments_url\":\"https://api.github.com/repos/AnniePopova/Exp/pulls/1/comments\",\"review_comment_url\":\"https://api.github.com/repos/AnniePopova/Exp/pulls/comments{/number}\",\"comments_url\":\"https://api.github.com/repos/AnniePopova/Exp/issues/1/comments\",\"statuses_url\":\"https://api.github.com/repos/AnniePopova/Exp/statuses/d45ab0ac4bf68c47b2f40c174d4bd8740691da0c\",\"head\":{\"label\":\"AnniePopova:apple_pay\",\"ref\":\"apple_pay\",\"sha\":\"d45ab0ac4bf68c47b2f40c174d4bd8740691da0c\",\"user\":{\"login\":\"AnniePopova\",\"id\":130904850,\"node_id\":\"U_kgDOB81zEg\",\"avatar_url\":\"https://avatars.githubusercontent.com/u/130904850?v=4\",\"gravatar_id\":\"\",\"url\":\"https://api.github.com/users/AnniePopova\",\"html_url\":\"https://github.com/AnniePopova\",\"followers_url\":\"https://api.github.com/users/AnniePopova/followers\",\"following_url\":\"https://api.github.com/users/AnniePopova/following{/other_user}\",\"gists_url\":\"https://api.github.com/users/AnniePopova/gists{/gist_id}\",\"starred_url\":\"https://api.github.com/users/AnniePopova/starred{/owner}{/repo}\",\"subscriptions_url\":\"https://api.github.com/users/AnniePopova/subscriptions\",\"organizations_url\":\"https://api.github.com/users/AnniePopova/orgs\",\"repos_url\":\"https://api.github.com/users/AnniePopova/repos\",\"events_url\":\"https://api.github.com/users/AnniePopova/events{/privacy}\",\"received_events_url\":\"https://api.github.com/users/AnniePopova/received_events\",\"type\":\"User\",\"site_admin\":false},\"repo\":{\"id\":637953090,\"node_id\":\"R_kgDOJgZkQg\",\"name\":\"Exp\",\"full_name\":\"AnniePopova/Exp\",\"private\":false,\"owner\":{\"login\":\"AnniePopova\",\"id\":130904850,\"node_id\":\"U_kgDOB81zEg\",\"avatar_url\":\"https://avatars.githubusercontent.com/u/130904850?v=4\",\"gravatar_id\":\"\",\"url\":\"https://api.github.com/users/AnniePopova\",\"html_url\":\"https://github.com/AnniePopova\",\"followers_url\":\"https://api.github.com/users/AnniePopova/followers\",\"following_url\":\"https://api.github.com/users/AnniePopova/following{/other_user}\",\"gists_url\":\"https://api.github.com/users/AnniePopova/gists{/gist_id}\",\"starred_url\":\"https://api.github.com/users/AnniePopova/starred{/owner}{/repo}\",\"subscriptions_url\":\"https://api.github.com/users/AnniePopova/subscriptions\",\"organizations_url\":\"https://api.github.com/users/AnniePopova/orgs\",\"repos_url\":\"https://api.github.com/users/AnniePopova/repos\",\"events_url\":\"https://api.github.com/users/AnniePopova/events{/privacy}\",\"received_events_url\":\"https://api.github.com/users/AnniePopova/received_events\",\"type\":\"User\",\"site_admin\":false},\"html_url\":\"https://github.com/AnniePopova/Exp\",\"description\":null,\"fork\":false,\"url\":\"https://api.github.com/repos/AnniePopova/Exp\",\"forks_url\":\"https://api.github.com/repos/AnniePopova/Exp/forks\",\"keys_url\":\"https://api.github.com/repos/AnniePopova/Exp/keys{/key_id}\",\"collaborators_url\":\"https://api.github.com/repos/AnniePopova/Exp/collaborators{/collaborator}\",\"teams_url\":\"https://api.github.com/repos/AnniePopova/Exp/teams\",\"hooks_url\":\"https://api.github.com/repos/AnniePopova/Exp/hooks\",\"issue_events_url\":\"https://api.github.com/repos/AnniePopova/Exp/issues/events{/number}\",\"events_url\":\"https://api.github.com/repos/AnniePopova/Exp/events\",\"assignees_url\":\"https://api.github.com/repos/AnniePopova/Exp/assignees{/user}\",\"branches_url\":\"https://api.github.com/repos/AnniePopova/Exp/branches{/branch}\",\"tags_url\":\"https://api.github.com/repos/AnniePopova/Exp/tags\",\"blobs_url\":\"https://api.github.com/repos/AnniePopova/Exp/git/blobs{/sha}\",\"git_tags_url\":\"https://api.github.com/repos/AnniePopova/Exp/git/tags{/sha}\",\"git_refs_url\":\"https://api.github.com/repos/AnniePopova/Exp/git/refs{/sha}\",\"trees_url\":\"https://api.github.com/repos/AnniePopova/Exp/git/trees{/sha}\",\"statuses_url\":\"https://api.github.com/repos/AnniePopova/Exp/statuses/{sha}\",\"languages_url\":\"https://api.github.com/repos/AnniePopova/Exp/languages\",\"stargazers_url\":\"https://api.github.com/repos/AnniePopova/Exp/stargazers\",\"contributors_url\":\"https://api.github.com/repos/AnniePopova/Exp/contributors\",\"subscribers_url\":\"https://api.github.com/repos/AnniePopova/Exp/subscribers\",\"subscription_url\":\"https://api.github.com/repos/AnniePopova/Exp/subscription\",\"commits_url\":\"https://api.github.com/repos/AnniePopova/Exp/commits{/sha}\",\"git_commits_url\":\"https://api.github.com/repos/AnniePopova/Exp/git/commits{/sha}\",\"comments_url\":\"https://api.github.com/repos/AnniePopova/Exp/comments{/number}\",\"issue_comment_url\":\"https://api.github.com/repos/AnniePopova/Exp/issues/comments{/number}\",\"contents_url\":\"https://api.github.com/repos/AnniePopova/Exp/contents/{+path}\",\"compare_url\":\"https://api.github.com/repos/AnniePopova/Exp/compare/{base}...{head}\",\"merges_url\":\"https://api.github.com/repos/AnniePopova/Exp/merges\",\"archive_url\":\"https://api.github.com/repos/AnniePopova/Exp/{archive_format}{/ref}\",\"downloads_url\":\"https://api.github.com/repos/AnniePopova/Exp/downloads\",\"issues_url\":\"https://api.github.com/repos/AnniePopova/Exp/issues{/number}\",\"pulls_url\":\"https://api.github.com/repos/AnniePopova/Exp/pulls{/number}\",\"milestones_url\":\"https://api.github.com/repos/AnniePopova/Exp/milestones{/number}\",\"notifications_url\":\"https://api.github.com/repos/AnniePopova/Exp/notifications{?since,all,participating}\",\"labels_url\":\"https://api.github.com/repos/AnniePopova/Exp/labels{/name}\",\"releases_url\":\"https://api.github.com/repos/AnniePopova/Exp/releases{/id}\",\"deployments_url\":\"https://api.github.com/repos/AnniePopova/Exp/deployments\",\"created_at\":\"2023-05-08T19:08:55Z\",\"updated_at\":\"2023-05-08T19:08:56Z\",\"pushed_at\":\"2023-05-08T19:46:02Z\",\"git_url\":\"git://github.com/AnniePopova/Exp.git\",\"ssh_url\":\"git@github.com:AnniePopova/Exp.git\",\"clone_url\":\"https://github.com/AnniePopova/Exp.git\",\"svn_url\":\"https://github.com/AnniePopova/Exp\",\"homepage\":null,\"size\":0,\"stargazers_count\":0,\"watchers_count\":0,\"language\":null,\"has_issues\":true,\"has_projects\":true,\"has_downloads\":true,\"has_wiki\":true,\"has_pages\":false,\"has_discussions\":false,\"forks_count\":0,\"mirror_url\":null,\"archived\":false,\"disabled\":false,\"open_issues_count\":1,\"license\":null,\"allow_forking\":true,\"is_template\":false,\"web_commit_signoff_required\":false,\"topics\":[],\"visibility\":\"public\",\"forks\":0,\"open_issues\":1,\"watchers\":0,\"default_branch\":\"main\"}},\"base\":{\"label\":\"AnniePopova:main\",\"ref\":\"main\",\"sha\":\"7a794f2d70610cbec9ebdc87b96265932256153c\",\"user\":{\"login\":\"AnniePopova\",\"id\":130904850,\"node_id\":\"U_kgDOB81zEg\",\"avatar_url\":\"https://avatars.githubusercontent.com/u/130904850?v=4\",\"gravatar_id\":\"\",\"url\":\"https://api.github.com/users/AnniePopova\",\"html_url\":\"https://github.com/AnniePopova\",\"followers_url\":\"https://api.github.com/users/AnniePopova/followers\",\"following_url\":\"https://api.github.com/users/AnniePopova/following{/other_user}\",\"gists_url\":\"https://api.github.com/users/AnniePopova/gists{/gist_id}\",\"starred_url\":\"https://api.github.com/users/AnniePopova/starred{/owner}{/repo}\",\"subscriptions_url\":\"https://api.github.com/users/AnniePopova/subscriptions\",\"organizations_url\":\"https://api.github.com/users/AnniePopova/orgs\",\"repos_url\":\"https://api.github.com/users/AnniePopova/repos\",\"events_url\":\"https://api.github.com/users/AnniePopova/events{/privacy}\",\"received_events_url\":\"https://api.github.com/users/AnniePopova/received_events\",\"type\":\"User\",\"site_admin\":false},\"repo\":{\"id\":637953090,\"node_id\":\"R_kgDOJgZkQg\",\"name\":\"Exp\",\"full_name\":\"AnniePopova/Exp\",\"private\":false,\"owner\":{\"login\":\"AnniePopova\",\"id\":130904850,\"node_id\":\"U_kgDOB81zEg\",\"avatar_url\":\"https://avatars.githubusercontent.com/u/130904850?v=4\",\"gravatar_id\":\"\",\"url\":\"https://api.github.com/users/AnniePopova\",\"html_url\":\"https://github.com/AnniePopova\",\"followers_url\":\"https://api.github.com/users/AnniePopova/followers\",\"following_url\":\"https://api.github.com/users/AnniePopova/following{/other_user}\",\"gists_url\":\"https://api.github.com/users/AnniePopova/gists{/gist_id}\",\"starred_url\":\"https://api.github.com/users/AnniePopova/starred{/owner}{/repo}\",\"subscriptions_url\":\"https://api.github.com/users/AnniePopova/subscriptions\",\"organizations_url\":\"https://api.github.com/users/AnniePopova/orgs\",\"repos_url\":\"https://api.github.com/users/AnniePopova/repos\",\"events_url\":\"https://api.github.com/users/AnniePopova/events{/privacy}\",\"received_events_url\":\"https://api.github.com/users/AnniePopova/received_events\",\"type\":\"User\",\"site_admin\":false},\"html_url\":\"https://github.com/AnniePopova/Exp\",\"description\":null,\"fork\":false,\"url\":\"https://api.github.com/repos/AnniePopova/Exp\",\"forks_url\":\"https://api.github.com/repos/AnniePopova/Exp/forks\",\"keys_url\":\"https://api.github.com/repos/AnniePopova/Exp/keys{/key_id}\",\"collaborators_url\":\"https://api.github.com/repos/AnniePopova/Exp/collaborators{/collaborator}\",\"teams_url\":\"https://api.github.com/repos/AnniePopova/Exp/teams\",\"hooks_url\":\"https://api.github.com/repos/AnniePopova/Exp/hooks\",\"issue_events_url\":\"https://api.github.com/repos/AnniePopova/Exp/issues/events{/number}\",\"events_url\":\"https://api.github.com/repos/AnniePopova/Exp/events\",\"assignees_url\":\"https://api.github.com/repos/AnniePopova/Exp/assignees{/user}\",\"branches_url\":\"https://api.github.com/repos/AnniePopova/Exp/branches{/branch}\",\"tags_url\":\"https://api.github.com/repos/AnniePopova/Exp/tags\",\"blobs_url\":\"https://api.github.com/repos/AnniePopova/Exp/git/blobs{/sha}\",\"git_tags_url\":\"https://api.github.com/repos/AnniePopova/Exp/git/tags{/sha}\",\"git_refs_url\":\"https://api.github.com/repos/AnniePopova/Exp/git/refs{/sha}\",\"trees_url\":\"https://api.github.com/repos/AnniePopova/Exp/git/trees{/sha}\",\"statuses_url\":\"https://api.github.com/repos/AnniePopova/Exp/statuses/{sha}\",\"languages_url\":\"https://api.github.com/repos/AnniePopova/Exp/languages\",\"stargazers_url\":\"https://api.github.com/repos/AnniePopova/Exp/stargazers\",\"contributors_url\":\"https://api.github.com/repos/AnniePopova/Exp/contributors\",\"subscribers_url\":\"https://api.github.com/repos/AnniePopova/Exp/subscribers\",\"subscription_url\":\"https://api.github.com/repos/AnniePopova/Exp/subscription\",\"commits_url\":\"https://api.github.com/repos/AnniePopova/Exp/commits{/sha}\",\"git_commits_url\":\"https://api.github.com/repos/AnniePopova/Exp/git/commits{/sha}\",\"comments_url\":\"https://api.github.com/repos/AnniePopova/Exp/comments{/number}\",\"issue_comment_url\":\"https://api.github.com/repos/AnniePopova/Exp/issues/comments{/number}\",\"contents_url\":\"https://api.github.com/repos/AnniePopova/Exp/contents/{+path}\",\"compare_url\":\"https://api.github.com/repos/AnniePopova/Exp/compare/{base}...{head}\",\"merges_url\":\"https://api.github.com/repos/AnniePopova/Exp/merges\",\"archive_url\":\"https://api.github.com/repos/AnniePopova/Exp/{archive_format}{/ref}\",\"downloads_url\":\"https://api.github.com/repos/AnniePopova/Exp/downloads\",\"issues_url\":\"https://api.github.com/repos/AnniePopova/Exp/issues{/number}\",\"pulls_url\":\"https://api.github.com/repos/AnniePopova/Exp/pulls{/number}\",\"milestones_url\":\"https://api.github.com/repos/AnniePopova/Exp/milestones{/number}\",\"notifications_url\":\"https://api.github.com/repos/AnniePopova/Exp/notifications{?since,all,participating}\",\"labels_url\":\"https://api.github.com/repos/AnniePopova/Exp/labels{/name}\",\"releases_url\":\"https://api.github.com/repos/AnniePopova/Exp/releases{/id}\",\"deployments_url\":\"https://api.github.com/repos/AnniePopova/Exp/deployments\",\"created_at\":\"2023-05-08T19:08:55Z\",\"updated_at\":\"2023-05-08T19:08:56Z\",\"pushed_at\":\"2023-05-08T19:46:02Z\",\"git_url\":\"git://github.com/AnniePopova/Exp.git\",\"ssh_url\":\"git@github.com:AnniePopova/Exp.git\",\"clone_url\":\"https://github.com/AnniePopova/Exp.git\",\"svn_url\":\"https://github.com/AnniePopova/Exp\",\"homepage\":null,\"size\":0,\"stargazers_count\":0,\"watchers_count\":0,\"language\":null,\"has_issues\":true,\"has_projects\":true,\"has_downloads\":true,\"has_wiki\":true,\"has_pages\":false,\"has_discussions\":false,\"forks_count\":0,\"mirror_url\":null,\"archived\":false,\"disabled\":false,\"open_issues_count\":1,\"license\":null,\"allow_forking\":true,\"is_template\":false,\"web_commit_signoff_required\":false,\"topics\":[],\"visibility\":\"public\",\"forks\":0,\"open_issues\":1,\"watchers\":0,\"default_branch\":\"main\"}},\"_links\":{\"self\":{\"href\":\"https://api.github.com/repos/AnniePopova/Exp/pulls/1\"},\"html\":{\"href\":\"https://github.com/AnniePopova/Exp/pull/1\"},\"issue\":{\"href\":\"https://api.github.com/repos/AnniePopova/Exp/issues/1\"},\"comments\":{\"href\":\"https://api.github.com/repos/AnniePopova/Exp/issues/1/comments\"},\"review_comments\":{\"href\":\"https://api.github.com/repos/AnniePopova/Exp/pulls/1/comments\"},\"review_comment\":{\"href\":\"https://api.github.com/repos/AnniePopova/Exp/pulls/comments{/number}\"},\"commits\":{\"href\":\"https://api.github.com/repos/AnniePopova/Exp/pulls/1/commits\"},\"statuses\":{\"href\":\"https://api.github.com/repos/AnniePopova/Exp/statuses/d45ab0ac4bf68c47b2f40c174d4bd8740691da0c\"}},\"author_association\":\"OWNER\",\"auto_merge\":null,\"active_lock_reason\":null,\"merged\":false,\"mergeable\":null,\"rebaseable\":null,\"mergeable_state\":\"unknown\",\"merged_by\":null,\"comments\":0,\"review_comments\":0,\"maintainer_can_modify\":false,\"commits\":1,\"additions\":4,\"deletions\":0,\"changed_files\":2}},\"public\":true,\"created_at\":\"2023-05-08T19:47:03Z\"},{\"id\":\"28927455660\",\"type\":\"IssueCommentEvent\",\"actor\":{\"id\":11819936,\"login\":\"grishasobol\",\"display_login\":\"grishasobol\",\"gravatar_id\":\"\",\"url\":\"https://api.github.com/users/grishasobol\",\"avatar_url\":\"https://avatars.githubusercontent.com/u/11819936?\"},\"repo\":{\"id\":388872173,\"name\":\"gear-tech/gear\",\"url\":\"https://api.github.com/repos/gear-tech/gear\"},\"payload\":{\"action\":\"created\",\"issue\":{\"url\":\"https://api.github.com/repos/gear-tech/gear/issues/2595\",\"repository_url\":\"https://api.github.com/repos/gear-tech/gear\",\"labels_url\":\"https://api.github.com/repos/gear-tech/gear/issues/2595/labels{/name}\",\"comments_url\":\"https://api.github.com/repos/gear-tech/gear/issues/2595/comments\",\"events_url\":\"https://api.github.com/repos/gear-tech/gear/issues/2595/events\",\"html_url\":\"https://github.com/gear-tech/gear/pull/2595\",\"id\":1686196675,\"node_id\":\"PR_kwDOFy237c5PQyk7\",\"number\":2595,\"title\":\"feat!: Add new RI to pre process and access memory simultaneously \",\"user\":{\"login\":\"grishasobol\",\"id\":11819936,\"node_id\":\"MDQ6VXNlcjExODE5OTM2\",\"avatar_url\":\"https://avatars.githubusercontent.com/u/11819936?v=4\",\"gravatar_id\":\"\",\"url\":\"https://api.github.com/users/grishasobol\",\"html_url\":\"https://github.com/grishasobol\",\"followers_url\":\"https://api.github.com/users/grishasobol/followers\",\"following_url\":\"https://api.github.com/users/grishasobol/following{/other_user}\",\"gists_url\":\"https://api.github.com/users/grishasobol/gists{/gist_id}\",\"starred_url\":\"https://api.github.com/users/grishasobol/starred{/owner}{/repo}\",\"subscriptions_url\":\"https://api.github.com/users/grishasobol/subscriptions\",\"organizations_url\":\"https://api.github.com/users/grishasobol/orgs\",\"repos_url\":\"https://api.github.com/users/grishasobol/repos\",\"events_url\":\"https://api.github.com/users/grishasobol/events{/privacy}\",\"received_events_url\":\"https://api.github.com/users/grishasobol/received_events\",\"type\":\"User\",\"site_admin\":false},\"labels\":[{\"id\":3194595786,\"node_id\":\"MDU6TGFiZWwzMTk0NTk1Nzg2\",\"url\":\"https://api.github.com/repos/gear-tech/gear/labels/A1-inprogress\",\"name\":\"A1-inprogress\",\"color\":\"D4C5F9\",\"default\":false,\"description\":\"Issue is in progress or PR draft is not ready to be reviewed\"}],\"state\":\"closed\",\"locked\":false,\"assignee\":{\"login\":\"grishasobol\",\"id\":11819936,\"node_id\":\"MDQ6VXNlcjExODE5OTM2\",\"avatar_url\":\"https://avatars.githubusercontent.com/u/11819936?v=4\",\"gravatar_id\":\"\",\"url\":\"https://api.github.com/users/grishasobol\",\"html_url\":\"https://github.com/grishasobol\",\"followers_url\":\"https://api.github.com/users/grishasobol/followers\",\"following_url\":\"https://api.github.com/users/grishasobol/following{/other_user}\",\"gists_url\":\"https://api.github.com/users/grishasobol/gists{/gist_id}\",\"starred_url\":\"https://api.github.com/users/grishasobol/starred{/owner}{/repo}\",\"subscriptions_url\":\"https://api.github.com/users/grishasobol/subscriptions\",\"organizations_url\":\"https://api.github.com/users/grishasobol/orgs\",\"repos_url\":\"https://api.github.com/users/grishasobol/repos\",\"events_url\":\"https://api.github.com/users/grishasobol/events{/privacy}\",\"received_events_url\":\"https://api.github.com/users/grishasobol/received_events\",\"type\":\"User\",\"site_admin\":false},\"assignees\":[{\"login\":\"grishasobol\",\"id\":11819936,\"node_id\":\"MDQ6VXNlcjExODE5OTM2\",\"avatar_url\":\"https://avatars.githubusercontent.com/u/11819936?v=4\",\"gravatar_id\":\"\",\"url\":\"https://api.github.com/users/grishasobol\",\"html_url\":\"https://github.com/grishasobol\",\"followers_url\":\"https://api.github.com/users/grishasobol/followers\",\"following_url\":\"https://api.github.com/users/grishasobol/following{/other_user}\",\"gists_url\":\"https://api.github.com/users/grishasobol/gists{/gist_id}\",\"starred_url\":\"https://api.github.com/users/grishasobol/starred{/owner}{/repo}\",\"subscriptions_url\":\"https://api.github.com/users/grishasobol/subscriptions\",\"organizations_url\":\"https://api.github.com/users/grishasobol/orgs\",\"repos_url\":\"https://api.github.com/users/grishasobol/repos\",\"events_url\":\"https://api.github.com/users/grishasobol/events{/privacy}\",\"received_events_url\":\"https://api.github.com/users/grishasobol/received_events\",\"type\":\"User\",\"site_admin\":false}],\"milestone\":null,\"comments\":1,\"created_at\":\"2023-04-27T06:25:02Z\",\"updated_at\":\"2023-05-08T19:47:02Z\",\"closed_at\":\"2023-05-08T19:47:01Z\",\"author_association\":\"MEMBER\",\"active_lock_reason\":null,\"draft\":false,\"pull_request\":{\"url\":\"https://api.github.com/repos/gear-tech/gear/pulls/2595\",\"html_url\":\"https://github.com/gear-tech/gear/pull/2595\",\"diff_url\":\"https://github.com/gear-tech/gear/pull/2595.diff\",\"patch_url\":\"https://github.com/gear-tech/gear/pull/2595.patch\",\"merged_at\":null},\"body\":null,\"reactions\":{\"url\":\"https://api.github.com/repos/gear-tech/gear/issues/2595/reactions\",\"total_count\":0,\"+1\":0,\"-1\":0,\"laugh\":0,\"hooray\":0,\"confused\":0,\"heart\":0,\"rocket\":0,\"eyes\":0},\"timeline_url\":\"https://api.github.com/repos/gear-tech/gear/issues/2595/timeline\",\"performed_via_github_app\":null,\"state_reason\":null},\"comment\":{\"url\":\"https://api.github.com/repos/gear-tech/gear/issues/comments/1538947372\",\"html_url\":\"https://github.com/gear-tech/gear/pull/2595#issuecomment-1538947372\",\"issue_url\":\"https://api.github.com/repos/gear-tech/gear/issues/2595\",\"id\":1538947372,\"node_id\":\"IC_kwDOFy237c5bunks\",\"user\":{\"login\":\"grishasobol\",\"id\":11819936,\"node_id\":\"MDQ6VXNlcjExODE5OTM2\",\"avatar_url\":\"https://avatars.githubusercontent.com/u/11819936?v=4\",\"gravatar_id\":\"\",\"url\":\"https://api.github.com/users/grishasobol\",\"html_url\":\"https://github.com/grishasobol\",\"followers_url\":\"https://api.github.com/users/grishasobol/followers\",\"following_url\":\"https://api.github.com/users/grishasobol/following{/other_user}\",\"gists_url\":\"https://api.github.com/users/grishasobol/gists{/gist_id}\",\"starred_url\":\"https://api.github.com/users/grishasobol/starred{/owner}{/repo}\",\"subscriptions_url\":\"https://api.github.com/users/grishasobol/subscriptions\",\"organizations_url\":\"https://api.github.com/users/grishasobol/orgs\",\"repos_url\":\"https://api.github.com/users/grishasobol/repos\",\"events_url\":\"https://api.github.com/users/grishasobol/events{/privacy}\",\"received_events_url\":\"https://api.github.com/users/grishasobol/received_events\",\"type\":\"User\",\"site_admin\":false},\"created_at\":\"2023-05-08T19:47:01Z\",\"updated_at\":\"2023-05-08T19:47:01Z\",\"author_association\":\"MEMBER\",\"body\":\"Cannot be done presently because must be done with colaboration of new host sandbox  realization\",\"reactions\":{\"url\":\"https://api.github.com/repos/gear-tech/gear/issues/comments/1538947372/reactions\",\"total_count\":0,\"+1\":0,\"-1\":0,\"laugh\":0,\"hooray\":0,\"confused\":0,\"heart\":0,\"rocket\":0,\"eyes\":0},\"performed_via_github_app\":null}},\"public\":true,\"created_at\":\"2023-05-08T19:47:02Z\",\"org\":{\"id\":72395063,\"login\":\"gear-tech\",\"gravatar_id\":\"\",\"url\":\"https://api.github.com/orgs/gear-tech\",\"avatar_url\":\"https://avatars.githubusercontent.com/u/72395063?\"}},{\"id\":\"28927455991\",\"type\":\"PushEvent\",\"actor\":{\"id\":41898282,\"login\":\"github-actions[bot]\",\"display_login\":\"github-actions\",\"gravatar_id\":\"\",\"url\":\"https://api.github.com/users/github-actions[bot]\",\"avatar_url\":\"https://avatars.githubusercontent.com/u/41898282?\"},\"repo\":{\"id\":580826965,\"name\":\"caliwyr/Google-Trend\",\"url\":\"https://api.github.com/repos/caliwyr/Google-Trend\"},\"payload\":{\"repository_id\":580826965,\"push_id\":13565005616,\"size\":1,\"distinct_size\":1,\"ref\":\"refs/heads/main\",\"head\":\"b64d722bc60a47a5a5ec2faf66263512ca362681\",\"before\":\"e3d264f2345c26a7f52f2be04e8a27a1eaf81bbc\",\"commits\":[{\"sha\":\"b64d722bc60a47a5a5ec2faf66263512ca362681\",\"author\":{\"email\":\"60120589+caliwyr@users.noreply.github.com\",\"name\":\"caliwyr\"},\"message\":\"Update Data 2023-05-08 19:47:02 UTC\",\"distinct\":true,\"url\":\"https://api.github.com/repos/caliwyr/Google-Trend/commits/b64d722bc60a47a5a5ec2faf66263512ca362681\"}]},\"public\":true,\"created_at\":\"2023-05-08T19:47:03Z\"},{\"id\":\"28927456013\",\"type\":\"PullRequestReviewEvent\",\"actor\":{\"id\":52157662,\"login\":\"rakuraev\",\"display_login\":\"rakuraev\",\"gravatar_id\":\"\",\"url\":\"https://api.github.com/users/rakuraev\",\"avatar_url\":\"https://avatars.githubusercontent.com/u/52157662?\"},\"repo\":{\"id\":628996161,\"name\":\"encoreee/GameDevPractikum\",\"url\":\"https://api.github.com/repos/encoreee/GameDevPractikum\"},\"payload\":{\"action\":\"created\",\"review\":{\"id\":1417405637,\"node_id\":\"PRR_kwDOJX24Qc5Ue-TF\",\"user\":{\"login\":\"rakuraev\",\"id\":52157662,\"node_id\":\"MDQ6VXNlcjUyMTU3NjYy\",\"avatar_url\":\"https://avatars.githubusercontent.com/u/52157662?v=4\",\"gravatar_id\":\"\",\"url\":\"https://api.github.com/users/rakuraev\",\"html_url\":\"https://github.com/rakuraev\",\"followers_url\":\"https://api.github.com/users/rakuraev/followers\",\"following_url\":\"https://api.github.com/users/rakuraev/following{/other_user}\",\"gists_url\":\"https://api.github.com/users/rakuraev/gists{/gist_id}\",\"starred_url\":\"https://api.github.com/users/rakuraev/starred{/owner}{/repo}\",\"subscriptions_url\":\"https://api.github.com/users/rakuraev/subscriptions\",\"organizations_url\":\"https://api.github.com/users/rakuraev/orgs\",\"repos_url\":\"https://api.github.com/users/rakuraev/repos\",\"events_url\":\"https://api.github.com/users/rakuraev/events{/privacy}\",\"received_events_url\":\"https://api.github.com/users/rakuraev/received_events\",\"type\":\"User\",\"site_admin\":false},\"body\":null,\"commit_id\":\"45b84d8330818933711342428d7459bcb8883c75\",\"submitted_at\":\"2023-05-08T19:47:02Z\",\"state\":\"commented\",\"html_url\":\"https://github.com/encoreee/GameDevPractikum/pull/15#pullrequestreview-1417405637\",\"pull_request_url\":\"https://api.github.com/repos/encoreee/GameDevPractikum/pulls/15\",\"author_association\":\"COLLABORATOR\",\"_links\":{\"html\":{\"href\":\"https://github.com/encoreee/GameDevPractikum/pull/15#pullrequestreview-1417405637\"},\"pull_request\":{\"href\":\"https://api.github.com/repos/encoreee/GameDevPractikum/pulls/15\"}}},\"pull_request\":{\"url\":\"https://api.github.com/repos/encoreee/GameDevPractikum/pulls/15\",\"id\":1333933453,\"node_id\":\"PR_kwDOJX24Qc5PgjWN\",\"html_url\":\"https://github.com/encoreee/GameDevPractikum/pull/15\",\"diff_url\":\"https://github.com/encoreee/GameDevPractikum/pull/15.diff\",\"patch_url\":\"https://github.com/encoreee/GameDevPractikum/pull/15.patch\",\"issue_url\":\"https://api.github.com/repos/encoreee/GameDevPractikum/issues/15\",\"number\":15,\"state\":\"open\",\"locked\":false,\"title\":\"Rakuraev/gam 17\",\"user\":{\"login\":\"rakuraev\",\"id\":52157662,\"node_id\":\"MDQ6VXNlcjUyMTU3NjYy\",\"avatar_url\":\"https://avatars.githubusercontent.com/u/52157662?v=4\",\"gravatar_id\":\"\",\"url\":\"https://api.github.com/users/rakuraev\",\"html_url\":\"https://github.com/rakuraev\",\"followers_url\":\"https://api.github.com/users/rakuraev/followers\",\"following_url\":\"https://api.github.com/users/rakuraev/following{/other_user}\",\"gists_url\":\"https://api.github.com/users/rakuraev/gists{/gist_id}\",\"starred_url\":\"https://api.github.com/users/rakuraev/starred{/owner}{/repo}\",\"subscriptions_url\":\"https://api.github.com/users/rakuraev/subscriptions\",\"organizations_url\":\"https://api.github.com/users/rakuraev/orgs\",\"repos_url\":\"https://api.github.com/users/rakuraev/repos\",\"events_url\":\"https://api.github.com/users/rakuraev/events{/privacy}\",\"received_events_url\":\"https://api.github.com/users/rakuraev/received_events\",\"type\":\"User\",\"site_admin\":false},\"body\":\"## GAM-17 Верстка страниц форума\\\\r\\\\n\\\\r\\\\nЧто сделано: \\\\r\\\\n- Сверстаны страницы форума и треда\\\\r\\\\n![CleanShot 2023-05-01 at 18 11 41](https://user-images.githubusercontent.com/52157662/235474564-939fcdd8-85f3-4b52-ab44-f37002a0f719.png)\\\\r\\\\n![CleanShot 2023-05-01 at 18 12 34](https://user-images.githubusercontent.com/52157662/235474720-57a83523-2292-424d-9d64-8dc7acb1d8a7.png)\\\\r\\\\n- Пагинация для списка тредов\\\\r\\\\n![CleanShot 2023-05-01 at 18 13 57](https://user-images.githubusercontent.com/52157662/235474954-8823dc79-8140-4bc0-886c-104ba9acbe33.gif)\\\\r\\\\n- Создание новой темы(треда)\\\\r\\\\n![CleanShot 2023-05-01 at 18 15 35](https://user-images.githubusercontent.com/52157662/235475469-7157d9c2-8121-4679-9100-cf68a5a11f97.gif)\\\\r\\\\n- Добавлена проверка на ошибки typescript в `pre-comit`\\\\r\\\\n- Добавлен `vite-plugin-cherker` для подсветки TS ошибок\",\"created_at\":\"2023-05-01T15:20:02Z\",\"updated_at\":\"2023-05-08T19:47:03Z\",\"closed_at\":null,\"merged_at\":null,\"merge_commit_sha\":\"091af3c30baf2455f238d7b69fa6cf40a6a84512\",\"assignee\":null,\"assignees\":[],\"requested_reviewers\":[],\"requested_teams\":[],\"labels\":[],\"milestone\":null,\"draft\":false,\"commits_url\":\"https://api.github.com/repos/encoreee/GameDevPractikum/pulls/15/commits\",\"review_comments_url\":\"https://api.github.com/repos/encoreee/GameDevPractikum/pulls/15/comments\",\"review_comment_url\":\"https://api.github.com/repos/encoreee/GameDevPractikum/pulls/comments{/number}\",\"comments_url\":\"https://api.github.com/repos/encoreee/GameDevPractikum/issues/15/comments\",\"statuses_url\":\"https://api.github.com/repos/encoreee/GameDevPractikum/statuses/3fcaaa4896ed80274560a5e1ff690271d1e863e8\",\"head\":{\"label\":\"encoreee:rakuraev/gam-17\",\"ref\":\"rakuraev/gam-17\",\"sha\":\"3fcaaa4896ed80274560a5e1ff690271d1e863e8\",\"user\":{\"login\":\"encoreee\",\"id\":44232406,\"node_id\":\"MDQ6VXNlcjQ0MjMyNDA2\",\"avatar_url\":\"https://avatars.githubusercontent.com/u/44232406?v=4\",\"gravatar_id\":\"\",\"url\":\"https://api.github.com/users/encoreee\",\"html_url\":\"https://github.com/encoreee\",\"followers_url\":\"https://api.github.com/users/encoreee/followers\",\"following_url\":\"https://api.github.com/users/encoreee/following{/other_user}\",\"gists_url\":\"https://api.github.com/users/encoreee/gists{/gist_id}\",\"starred_url\":\"https://api.github.com/users/encoreee/starred{/owner}{/repo}\",\"subscriptions_url\":\"https://api.github.com/users/encoreee/subscriptions\",\"organizations_url\":\"https://api.github.com/users/encoreee/orgs\",\"repos_url\":\"https://api.github.com/users/encoreee/repos\",\"events_url\":\"https://api.github.com/users/encoreee/events{/privacy}\",\"received_events_url\":\"https://api.github.com/users/encoreee/received_events\",\"type\":\"User\",\"site_admin\":false},\"repo\":{\"id\":628996161,\"node_id\":\"R_kgDOJX24QQ\",\"name\":\"GameDevPractikum\",\"full_name\":\"encoreee/GameDevPractikum\",\"private\":false,\"owner\":{\"login\":\"encoreee\",\"id\":44232406,\"node_id\":\"MDQ6VXNlcjQ0MjMyNDA2\",\"avatar_url\":\"https://avatars.githubusercontent.com/u/44232406?v=4\",\"gravatar_id\":\"\",\"url\":\"https://api.github.com/users/encoreee\",\"html_url\":\"https://github.com/encoreee\",\"followers_url\":\"https://api.github.com/users/encoreee/followers\",\"following_url\":\"https://api.github.com/users/encoreee/following{/other_user}\",\"gists_url\":\"https://api.github.com/users/encoreee/gists{/gist_id}\",\"starred_url\":\"https://api.github.com/users/encoreee/starred{/owner}{/repo}\",\"subscriptions_url\":\"https://api.github.com/users/encoreee/subscriptions\",\"organizations_url\":\"https://api.github.com/users/encoreee/orgs\",\"repos_url\":\"https://api.github.com/users/encoreee/repos\",\"events_url\":\"https://api.github.com/users/encoreee/events{/privacy}\",\"received_events_url\":\"https://api.github.com/users/encoreee/received_events\",\"type\":\"User\",\"site_admin\":false},\"html_url\":\"https://github.com/encoreee/GameDevPractikum\",\"description\":null,\"fork\":false,\"url\":\"https://api.github.com/repos/encoreee/GameDevPractikum\",\"forks_url\":\"https://api.github.com/repos/encoreee/GameDevPractikum/forks\",\"keys_url\":\"https://api.github.com/repos/encoreee/GameDevPractikum/keys{/key_id}\",\"collaborators_url\":\"https://api.github.com/repos/encoreee/GameDevPractikum/collaborators{/collaborator}\",\"teams_url\":\"https://api.github.com/repos/encoreee/GameDevPractikum/teams\",\"hooks_url\":\"https://api.github.com/repos/encoreee/GameDevPractikum/hooks\",\"issue_events_url\":\"https://api.github.com/repos/encoreee/GameDevPractikum/issues/events{/number}\",\"events_url\":\"https://api.github.com/repos/encoreee/GameDevPractikum/events\",\"assignees_url\":\"https://api.github.com/repos/encoreee/GameDevPractikum/assignees{/user}\",\"branches_url\":\"https://api.github.com/repos/encoreee/GameDevPractikum/branches{/branch}\",\"tags_url\":\"https://api.github.com/repos/encoreee/GameDevPractikum/tags\",\"blobs_url\":\"https://api.github.com/repos/encoreee/GameDevPractikum/git/blobs{/sha}\",\"git_tags_url\":\"https://api.github.com/repos/encoreee/GameDevPractikum/git/tags{/sha}\",\"git_refs_url\":\"https://api.github.com/repos/encoreee/GameDevPractikum/git/refs{/sha}\",\"trees_url\":\"https://api.github.com/repos/encoreee/GameDevPractikum/git/trees{/sha}\",\"statuses_url\":\"https://api.github.com/repos/encoreee/GameDevPractikum/statuses/{sha}\",\"languages_url\":\"https://api.github.com/repos/encoreee/GameDevPractikum/languages\",\"stargazers_url\":\"https://api.github.com/repos/encoreee/GameDevPractikum/stargazers\",\"contributors_url\":\"https://api.github.com/repos/encoreee/GameDevPractikum/contributors\",\"subscribers_url\":\"https://api.github.com/repos/encoreee/GameDevPractikum/subscribers\",\"subscription_url\":\"https://api.github.com/repos/encoreee/GameDevPractikum/subscription\",\"commits_url\":\"https://api.github.com/repos/encoreee/GameDevPractikum/commits{/sha}\",\"git_commits_url\":\"https://api.github.com/repos/encoreee/GameDevPractikum/git/commits{/sha}\",\"comments_url\":\"https://api.github.com/repos/encoreee/GameDevPractikum/comments{/number}\",\"issue_comment_url\":\"https://api.github.com/repos/encoreee/GameDevPractikum/issues/comments{/number}\",\"contents_url\":\"https://api.github.com/repos/encoreee/GameDevPractikum/contents/{+path}\",\"compare_url\":\"https://api.github.com/repos/encoreee/GameDevPractikum/compare/{base}...{head}\",\"merges_url\":\"https://api.github.com/repos/encoreee/GameDevPractikum/merges\",\"archive_url\":\"https://api.github.com/repos/encoreee/GameDevPractikum/{archive_format}{/ref}\",\"downloads_url\":\"https://api.github.com/repos/encoreee/GameDevPractikum/downloads\",\"issues_url\":\"https://api.github.com/repos/encoreee/GameDevPractikum/issues{/number}\",\"pulls_url\":\"https://api.github.com/repos/encoreee/GameDevPractikum/pulls{/number}\",\"milestones_url\":\"https://api.github.com/repos/encoreee/GameDevPractikum/milestones{/number}\",\"notifications_url\":\"https://api.github.com/repos/encoreee/GameDevPractikum/notifications{?since,all,participating}\",\"labels_url\":\"https://api.github.com/repos/encoreee/GameDevPractikum/labels{/name}\",\"releases_url\":\"https://api.github.com/repos/encoreee/GameDevPractikum/releases{/id}\",\"deployments_url\":\"https://api.github.com/repos/encoreee/GameDevPractikum/deployments\",\"created_at\":\"2023-04-17T12:10:46Z\",\"updated_at\":\"2023-04-17T12:10:54Z\",\"pushed_at\":\"2023-05-08T19:45:26Z\",\"git_url\":\"git://github.com/encoreee/GameDevPractikum.git\",\"ssh_url\":\"git@github.com:encoreee/GameDevPractikum.git\",\"clone_url\":\"https://github.com/encoreee/GameDevPractikum.git\",\"svn_url\":\"https://github.com/encoreee/GameDevPractikum\",\"homepage\":null,\"size\":630,\"stargazers_count\":0,\"watchers_count\":0,\"language\":\"TypeScript\",\"has_issues\":true,\"has_projects\":true,\"has_downloads\":true,\"has_wiki\":true,\"has_pages\":false,\"has_discussions\":false,\"forks_count\":0,\"mirror_url\":null,\"archived\":false,\"disabled\":false,\"open_issues_count\":1,\"license\":null,\"allow_forking\":true,\"is_template\":false,\"web_commit_signoff_required\":false,\"topics\":[],\"visibility\":\"public\",\"forks\":0,\"open_issues\":1,\"watchers\":0,\"default_branch\":\"main\"}},\"base\":{\"label\":\"encoreee:sprint_1\",\"ref\":\"sprint_1\",\"sha\":\"d0fe93a12b2b93d3911ae1be7d3697643d47618a\",\"user\":{\"login\":\"encoreee\",\"id\":44232406,\"node_id\":\"MDQ6VXNlcjQ0MjMyNDA2\",\"avatar_url\":\"https://avatars.githubusercontent.com/u/44232406?v=4\",\"gravatar_id\":\"\",\"url\":\"https://api.github.com/users/encoreee\",\"html_url\":\"https://github.com/encoreee\",\"followers_url\":\"https://api.github.com/users/encoreee/followers\",\"following_url\":\"https://api.github.com/users/encoreee/following{/other_user}\",\"gists_url\":\"https://api.github.com/users/encoreee/gists{/gist_id}\",\"starred_url\":\"https://api.github.com/users/encoreee/starred{/owner}{/repo}\",\"subscriptions_url\":\"https://api.github.com/users/encoreee/subscriptions\",\"organizations_url\":\"https://api.github.com/users/encoreee/orgs\",\"repos_url\":\"https://api.github.com/users/encoreee/repos\",\"events_url\":\"https://api.github.com/users/encoreee/events{/privacy}\",\"received_events_url\":\"https://api.github.com/users/encoreee/received_events\",\"type\":\"User\",\"site_admin\":false},\"repo\":{\"id\":628996161,\"node_id\":\"R_kgDOJX24QQ\",\"name\":\"GameDevPractikum\",\"full_name\":\"encoreee/GameDevPractikum\",\"private\":false,\"owner\":{\"login\":\"encoreee\",\"id\":44232406,\"node_id\":\"MDQ6VXNlcjQ0MjMyNDA2\",\"avatar_url\":\"https://avatars.githubusercontent.com/u/44232406?v=4\",\"gravatar_id\":\"\",\"url\":\"https://api.github.com/users/encoreee\",\"html_url\":\"https://github.com/encoreee\",\"followers_url\":\"https://api.github.com/users/encoreee/followers\",\"following_url\":\"https://api.github.com/users/encoreee/following{/other_user}\",\"gists_url\":\"https://api.github.com/users/encoreee/gists{/gist_id}\",\"starred_url\":\"https://api.github.com/users/encoreee/starred{/owner}{/repo}\",\"subscriptions_url\":\"https://api.github.com/users/encoreee/subscriptions\",\"organizations_url\":\"https://api.github.com/users/encoreee/orgs\",\"repos_url\":\"https://api.github.com/users/encoreee/repos\",\"events_url\":\"https://api.github.com/users/encoreee/events{/privacy}\",\"received_events_url\":\"https://api.github.com/users/encoreee/received_events\",\"type\":\"User\",\"site_admin\":false},\"html_url\":\"https://github.com/encoreee/GameDevPractikum\",\"description\":null,\"fork\":false,\"url\":\"https://api.github.com/repos/encoreee/GameDevPractikum\",\"forks_url\":\"https://api.github.com/repos/encoreee/GameDevPractikum/forks\",\"keys_url\":\"https://api.github.com/repos/encoreee/GameDevPractikum/keys{/key_id}\",\"collaborators_url\":\"https://api.github.com/repos/encoreee/GameDevPractikum/collaborators{/collaborator}\",\"teams_url\":\"https://api.github.com/repos/encoreee/GameDevPractikum/teams\",\"hooks_url\":\"https://api.github.com/repos/encoreee/GameDevPractikum/hooks\",\"issue_events_url\":\"https://api.github.com/repos/encoreee/GameDevPractikum/issues/events{/number}\",\"events_url\":\"https://api.github.com/repos/encoreee/GameDevPractikum/events\",\"assignees_url\":\"https://api.github.com/repos/encoreee/GameDevPractikum/assignees{/user}\",\"branches_url\":\"https://api.github.com/repos/encoreee/GameDevPractikum/branches{/branch}\",\"tags_url\":\"https://api.github.com/repos/encoreee/GameDevPractikum/tags\",\"blobs_url\":\"https://api.github.com/repos/encoreee/GameDevPractikum/git/blobs{/sha}\",\"git_tags_url\":\"https://api.github.com/repos/encoreee/GameDevPractikum/git/tags{/sha}\",\"git_refs_url\":\"https://api.github.com/repos/encoreee/GameDevPractikum/git/refs{/sha}\",\"trees_url\":\"https://api.github.com/repos/encoreee/GameDevPractikum/git/trees{/sha}\",\"statuses_url\":\"https://api.github.com/repos/encoreee/GameDevPractikum/statuses/{sha}\",\"languages_url\":\"https://api.github.com/repos/encoreee/GameDevPractikum/languages\",\"stargazers_url\":\"https://api.github.com/repos/encoreee/GameDevPractikum/stargazers\",\"contributors_url\":\"https://api.github.com/repos/encoreee/GameDevPractikum/contributors\",\"subscribers_url\":\"https://api.github.com/repos/encoreee/GameDevPractikum/subscribers\",\"subscription_url\":\"https://api.github.com/repos/encoreee/GameDevPractikum/subscription\",\"commits_url\":\"https://api.github.com/repos/encoreee/GameDevPractikum/commits{/sha}\",\"git_commits_url\":\"https://api.github.com/repos/encoreee/GameDevPractikum/git/commits{/sha}\",\"comments_url\":\"https://api.github.com/repos/encoreee/GameDevPractikum/comments{/number}\",\"issue_comment_url\":\"https://api.github.com/repos/encoreee/GameDevPractikum/issues/comments{/number}\",\"contents_url\":\"https://api.github.com/repos/encoreee/GameDevPractikum/contents/{+path}\",\"compare_url\":\"https://api.github.com/repos/encoreee/GameDevPractikum/compare/{base}...{head}\",\"merges_url\":\"https://api.github.com/repos/encoreee/GameDevPractikum/merges\",\"archive_url\":\"https://api.github.com/repos/encoreee/GameDevPractikum/{archive_format}{/ref}\",\"downloads_url\":\"https://api.github.com/repos/encoreee/GameDevPractikum/downloads\",\"issues_url\":\"https://api.github.com/repos/encoreee/GameDevPractikum/issues{/number}\",\"pulls_url\":\"https://api.github.com/repos/encoreee/GameDevPractikum/pulls{/number}\",\"milestones_url\":\"https://api.github.com/repos/encoreee/GameDevPractikum/milestones{/number}\",\"notifications_url\":\"https://api.github.com/repos/encoreee/GameDevPractikum/notifications{?since,all,participating}\",\"labels_url\":\"https://api.github.com/repos/encoreee/GameDevPractikum/labels{/name}\",\"releases_url\":\"https://api.github.com/repos/encoreee/GameDevPractikum/releases{/id}\",\"deployments_url\":\"https://api.github.com/repos/encoreee/GameDevPractikum/deployments\",\"created_at\":\"2023-04-17T12:10:46Z\",\"updated_at\":\"2023-04-17T12:10:54Z\",\"pushed_at\":\"2023-05-08T19:45:26Z\",\"git_url\":\"git://github.com/encoreee/GameDevPractikum.git\",\"ssh_url\":\"git@github.com:encoreee/GameDevPractikum.git\",\"clone_url\":\"https://github.com/encoreee/GameDevPractikum.git\",\"svn_url\":\"https://github.com/encoreee/GameDevPractikum\",\"homepage\":null,\"size\":630,\"stargazers_count\":0,\"watchers_count\":0,\"language\":\"TypeScript\",\"has_issues\":true,\"has_projects\":true,\"has_downloads\":true,\"has_wiki\":true,\"has_pages\":false,\"has_discussions\":false,\"forks_count\":0,\"mirror_url\":null,\"archived\":false,\"disabled\":false,\"open_issues_count\":1,\"license\":null,\"allow_forking\":true,\"is_template\":false,\"web_commit_signoff_required\":false,\"topics\":[],\"visibility\":\"public\",\"forks\":0,\"open_issues\":1,\"watchers\":0,\"default_branch\":\"main\"}},\"_links\":{\"self\":{\"href\":\"https://api.github.com/repos/encoreee/GameDevPractikum/pulls/15\"},\"html\":{\"href\":\"https://github.com/encoreee/GameDevPractikum/pull/15\"},\"issue\":{\"href\":\"https://api.github.com/repos/encoreee/GameDevPractikum/issues/15\"},\"comments\":{\"href\":\"https://api.github.com/repos/encoreee/GameDevPractikum/issues/15/comments\"},\"review_comments\":{\"href\":\"https://api.github.com/repos/encoreee/GameDevPractikum/pulls/15/comments\"},\"review_comment\":{\"href\":\"https://api.github.com/repos/encoreee/GameDevPractikum/pulls/comments{/number}\"},\"commits\":{\"href\":\"https://api.github.com/repos/encoreee/GameDevPractikum/pulls/15/commits\"},\"statuses\":{\"href\":\"https://api.github.com/repos/encoreee/GameDevPractikum/statuses/3fcaaa4896ed80274560a5e1ff690271d1e863e8\"}},\"author_association\":\"COLLABORATOR\",\"auto_merge\":null,\"active_lock_reason\":null}},\"public\":true,\"created_at\":\"2023-05-08T19:47:03Z\"},{\"id\":\"28927455975\",\"type\":\"PushEvent\",\"actor\":{\"id\":131870404,\"login\":\"veronaRub\",\"display_login\":\"veronaRub\",\"gravatar_id\":\"\",\"url\":\"https://api.github.com/users/veronaRub\",\"avatar_url\":\"https://avatars.githubusercontent.com/u/131870404?\"},\"repo\":{\"id\":636350760,\"name\":\"veronaRub/Lesson_2\",\"url\":\"https://api.github.com/repos/veronaRub/Lesson_2\"},\"payload\":{\"repository_id\":636350760,\"push_id\":13565005627,\"size\":1,\"distinct_size\":1,\"ref\":\"refs/heads/main\",\"head\":\"e65bc039cd78f3e53e94f6db0c672ca11d1e3e5d\",\"before\":\"76522006361ec49079ece9746e3e6003ee62372b\",\"commits\":[{\"sha\":\"e65bc039cd78f3e53e94f6db0c672ca11d1e3e5d\",\"author\":{\"email\":\"rublyuk.v@gmail.com\",\"name\":\"veronaRub\"},\"message\":\"fiirst commit\",\"distinct\":true,\"url\":\"https://api.github.com/repos/veronaRub/Lesson_2/commits/e65bc039cd78f3e53e94f6db0c672ca11d1e3e5d\"}]},\"public\":true,\"created_at\":\"2023-05-08T19:47:03Z\"}]'"
      ]
     },
     "execution_count": 29,
     "metadata": {},
     "output_type": "execute_result"
    }
   ],
   "source": [
    "r.text"
   ]
  },
  {
   "cell_type": "code",
   "execution_count": 4,
   "metadata": {},
   "outputs": [
    {
     "data": {
      "text/plain": [
       "{'id': '29142432216',\n",
       " 'type': 'PushEvent',\n",
       " 'actor': {'id': 81172568,\n",
       "  'login': 'Thapelo509',\n",
       "  'display_login': 'Thapelo509',\n",
       "  'gravatar_id': '',\n",
       "  'url': 'https://api.github.com/users/Thapelo509',\n",
       "  'avatar_url': 'https://avatars.githubusercontent.com/u/81172568?'},\n",
       " 'repo': {'id': 621281232,\n",
       "  'name': 'legiste99/vsoft-revamp',\n",
       "  'url': 'https://api.github.com/repos/legiste99/vsoft-revamp'},\n",
       " 'payload': {'repository_id': 621281232,\n",
       "  'push_id': 13672980145,\n",
       "  'size': 1,\n",
       "  'distinct_size': 1,\n",
       "  'ref': 'refs/heads/master',\n",
       "  'head': 'cd1697d58282876dc9d2d59c14461663357aa875',\n",
       "  'before': '04f525c0657c5e784f1f0f473201f24f7ef72a3f',\n",
       "  'commits': [{'sha': 'cd1697d58282876dc9d2d59c14461663357aa875',\n",
       "    'author': {'email': '215118251@mycput.ac.za', 'name': 'ThABZA'},\n",
       "    'message': 'home page updates',\n",
       "    'distinct': True,\n",
       "    'url': 'https://api.github.com/repos/legiste99/vsoft-revamp/commits/cd1697d58282876dc9d2d59c14461663357aa875'}]},\n",
       " 'public': True,\n",
       " 'created_at': '2023-05-17T21:52:46Z'}"
      ]
     },
     "execution_count": 4,
     "metadata": {},
     "output_type": "execute_result"
    }
   ],
   "source": [
    "r.json()[0]"
   ]
  },
  {
   "attachments": {},
   "cell_type": "markdown",
   "metadata": {},
   "source": [
    "Utilizando outro endpoint"
   ]
  },
  {
   "cell_type": "code",
   "execution_count": 31,
   "metadata": {},
   "outputs": [
    {
     "data": {
      "text/plain": [
       "200"
      ]
     },
     "execution_count": 31,
     "metadata": {},
     "output_type": "execute_result"
    }
   ],
   "source": [
    "r = requests.get('https://api.github.com/versions')\n",
    "r.status_code"
   ]
  },
  {
   "cell_type": "code",
   "execution_count": 32,
   "metadata": {},
   "outputs": [
    {
     "data": {
      "text/plain": [
       "['2022-11-28']"
      ]
     },
     "execution_count": 32,
     "metadata": {},
     "output_type": "execute_result"
    }
   ],
   "source": [
    "r.json()"
   ]
  },
  {
   "attachments": {},
   "cell_type": "markdown",
   "metadata": {},
   "source": [
    "## Extraindo dados"
   ]
  },
  {
   "attachments": {},
   "cell_type": "markdown",
   "metadata": {},
   "source": [
    "### Obtendo dados dos repositórios"
   ]
  },
  {
   "cell_type": "code",
   "execution_count": 5,
   "metadata": {},
   "outputs": [],
   "source": [
    "# especificando a versão da API\n",
    "headers = {'X-GitHub-Api-Version': '2022-11-28'}"
   ]
  },
  {
   "cell_type": "code",
   "execution_count": 6,
   "metadata": {},
   "outputs": [],
   "source": [
    "api_base_url = 'https://api.github.com'\n",
    "owner = 'amzn' # username de quem vamos extrair os dados\n",
    "url = f'{api_base_url}/users/{owner}/repos'"
   ]
  },
  {
   "cell_type": "code",
   "execution_count": 7,
   "metadata": {},
   "outputs": [
    {
     "data": {
      "text/plain": [
       "'https://api.github.com/users/amzn/repos'"
      ]
     },
     "execution_count": 7,
     "metadata": {},
     "output_type": "execute_result"
    }
   ],
   "source": [
    "url"
   ]
  },
  {
   "cell_type": "code",
   "execution_count": 8,
   "metadata": {},
   "outputs": [
    {
     "data": {
      "text/plain": [
       "200"
      ]
     },
     "execution_count": 8,
     "metadata": {},
     "output_type": "execute_result"
    }
   ],
   "source": [
    "response = requests.get(url, headers=headers)\n",
    "response.status_code"
   ]
  },
  {
   "cell_type": "code",
   "execution_count": 9,
   "metadata": {},
   "outputs": [
    {
     "data": {
      "text/plain": [
       "{'id': 171339259,\n",
       " 'node_id': 'MDEwOlJlcG9zaXRvcnkxNzEzMzkyNTk=',\n",
       " 'name': '.github',\n",
       " 'full_name': 'amzn/.github',\n",
       " 'private': False,\n",
       " 'owner': {'login': 'amzn',\n",
       "  'id': 8594673,\n",
       "  'node_id': 'MDEyOk9yZ2FuaXphdGlvbjg1OTQ2NzM=',\n",
       "  'avatar_url': 'https://avatars.githubusercontent.com/u/8594673?v=4',\n",
       "  'gravatar_id': '',\n",
       "  'url': 'https://api.github.com/users/amzn',\n",
       "  'html_url': 'https://github.com/amzn',\n",
       "  'followers_url': 'https://api.github.com/users/amzn/followers',\n",
       "  'following_url': 'https://api.github.com/users/amzn/following{/other_user}',\n",
       "  'gists_url': 'https://api.github.com/users/amzn/gists{/gist_id}',\n",
       "  'starred_url': 'https://api.github.com/users/amzn/starred{/owner}{/repo}',\n",
       "  'subscriptions_url': 'https://api.github.com/users/amzn/subscriptions',\n",
       "  'organizations_url': 'https://api.github.com/users/amzn/orgs',\n",
       "  'repos_url': 'https://api.github.com/users/amzn/repos',\n",
       "  'events_url': 'https://api.github.com/users/amzn/events{/privacy}',\n",
       "  'received_events_url': 'https://api.github.com/users/amzn/received_events',\n",
       "  'type': 'Organization',\n",
       "  'site_admin': False},\n",
       " 'html_url': 'https://github.com/amzn/.github',\n",
       " 'description': None,\n",
       " 'fork': False,\n",
       " 'url': 'https://api.github.com/repos/amzn/.github',\n",
       " 'forks_url': 'https://api.github.com/repos/amzn/.github/forks',\n",
       " 'keys_url': 'https://api.github.com/repos/amzn/.github/keys{/key_id}',\n",
       " 'collaborators_url': 'https://api.github.com/repos/amzn/.github/collaborators{/collaborator}',\n",
       " 'teams_url': 'https://api.github.com/repos/amzn/.github/teams',\n",
       " 'hooks_url': 'https://api.github.com/repos/amzn/.github/hooks',\n",
       " 'issue_events_url': 'https://api.github.com/repos/amzn/.github/issues/events{/number}',\n",
       " 'events_url': 'https://api.github.com/repos/amzn/.github/events',\n",
       " 'assignees_url': 'https://api.github.com/repos/amzn/.github/assignees{/user}',\n",
       " 'branches_url': 'https://api.github.com/repos/amzn/.github/branches{/branch}',\n",
       " 'tags_url': 'https://api.github.com/repos/amzn/.github/tags',\n",
       " 'blobs_url': 'https://api.github.com/repos/amzn/.github/git/blobs{/sha}',\n",
       " 'git_tags_url': 'https://api.github.com/repos/amzn/.github/git/tags{/sha}',\n",
       " 'git_refs_url': 'https://api.github.com/repos/amzn/.github/git/refs{/sha}',\n",
       " 'trees_url': 'https://api.github.com/repos/amzn/.github/git/trees{/sha}',\n",
       " 'statuses_url': 'https://api.github.com/repos/amzn/.github/statuses/{sha}',\n",
       " 'languages_url': 'https://api.github.com/repos/amzn/.github/languages',\n",
       " 'stargazers_url': 'https://api.github.com/repos/amzn/.github/stargazers',\n",
       " 'contributors_url': 'https://api.github.com/repos/amzn/.github/contributors',\n",
       " 'subscribers_url': 'https://api.github.com/repos/amzn/.github/subscribers',\n",
       " 'subscription_url': 'https://api.github.com/repos/amzn/.github/subscription',\n",
       " 'commits_url': 'https://api.github.com/repos/amzn/.github/commits{/sha}',\n",
       " 'git_commits_url': 'https://api.github.com/repos/amzn/.github/git/commits{/sha}',\n",
       " 'comments_url': 'https://api.github.com/repos/amzn/.github/comments{/number}',\n",
       " 'issue_comment_url': 'https://api.github.com/repos/amzn/.github/issues/comments{/number}',\n",
       " 'contents_url': 'https://api.github.com/repos/amzn/.github/contents/{+path}',\n",
       " 'compare_url': 'https://api.github.com/repos/amzn/.github/compare/{base}...{head}',\n",
       " 'merges_url': 'https://api.github.com/repos/amzn/.github/merges',\n",
       " 'archive_url': 'https://api.github.com/repos/amzn/.github/{archive_format}{/ref}',\n",
       " 'downloads_url': 'https://api.github.com/repos/amzn/.github/downloads',\n",
       " 'issues_url': 'https://api.github.com/repos/amzn/.github/issues{/number}',\n",
       " 'pulls_url': 'https://api.github.com/repos/amzn/.github/pulls{/number}',\n",
       " 'milestones_url': 'https://api.github.com/repos/amzn/.github/milestones{/number}',\n",
       " 'notifications_url': 'https://api.github.com/repos/amzn/.github/notifications{?since,all,participating}',\n",
       " 'labels_url': 'https://api.github.com/repos/amzn/.github/labels{/name}',\n",
       " 'releases_url': 'https://api.github.com/repos/amzn/.github/releases{/id}',\n",
       " 'deployments_url': 'https://api.github.com/repos/amzn/.github/deployments',\n",
       " 'created_at': '2019-02-18T18:59:22Z',\n",
       " 'updated_at': '2023-05-03T23:39:23Z',\n",
       " 'pushed_at': '2023-05-10T20:38:54Z',\n",
       " 'git_url': 'git://github.com/amzn/.github.git',\n",
       " 'ssh_url': 'git@github.com:amzn/.github.git',\n",
       " 'clone_url': 'https://github.com/amzn/.github.git',\n",
       " 'svn_url': 'https://github.com/amzn/.github',\n",
       " 'homepage': None,\n",
       " 'size': 26,\n",
       " 'stargazers_count': 9,\n",
       " 'watchers_count': 9,\n",
       " 'language': None,\n",
       " 'has_issues': True,\n",
       " 'has_projects': False,\n",
       " 'has_downloads': True,\n",
       " 'has_wiki': False,\n",
       " 'has_pages': False,\n",
       " 'has_discussions': False,\n",
       " 'forks_count': 235,\n",
       " 'mirror_url': None,\n",
       " 'archived': False,\n",
       " 'disabled': False,\n",
       " 'open_issues_count': 1,\n",
       " 'license': None,\n",
       " 'allow_forking': True,\n",
       " 'is_template': False,\n",
       " 'web_commit_signoff_required': False,\n",
       " 'topics': [],\n",
       " 'visibility': 'public',\n",
       " 'forks': 235,\n",
       " 'open_issues': 1,\n",
       " 'watchers': 9,\n",
       " 'default_branch': 'master'}"
      ]
     },
     "execution_count": 9,
     "metadata": {},
     "output_type": "execute_result"
    }
   ],
   "source": [
    "response.json()[0]"
   ]
  },
  {
   "cell_type": "code",
   "execution_count": 38,
   "metadata": {},
   "outputs": [
    {
     "data": {
      "text/plain": [
       "30"
      ]
     },
     "execution_count": 38,
     "metadata": {},
     "output_type": "execute_result"
    }
   ],
   "source": [
    "len(response.json())"
   ]
  },
  {
   "attachments": {},
   "cell_type": "markdown",
   "metadata": {},
   "source": [
    "### Autenticação"
   ]
  },
  {
   "attachments": {},
   "cell_type": "markdown",
   "metadata": {},
   "source": [
    "Solicitações autenticadas têm um limite de taxa mais alto. Quando um usuário faz uma solicitação autenticada, ele fornece credenciais que comprovam sua identidade, o que permite que a API confie nele e lhe conceda acesso a recursos e funcionalidades adicionais.\n",
    "\n",
    "Além disso, a maioria das APIs estabelece limites para o número de solicitações que um usuário pode fazer em um determinado período de tempo, conhecido como 'limite de taxa'. Quando um usuário faz solicitações autenticadas, a API geralmente permite que ele faça mais solicitações em um determinado período de tempo, devido à maior confiança e credibilidade que a autenticação fornece."
   ]
  },
  {
   "cell_type": "code",
   "execution_count": 39,
   "metadata": {},
   "outputs": [],
   "source": [
    "access_token = 'seu_token'\n",
    "headers = {'Authorization': 'Bearer ' + access_token,\n",
    "           'X-GitHub-Api-Version': '2022-11-28'}"
   ]
  },
  {
   "attachments": {},
   "cell_type": "markdown",
   "metadata": {},
   "source": [
    "### Paginando os repositórios"
   ]
  },
  {
   "cell_type": "code",
   "execution_count": 40,
   "metadata": {},
   "outputs": [
    {
     "data": {
      "text/plain": [
       "'https://api.github.com/users/amzn/repos'"
      ]
     },
     "execution_count": 40,
     "metadata": {},
     "output_type": "execute_result"
    }
   ],
   "source": [
    "api_base_url = 'https://api.github.com'\n",
    "owner = 'amzn' # username de quem vamos extrair os dados\n",
    "url = f'{api_base_url}/users/{owner}/repos'\n",
    "\n",
    "url"
   ]
  },
  {
   "cell_type": "code",
   "execution_count": 41,
   "metadata": {},
   "outputs": [],
   "source": [
    "repos_list = []\n",
    "for page_num in range(1, 6):\n",
    "    try:\n",
    "        url_page = f'{url}?page={page_num}'\n",
    "        response = requests.get(url_page, headers=headers)\n",
    "        repos_list.append(response.json())\n",
    "    except:\n",
    "        repos_list.append(None)\n"
   ]
  },
  {
   "cell_type": "code",
   "execution_count": 43,
   "metadata": {},
   "outputs": [
    {
     "data": {
      "text/plain": [
       "5"
      ]
     },
     "execution_count": 43,
     "metadata": {},
     "output_type": "execute_result"
    }
   ],
   "source": [
    "len(repos_list)"
   ]
  },
  {
   "cell_type": "code",
   "execution_count": 44,
   "metadata": {},
   "outputs": [
    {
     "data": {
      "text/plain": [
       "30"
      ]
     },
     "execution_count": 44,
     "metadata": {},
     "output_type": "execute_result"
    }
   ],
   "source": [
    "len(repos_list[0])"
   ]
  },
  {
   "attachments": {},
   "cell_type": "markdown",
   "metadata": {},
   "source": [
    "## Transformando os dados"
   ]
  },
  {
   "attachments": {},
   "cell_type": "markdown",
   "metadata": {},
   "source": [
    "### Nomes dos repositórios"
   ]
  },
  {
   "cell_type": "code",
   "execution_count": 46,
   "metadata": {},
   "outputs": [
    {
     "data": {
      "text/plain": [
       "'alexa-coho'"
      ]
     },
     "execution_count": 46,
     "metadata": {},
     "output_type": "execute_result"
    }
   ],
   "source": [
    "repos_list[0][2]['name']"
   ]
  },
  {
   "cell_type": "code",
   "execution_count": 47,
   "metadata": {},
   "outputs": [],
   "source": [
    "repos_name = []\n",
    "for page in repos_list:\n",
    "    for repo in page:\n",
    "        repos_name.append(repo['name'])"
   ]
  },
  {
   "cell_type": "code",
   "execution_count": 48,
   "metadata": {},
   "outputs": [
    {
     "data": {
      "text/plain": [
       "['.github',\n",
       " 'ads-advanced-tools-docs',\n",
       " 'alexa-coho',\n",
       " 'alexa-skills-kit-js',\n",
       " 'amazon-ads-advertiser-audience-normalization-sdk-py',\n",
       " 'amazon-advertising-api-php-sdk',\n",
       " 'amazon-codeguru-profiler-for-spark',\n",
       " 'amazon-frustration-free-setup-certification-tool',\n",
       " 'amazon-hub-counter-api-docs',\n",
       " 'amazon-hub-counter-api-samples']"
      ]
     },
     "execution_count": 48,
     "metadata": {},
     "output_type": "execute_result"
    }
   ],
   "source": [
    "repos_name[:10]"
   ]
  },
  {
   "cell_type": "code",
   "execution_count": 49,
   "metadata": {},
   "outputs": [
    {
     "data": {
      "text/plain": [
       "133"
      ]
     },
     "execution_count": 49,
     "metadata": {},
     "output_type": "execute_result"
    }
   ],
   "source": [
    "len(repos_name)"
   ]
  },
  {
   "attachments": {},
   "cell_type": "markdown",
   "metadata": {},
   "source": [
    "### Linguagens dos repositórios"
   ]
  },
  {
   "cell_type": "code",
   "execution_count": 50,
   "metadata": {},
   "outputs": [
    {
     "data": {
      "text/plain": [
       "'PHP'"
      ]
     },
     "execution_count": 50,
     "metadata": {},
     "output_type": "execute_result"
    }
   ],
   "source": [
    "repos_list[1][1]['language']"
   ]
  },
  {
   "cell_type": "code",
   "execution_count": 51,
   "metadata": {},
   "outputs": [],
   "source": [
    "repos_language = []\n",
    "for page in repos_list:\n",
    "    for repo in page:\n",
    "        repos_language.append(repo['language'])"
   ]
  },
  {
   "cell_type": "code",
   "execution_count": 52,
   "metadata": {},
   "outputs": [
    {
     "data": {
      "text/plain": [
       "133"
      ]
     },
     "execution_count": 52,
     "metadata": {},
     "output_type": "execute_result"
    }
   ],
   "source": [
    "len(repos_language)"
   ]
  },
  {
   "cell_type": "code",
   "execution_count": 53,
   "metadata": {},
   "outputs": [
    {
     "data": {
      "text/plain": [
       "[None,\n",
       " None,\n",
       " 'JavaScript',\n",
       " None,\n",
       " 'Python',\n",
       " 'PHP',\n",
       " 'Java',\n",
       " 'Python',\n",
       " 'CSS',\n",
       " 'Java',\n",
       " 'Java',\n",
       " 'PowerShell',\n",
       " 'Java',\n",
       " 'C#',\n",
       " 'PHP',\n",
       " 'Ruby',\n",
       " 'JavaScript',\n",
       " 'Python',\n",
       " 'PHP',\n",
       " 'Jupyter Notebook',\n",
       " 'C#',\n",
       " 'Java',\n",
       " 'JavaScript',\n",
       " 'PHP',\n",
       " 'C#',\n",
       " 'Java',\n",
       " 'PHP',\n",
       " 'Python',\n",
       " 'Ruby',\n",
       " 'PHP',\n",
       " 'Kotlin',\n",
       " 'PHP',\n",
       " 'Python',\n",
       " 'C',\n",
       " 'Kotlin',\n",
       " 'Swift',\n",
       " 'Python',\n",
       " 'C++',\n",
       " 'Python',\n",
       " 'Go',\n",
       " 'C',\n",
       " 'Python',\n",
       " 'Jupyter Notebook',\n",
       " 'Python',\n",
       " None,\n",
       " 'Java',\n",
       " 'Kotlin',\n",
       " 'Python',\n",
       " None,\n",
       " 'Jupyter Notebook',\n",
       " 'Python',\n",
       " 'Python',\n",
       " 'Python',\n",
       " 'Java',\n",
       " 'Jupyter Notebook',\n",
       " 'Python',\n",
       " 'Python',\n",
       " 'Java',\n",
       " 'Objective-C',\n",
       " 'JavaScript',\n",
       " 'TypeScript',\n",
       " 'Java',\n",
       " None,\n",
       " 'Python',\n",
       " 'Java',\n",
       " 'Java',\n",
       " 'Java',\n",
       " 'C#',\n",
       " 'C#',\n",
       " 'JavaScript',\n",
       " 'JavaScript',\n",
       " 'Go',\n",
       " 'Java',\n",
       " 'TypeScript',\n",
       " 'Python',\n",
       " 'C++',\n",
       " None,\n",
       " 'Python',\n",
       " 'C#',\n",
       " 'HTML',\n",
       " None,\n",
       " 'PHP',\n",
       " 'PHP',\n",
       " 'Java',\n",
       " 'Python',\n",
       " 'Scala',\n",
       " 'Python',\n",
       " 'Python',\n",
       " 'Python',\n",
       " 'Python',\n",
       " 'Java',\n",
       " 'Swift',\n",
       " 'Python',\n",
       " 'TypeScript',\n",
       " 'TypeScript',\n",
       " 'Ruby',\n",
       " 'Python',\n",
       " 'Python',\n",
       " 'C',\n",
       " 'Python',\n",
       " 'Python',\n",
       " 'Python',\n",
       " 'C++',\n",
       " 'Java',\n",
       " 'HTML',\n",
       " 'Java',\n",
       " 'Python',\n",
       " 'Swift',\n",
       " 'JavaScript',\n",
       " 'Swift',\n",
       " 'Swift',\n",
       " 'Swift',\n",
       " 'Swift',\n",
       " 'Swift',\n",
       " 'Swift',\n",
       " 'Swift',\n",
       " 'Swift',\n",
       " 'Swift',\n",
       " 'Python',\n",
       " 'Python',\n",
       " 'Python',\n",
       " 'JavaScript',\n",
       " 'Python',\n",
       " 'TypeScript',\n",
       " 'Python',\n",
       " 'JavaScript',\n",
       " 'Python',\n",
       " 'Zeek',\n",
       " 'Zeek',\n",
       " 'Zeek',\n",
       " 'Zeek',\n",
       " 'Zeek',\n",
       " 'Python']"
      ]
     },
     "execution_count": 53,
     "metadata": {},
     "output_type": "execute_result"
    }
   ],
   "source": [
    "repos_language"
   ]
  },
  {
   "attachments": {},
   "cell_type": "markdown",
   "metadata": {},
   "source": [
    "### Criando um DataFrame"
   ]
  },
  {
   "cell_type": "code",
   "execution_count": 54,
   "metadata": {},
   "outputs": [],
   "source": [
    "import pandas as pd"
   ]
  },
  {
   "cell_type": "code",
   "execution_count": 55,
   "metadata": {},
   "outputs": [],
   "source": [
    "dados_amz = pd.DataFrame()\n",
    "dados_amz['repository_name'] = repos_name\n",
    "dados_amz['language'] = repos_language"
   ]
  },
  {
   "cell_type": "code",
   "execution_count": 56,
   "metadata": {},
   "outputs": [
    {
     "data": {
      "text/html": [
       "<div>\n",
       "<style scoped>\n",
       "    .dataframe tbody tr th:only-of-type {\n",
       "        vertical-align: middle;\n",
       "    }\n",
       "\n",
       "    .dataframe tbody tr th {\n",
       "        vertical-align: top;\n",
       "    }\n",
       "\n",
       "    .dataframe thead th {\n",
       "        text-align: right;\n",
       "    }\n",
       "</style>\n",
       "<table border=\"1\" class=\"dataframe\">\n",
       "  <thead>\n",
       "    <tr style=\"text-align: right;\">\n",
       "      <th></th>\n",
       "      <th>repository_name</th>\n",
       "      <th>language</th>\n",
       "    </tr>\n",
       "  </thead>\n",
       "  <tbody>\n",
       "    <tr>\n",
       "      <th>0</th>\n",
       "      <td>.github</td>\n",
       "      <td>None</td>\n",
       "    </tr>\n",
       "    <tr>\n",
       "      <th>1</th>\n",
       "      <td>ads-advanced-tools-docs</td>\n",
       "      <td>None</td>\n",
       "    </tr>\n",
       "    <tr>\n",
       "      <th>2</th>\n",
       "      <td>alexa-coho</td>\n",
       "      <td>JavaScript</td>\n",
       "    </tr>\n",
       "    <tr>\n",
       "      <th>3</th>\n",
       "      <td>alexa-skills-kit-js</td>\n",
       "      <td>None</td>\n",
       "    </tr>\n",
       "    <tr>\n",
       "      <th>4</th>\n",
       "      <td>amazon-ads-advertiser-audience-normalization-s...</td>\n",
       "      <td>Python</td>\n",
       "    </tr>\n",
       "    <tr>\n",
       "      <th>...</th>\n",
       "      <td>...</td>\n",
       "      <td>...</td>\n",
       "    </tr>\n",
       "    <tr>\n",
       "      <th>128</th>\n",
       "      <td>zeek-plugin-enip</td>\n",
       "      <td>Zeek</td>\n",
       "    </tr>\n",
       "    <tr>\n",
       "      <th>129</th>\n",
       "      <td>zeek-plugin-profinet</td>\n",
       "      <td>Zeek</td>\n",
       "    </tr>\n",
       "    <tr>\n",
       "      <th>130</th>\n",
       "      <td>zeek-plugin-s7comm</td>\n",
       "      <td>Zeek</td>\n",
       "    </tr>\n",
       "    <tr>\n",
       "      <th>131</th>\n",
       "      <td>zeek-plugin-tds</td>\n",
       "      <td>Zeek</td>\n",
       "    </tr>\n",
       "    <tr>\n",
       "      <th>132</th>\n",
       "      <td>zero-shot-rlhr</td>\n",
       "      <td>Python</td>\n",
       "    </tr>\n",
       "  </tbody>\n",
       "</table>\n",
       "<p>133 rows × 2 columns</p>\n",
       "</div>"
      ],
      "text/plain": [
       "                                       repository_name    language\n",
       "0                                              .github        None\n",
       "1                              ads-advanced-tools-docs        None\n",
       "2                                           alexa-coho  JavaScript\n",
       "3                                  alexa-skills-kit-js        None\n",
       "4    amazon-ads-advertiser-audience-normalization-s...      Python\n",
       "..                                                 ...         ...\n",
       "128                                   zeek-plugin-enip        Zeek\n",
       "129                               zeek-plugin-profinet        Zeek\n",
       "130                                 zeek-plugin-s7comm        Zeek\n",
       "131                                    zeek-plugin-tds        Zeek\n",
       "132                                     zero-shot-rlhr      Python\n",
       "\n",
       "[133 rows x 2 columns]"
      ]
     },
     "execution_count": 56,
     "metadata": {},
     "output_type": "execute_result"
    }
   ],
   "source": [
    "dados_amz"
   ]
  },
  {
   "attachments": {},
   "cell_type": "markdown",
   "metadata": {},
   "source": [
    "Salvando o DataFrame"
   ]
  },
  {
   "cell_type": "code",
   "execution_count": 57,
   "metadata": {},
   "outputs": [],
   "source": [
    "dados_amz.to_csv('amazon.csv')"
   ]
  },
  {
   "attachments": {},
   "cell_type": "markdown",
   "metadata": {},
   "source": [
    "## Armazenando os dados"
   ]
  },
  {
   "attachments": {},
   "cell_type": "markdown",
   "metadata": {},
   "source": [
    "### Criando repositório com POST"
   ]
  },
  {
   "cell_type": "code",
   "execution_count": 58,
   "metadata": {},
   "outputs": [
    {
     "data": {
      "text/plain": [
       "'https://api.github.com/user/repos'"
      ]
     },
     "execution_count": 58,
     "metadata": {},
     "output_type": "execute_result"
    }
   ],
   "source": [
    "api_base_url = 'https://api.github.com'\n",
    "url = f'{api_base_url}/user/repos'\n",
    "\n",
    "url"
   ]
  },
  {
   "cell_type": "code",
   "execution_count": 59,
   "metadata": {},
   "outputs": [
    {
     "data": {
      "text/plain": [
       "201"
      ]
     },
     "execution_count": 59,
     "metadata": {},
     "output_type": "execute_result"
    }
   ],
   "source": [
    "data = {\n",
    "    'name': 'linguagens-utilizadas',\n",
    "    'description': 'Repositorio com as linguagens de prog da Amazon',\n",
    "    'private': False\n",
    "}\n",
    "\n",
    "response = requests.post(url, json=data, headers=headers)\n",
    "response.status_code"
   ]
  },
  {
   "attachments": {},
   "cell_type": "markdown",
   "metadata": {},
   "source": [
    "### Formato do arquivo"
   ]
  },
  {
   "cell_type": "code",
   "execution_count": 60,
   "metadata": {},
   "outputs": [],
   "source": [
    "import base64"
   ]
  },
  {
   "cell_type": "code",
   "execution_count": 61,
   "metadata": {},
   "outputs": [],
   "source": [
    "with open('amazon.csv', 'rb') as file:\n",
    "    file_content = file.read()\n",
    "\n",
    "encoded_content = base64.b64encode(file_content)"
   ]
  },
  {
   "attachments": {},
   "cell_type": "markdown",
   "metadata": {},
   "source": [
    "### Upload de arquivo com PUT"
   ]
  },
  {
   "cell_type": "code",
   "execution_count": 62,
   "metadata": {},
   "outputs": [
    {
     "data": {
      "text/plain": [
       "'https://api.github.com/repos/millenagena/linguagens-utilizadas/contents/amazon.csv'"
      ]
     },
     "execution_count": 62,
     "metadata": {},
     "output_type": "execute_result"
    }
   ],
   "source": [
    "api_base_url = 'https://api.github.com'\n",
    "username = 'millenagena'\n",
    "repo = 'linguagens-utilizadas'\n",
    "path = 'amazon.csv'\n",
    "\n",
    "url = f'{api_base_url}/repos/{username}/{repo}/contents/{path}'\n",
    "url"
   ]
  },
  {
   "cell_type": "code",
   "execution_count": 63,
   "metadata": {},
   "outputs": [
    {
     "data": {
      "text/plain": [
       "201"
      ]
     },
     "execution_count": 63,
     "metadata": {},
     "output_type": "execute_result"
    }
   ],
   "source": [
    "data = {\n",
    "    'message': 'Adicionando um novo arquivo',\n",
    "    'content': encoded_content.decode('utf-8')\n",
    "}\n",
    "\n",
    "response = requests.put(url, json=data, headers=headers)\n",
    "response.status_code"
   ]
  },
  {
   "cell_type": "code",
   "execution_count": null,
   "metadata": {},
   "outputs": [],
   "source": []
  }
 ],
 "metadata": {
  "kernelspec": {
   "display_name": "venv",
   "language": "python",
   "name": "python3"
  },
  "language_info": {
   "codemirror_mode": {
    "name": "ipython",
    "version": 3
   },
   "file_extension": ".py",
   "mimetype": "text/x-python",
   "name": "python",
   "nbconvert_exporter": "python",
   "pygments_lexer": "ipython3",
   "version": "3.10.6"
  },
  "orig_nbformat": 4
 },
 "nbformat": 4,
 "nbformat_minor": 2
}
