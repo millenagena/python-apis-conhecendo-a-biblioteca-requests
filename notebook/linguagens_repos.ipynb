{
 "cells": [
  {
   "attachments": {},
   "cell_type": "markdown",
   "metadata": {},
   "source": [
    "## Conhecendo a requests"
   ]
  },
  {
   "attachments": {},
   "cell_type": "markdown",
   "metadata": {},
   "source": [
    "### Primeira requisição"
   ]
  },
  {
   "cell_type": "code",
   "execution_count": 1,
   "metadata": {},
   "outputs": [],
   "source": [
    "import requests"
   ]
  },
  {
   "cell_type": "code",
   "execution_count": 2,
   "metadata": {},
   "outputs": [],
   "source": [
    "r = requests.get('https://api.github.com/events')"
   ]
  },
  {
   "cell_type": "code",
   "execution_count": 3,
   "metadata": {},
   "outputs": [
    {
     "data": {
      "text/plain": [
       "<Response [200]>"
      ]
     },
     "execution_count": 3,
     "metadata": {},
     "output_type": "execute_result"
    }
   ],
   "source": [
    "r"
   ]
  },
  {
   "attachments": {},
   "cell_type": "markdown",
   "metadata": {},
   "source": [
    "### Explorando a biblioteca"
   ]
  },
  {
   "cell_type": "code",
   "execution_count": 27,
   "metadata": {},
   "outputs": [
    {
     "data": {
      "text/plain": [
       "200"
      ]
     },
     "execution_count": 27,
     "metadata": {},
     "output_type": "execute_result"
    }
   ],
   "source": [
    "r.status_code"
   ]
  },
  {
   "cell_type": "code",
   "execution_count": 28,
   "metadata": {},
   "outputs": [
    {
     "data": {
      "text/plain": [
       "'https://api.github.com/events'"
      ]
     },
     "execution_count": 28,
     "metadata": {},
     "output_type": "execute_result"
    }
   ],
   "source": [
    "r.url"
   ]
  },
  {
   "cell_type": "code",
   "execution_count": 4,
   "metadata": {},
   "outputs": [
    {
     "data": {
      "text/plain": [
       "{'id': '29142432216',\n",
       " 'type': 'PushEvent',\n",
       " 'actor': {'id': 81172568,\n",
       "  'login': 'Thapelo509',\n",
       "  'display_login': 'Thapelo509',\n",
       "  'gravatar_id': '',\n",
       "  'url': 'https://api.github.com/users/Thapelo509',\n",
       "  'avatar_url': 'https://avatars.githubusercontent.com/u/81172568?'},\n",
       " 'repo': {'id': 621281232,\n",
       "  'name': 'legiste99/vsoft-revamp',\n",
       "  'url': 'https://api.github.com/repos/legiste99/vsoft-revamp'},\n",
       " 'payload': {'repository_id': 621281232,\n",
       "  'push_id': 13672980145,\n",
       "  'size': 1,\n",
       "  'distinct_size': 1,\n",
       "  'ref': 'refs/heads/master',\n",
       "  'head': 'cd1697d58282876dc9d2d59c14461663357aa875',\n",
       "  'before': '04f525c0657c5e784f1f0f473201f24f7ef72a3f',\n",
       "  'commits': [{'sha': 'cd1697d58282876dc9d2d59c14461663357aa875',\n",
       "    'author': {'email': '215118251@mycput.ac.za', 'name': 'ThABZA'},\n",
       "    'message': 'home page updates',\n",
       "    'distinct': True,\n",
       "    'url': 'https://api.github.com/repos/legiste99/vsoft-revamp/commits/cd1697d58282876dc9d2d59c14461663357aa875'}]},\n",
       " 'public': True,\n",
       " 'created_at': '2023-05-17T21:52:46Z'}"
      ]
     },
     "execution_count": 4,
     "metadata": {},
     "output_type": "execute_result"
    }
   ],
   "source": [
    "r.json()[0]"
   ]
  },
  {
   "attachments": {},
   "cell_type": "markdown",
   "metadata": {},
   "source": [
    "Utilizando outro endpoint"
   ]
  },
  {
   "cell_type": "code",
   "execution_count": 31,
   "metadata": {},
   "outputs": [
    {
     "data": {
      "text/plain": [
       "200"
      ]
     },
     "execution_count": 31,
     "metadata": {},
     "output_type": "execute_result"
    }
   ],
   "source": [
    "r = requests.get('https://api.github.com/versions')\n",
    "r.status_code"
   ]
  },
  {
   "cell_type": "code",
   "execution_count": 32,
   "metadata": {},
   "outputs": [
    {
     "data": {
      "text/plain": [
       "['2022-11-28']"
      ]
     },
     "execution_count": 32,
     "metadata": {},
     "output_type": "execute_result"
    }
   ],
   "source": [
    "r.json()"
   ]
  },
  {
   "attachments": {},
   "cell_type": "markdown",
   "metadata": {},
   "source": [
    "## Extraindo dados"
   ]
  },
  {
   "attachments": {},
   "cell_type": "markdown",
   "metadata": {},
   "source": [
    "### Obtendo dados dos repositórios"
   ]
  },
  {
   "cell_type": "code",
   "execution_count": 5,
   "metadata": {},
   "outputs": [],
   "source": [
    "# especificando a versão da API\n",
    "headers = {'X-GitHub-Api-Version': '2022-11-28'}"
   ]
  },
  {
   "cell_type": "code",
   "execution_count": 6,
   "metadata": {},
   "outputs": [],
   "source": [
    "api_base_url = 'https://api.github.com'\n",
    "owner = 'amzn' # username de quem vamos extrair os dados\n",
    "url = f'{api_base_url}/users/{owner}/repos'"
   ]
  },
  {
   "cell_type": "code",
   "execution_count": 7,
   "metadata": {},
   "outputs": [
    {
     "data": {
      "text/plain": [
       "'https://api.github.com/users/amzn/repos'"
      ]
     },
     "execution_count": 7,
     "metadata": {},
     "output_type": "execute_result"
    }
   ],
   "source": [
    "url"
   ]
  },
  {
   "cell_type": "code",
   "execution_count": 8,
   "metadata": {},
   "outputs": [
    {
     "data": {
      "text/plain": [
       "200"
      ]
     },
     "execution_count": 8,
     "metadata": {},
     "output_type": "execute_result"
    }
   ],
   "source": [
    "response = requests.get(url, headers=headers)\n",
    "response.status_code"
   ]
  },
  {
   "cell_type": "code",
   "execution_count": 9,
   "metadata": {},
   "outputs": [
    {
     "data": {
      "text/plain": [
       "{'id': 171339259,\n",
       " 'node_id': 'MDEwOlJlcG9zaXRvcnkxNzEzMzkyNTk=',\n",
       " 'name': '.github',\n",
       " 'full_name': 'amzn/.github',\n",
       " 'private': False,\n",
       " 'owner': {'login': 'amzn',\n",
       "  'id': 8594673,\n",
       "  'node_id': 'MDEyOk9yZ2FuaXphdGlvbjg1OTQ2NzM=',\n",
       "  'avatar_url': 'https://avatars.githubusercontent.com/u/8594673?v=4',\n",
       "  'gravatar_id': '',\n",
       "  'url': 'https://api.github.com/users/amzn',\n",
       "  'html_url': 'https://github.com/amzn',\n",
       "  'followers_url': 'https://api.github.com/users/amzn/followers',\n",
       "  'following_url': 'https://api.github.com/users/amzn/following{/other_user}',\n",
       "  'gists_url': 'https://api.github.com/users/amzn/gists{/gist_id}',\n",
       "  'starred_url': 'https://api.github.com/users/amzn/starred{/owner}{/repo}',\n",
       "  'subscriptions_url': 'https://api.github.com/users/amzn/subscriptions',\n",
       "  'organizations_url': 'https://api.github.com/users/amzn/orgs',\n",
       "  'repos_url': 'https://api.github.com/users/amzn/repos',\n",
       "  'events_url': 'https://api.github.com/users/amzn/events{/privacy}',\n",
       "  'received_events_url': 'https://api.github.com/users/amzn/received_events',\n",
       "  'type': 'Organization',\n",
       "  'site_admin': False},\n",
       " 'html_url': 'https://github.com/amzn/.github',\n",
       " 'description': None,\n",
       " 'fork': False,\n",
       " 'url': 'https://api.github.com/repos/amzn/.github',\n",
       " 'forks_url': 'https://api.github.com/repos/amzn/.github/forks',\n",
       " 'keys_url': 'https://api.github.com/repos/amzn/.github/keys{/key_id}',\n",
       " 'collaborators_url': 'https://api.github.com/repos/amzn/.github/collaborators{/collaborator}',\n",
       " 'teams_url': 'https://api.github.com/repos/amzn/.github/teams',\n",
       " 'hooks_url': 'https://api.github.com/repos/amzn/.github/hooks',\n",
       " 'issue_events_url': 'https://api.github.com/repos/amzn/.github/issues/events{/number}',\n",
       " 'events_url': 'https://api.github.com/repos/amzn/.github/events',\n",
       " 'assignees_url': 'https://api.github.com/repos/amzn/.github/assignees{/user}',\n",
       " 'branches_url': 'https://api.github.com/repos/amzn/.github/branches{/branch}',\n",
       " 'tags_url': 'https://api.github.com/repos/amzn/.github/tags',\n",
       " 'blobs_url': 'https://api.github.com/repos/amzn/.github/git/blobs{/sha}',\n",
       " 'git_tags_url': 'https://api.github.com/repos/amzn/.github/git/tags{/sha}',\n",
       " 'git_refs_url': 'https://api.github.com/repos/amzn/.github/git/refs{/sha}',\n",
       " 'trees_url': 'https://api.github.com/repos/amzn/.github/git/trees{/sha}',\n",
       " 'statuses_url': 'https://api.github.com/repos/amzn/.github/statuses/{sha}',\n",
       " 'languages_url': 'https://api.github.com/repos/amzn/.github/languages',\n",
       " 'stargazers_url': 'https://api.github.com/repos/amzn/.github/stargazers',\n",
       " 'contributors_url': 'https://api.github.com/repos/amzn/.github/contributors',\n",
       " 'subscribers_url': 'https://api.github.com/repos/amzn/.github/subscribers',\n",
       " 'subscription_url': 'https://api.github.com/repos/amzn/.github/subscription',\n",
       " 'commits_url': 'https://api.github.com/repos/amzn/.github/commits{/sha}',\n",
       " 'git_commits_url': 'https://api.github.com/repos/amzn/.github/git/commits{/sha}',\n",
       " 'comments_url': 'https://api.github.com/repos/amzn/.github/comments{/number}',\n",
       " 'issue_comment_url': 'https://api.github.com/repos/amzn/.github/issues/comments{/number}',\n",
       " 'contents_url': 'https://api.github.com/repos/amzn/.github/contents/{+path}',\n",
       " 'compare_url': 'https://api.github.com/repos/amzn/.github/compare/{base}...{head}',\n",
       " 'merges_url': 'https://api.github.com/repos/amzn/.github/merges',\n",
       " 'archive_url': 'https://api.github.com/repos/amzn/.github/{archive_format}{/ref}',\n",
       " 'downloads_url': 'https://api.github.com/repos/amzn/.github/downloads',\n",
       " 'issues_url': 'https://api.github.com/repos/amzn/.github/issues{/number}',\n",
       " 'pulls_url': 'https://api.github.com/repos/amzn/.github/pulls{/number}',\n",
       " 'milestones_url': 'https://api.github.com/repos/amzn/.github/milestones{/number}',\n",
       " 'notifications_url': 'https://api.github.com/repos/amzn/.github/notifications{?since,all,participating}',\n",
       " 'labels_url': 'https://api.github.com/repos/amzn/.github/labels{/name}',\n",
       " 'releases_url': 'https://api.github.com/repos/amzn/.github/releases{/id}',\n",
       " 'deployments_url': 'https://api.github.com/repos/amzn/.github/deployments',\n",
       " 'created_at': '2019-02-18T18:59:22Z',\n",
       " 'updated_at': '2023-05-03T23:39:23Z',\n",
       " 'pushed_at': '2023-05-10T20:38:54Z',\n",
       " 'git_url': 'git://github.com/amzn/.github.git',\n",
       " 'ssh_url': 'git@github.com:amzn/.github.git',\n",
       " 'clone_url': 'https://github.com/amzn/.github.git',\n",
       " 'svn_url': 'https://github.com/amzn/.github',\n",
       " 'homepage': None,\n",
       " 'size': 26,\n",
       " 'stargazers_count': 9,\n",
       " 'watchers_count': 9,\n",
       " 'language': None,\n",
       " 'has_issues': True,\n",
       " 'has_projects': False,\n",
       " 'has_downloads': True,\n",
       " 'has_wiki': False,\n",
       " 'has_pages': False,\n",
       " 'has_discussions': False,\n",
       " 'forks_count': 235,\n",
       " 'mirror_url': None,\n",
       " 'archived': False,\n",
       " 'disabled': False,\n",
       " 'open_issues_count': 1,\n",
       " 'license': None,\n",
       " 'allow_forking': True,\n",
       " 'is_template': False,\n",
       " 'web_commit_signoff_required': False,\n",
       " 'topics': [],\n",
       " 'visibility': 'public',\n",
       " 'forks': 235,\n",
       " 'open_issues': 1,\n",
       " 'watchers': 9,\n",
       " 'default_branch': 'master'}"
      ]
     },
     "execution_count": 9,
     "metadata": {},
     "output_type": "execute_result"
    }
   ],
   "source": [
    "response.json()[0]"
   ]
  },
  {
   "cell_type": "code",
   "execution_count": 38,
   "metadata": {},
   "outputs": [
    {
     "data": {
      "text/plain": [
       "30"
      ]
     },
     "execution_count": 38,
     "metadata": {},
     "output_type": "execute_result"
    }
   ],
   "source": [
    "len(response.json())"
   ]
  },
  {
   "attachments": {},
   "cell_type": "markdown",
   "metadata": {},
   "source": [
    "### Autenticação"
   ]
  },
  {
   "attachments": {},
   "cell_type": "markdown",
   "metadata": {},
   "source": [
    "Solicitações autenticadas têm um limite de taxa mais alto. Quando um usuário faz uma solicitação autenticada, ele fornece credenciais que comprovam sua identidade, o que permite que a API confie nele e lhe conceda acesso a recursos e funcionalidades adicionais.\n",
    "\n",
    "Além disso, a maioria das APIs estabelece limites para o número de solicitações que um usuário pode fazer em um determinado período de tempo, conhecido como 'limite de taxa'. Quando um usuário faz solicitações autenticadas, a API geralmente permite que ele faça mais solicitações em um determinado período de tempo, devido à maior confiança e credibilidade que a autenticação fornece."
   ]
  },
  {
   "cell_type": "code",
   "execution_count": 39,
   "metadata": {},
   "outputs": [],
   "source": [
    "access_token = 'seu_token'\n",
    "headers = {'Authorization': 'Bearer ' + access_token,\n",
    "           'X-GitHub-Api-Version': '2022-11-28'}"
   ]
  },
  {
   "attachments": {},
   "cell_type": "markdown",
   "metadata": {},
   "source": [
    "### Paginando os repositórios"
   ]
  },
  {
   "cell_type": "code",
   "execution_count": 40,
   "metadata": {},
   "outputs": [
    {
     "data": {
      "text/plain": [
       "'https://api.github.com/users/amzn/repos'"
      ]
     },
     "execution_count": 40,
     "metadata": {},
     "output_type": "execute_result"
    }
   ],
   "source": [
    "api_base_url = 'https://api.github.com'\n",
    "owner = 'amzn' # username de quem vamos extrair os dados\n",
    "url = f'{api_base_url}/users/{owner}/repos'\n",
    "\n",
    "url"
   ]
  },
  {
   "cell_type": "code",
   "execution_count": 41,
   "metadata": {},
   "outputs": [],
   "source": [
    "repos_list = []\n",
    "for page_num in range(1, 6):\n",
    "    try:\n",
    "        url_page = f'{url}?page={page_num}'\n",
    "        response = requests.get(url_page, headers=headers)\n",
    "        repos_list.append(response.json())\n",
    "    except:\n",
    "        repos_list.append(None)\n"
   ]
  },
  {
   "cell_type": "code",
   "execution_count": 43,
   "metadata": {},
   "outputs": [
    {
     "data": {
      "text/plain": [
       "5"
      ]
     },
     "execution_count": 43,
     "metadata": {},
     "output_type": "execute_result"
    }
   ],
   "source": [
    "len(repos_list)"
   ]
  },
  {
   "cell_type": "code",
   "execution_count": 44,
   "metadata": {},
   "outputs": [
    {
     "data": {
      "text/plain": [
       "30"
      ]
     },
     "execution_count": 44,
     "metadata": {},
     "output_type": "execute_result"
    }
   ],
   "source": [
    "len(repos_list[0])"
   ]
  },
  {
   "attachments": {},
   "cell_type": "markdown",
   "metadata": {},
   "source": [
    "## Transformando os dados"
   ]
  },
  {
   "attachments": {},
   "cell_type": "markdown",
   "metadata": {},
   "source": [
    "### Nomes dos repositórios"
   ]
  },
  {
   "cell_type": "code",
   "execution_count": 46,
   "metadata": {},
   "outputs": [
    {
     "data": {
      "text/plain": [
       "'alexa-coho'"
      ]
     },
     "execution_count": 46,
     "metadata": {},
     "output_type": "execute_result"
    }
   ],
   "source": [
    "repos_list[0][2]['name']"
   ]
  },
  {
   "cell_type": "code",
   "execution_count": 47,
   "metadata": {},
   "outputs": [],
   "source": [
    "repos_name = []\n",
    "for page in repos_list:\n",
    "    for repo in page:\n",
    "        repos_name.append(repo['name'])"
   ]
  },
  {
   "cell_type": "code",
   "execution_count": 48,
   "metadata": {},
   "outputs": [
    {
     "data": {
      "text/plain": [
       "['.github',\n",
       " 'ads-advanced-tools-docs',\n",
       " 'alexa-coho',\n",
       " 'alexa-skills-kit-js',\n",
       " 'amazon-ads-advertiser-audience-normalization-sdk-py',\n",
       " 'amazon-advertising-api-php-sdk',\n",
       " 'amazon-codeguru-profiler-for-spark',\n",
       " 'amazon-frustration-free-setup-certification-tool',\n",
       " 'amazon-hub-counter-api-docs',\n",
       " 'amazon-hub-counter-api-samples']"
      ]
     },
     "execution_count": 48,
     "metadata": {},
     "output_type": "execute_result"
    }
   ],
   "source": [
    "repos_name[:10]"
   ]
  },
  {
   "cell_type": "code",
   "execution_count": 49,
   "metadata": {},
   "outputs": [
    {
     "data": {
      "text/plain": [
       "133"
      ]
     },
     "execution_count": 49,
     "metadata": {},
     "output_type": "execute_result"
    }
   ],
   "source": [
    "len(repos_name)"
   ]
  },
  {
   "attachments": {},
   "cell_type": "markdown",
   "metadata": {},
   "source": [
    "### Linguagens dos repositórios"
   ]
  },
  {
   "cell_type": "code",
   "execution_count": 50,
   "metadata": {},
   "outputs": [
    {
     "data": {
      "text/plain": [
       "'PHP'"
      ]
     },
     "execution_count": 50,
     "metadata": {},
     "output_type": "execute_result"
    }
   ],
   "source": [
    "repos_list[1][1]['language']"
   ]
  },
  {
   "cell_type": "code",
   "execution_count": 51,
   "metadata": {},
   "outputs": [],
   "source": [
    "repos_language = []\n",
    "for page in repos_list:\n",
    "    for repo in page:\n",
    "        repos_language.append(repo['language'])"
   ]
  },
  {
   "cell_type": "code",
   "execution_count": 52,
   "metadata": {},
   "outputs": [
    {
     "data": {
      "text/plain": [
       "133"
      ]
     },
     "execution_count": 52,
     "metadata": {},
     "output_type": "execute_result"
    }
   ],
   "source": [
    "len(repos_language)"
   ]
  },
  {
   "cell_type": "code",
   "execution_count": 53,
   "metadata": {},
   "outputs": [
    {
     "data": {
      "text/plain": [
       "[None,\n",
       " None,\n",
       " 'JavaScript',\n",
       " None,\n",
       " 'Python',\n",
       " 'PHP',\n",
       " 'Java',\n",
       " 'Python',\n",
       " 'CSS',\n",
       " 'Java',\n",
       " 'Java',\n",
       " 'PowerShell',\n",
       " 'Java',\n",
       " 'C#',\n",
       " 'PHP',\n",
       " 'Ruby',\n",
       " 'JavaScript',\n",
       " 'Python',\n",
       " 'PHP',\n",
       " 'Jupyter Notebook',\n",
       " 'C#',\n",
       " 'Java',\n",
       " 'JavaScript',\n",
       " 'PHP',\n",
       " 'C#',\n",
       " 'Java',\n",
       " 'PHP',\n",
       " 'Python',\n",
       " 'Ruby',\n",
       " 'PHP',\n",
       " 'Kotlin',\n",
       " 'PHP',\n",
       " 'Python',\n",
       " 'C',\n",
       " 'Kotlin',\n",
       " 'Swift',\n",
       " 'Python',\n",
       " 'C++',\n",
       " 'Python',\n",
       " 'Go',\n",
       " 'C',\n",
       " 'Python',\n",
       " 'Jupyter Notebook',\n",
       " 'Python',\n",
       " None,\n",
       " 'Java',\n",
       " 'Kotlin',\n",
       " 'Python',\n",
       " None,\n",
       " 'Jupyter Notebook',\n",
       " 'Python',\n",
       " 'Python',\n",
       " 'Python',\n",
       " 'Java',\n",
       " 'Jupyter Notebook',\n",
       " 'Python',\n",
       " 'Python',\n",
       " 'Java',\n",
       " 'Objective-C',\n",
       " 'JavaScript',\n",
       " 'TypeScript',\n",
       " 'Java',\n",
       " None,\n",
       " 'Python',\n",
       " 'Java',\n",
       " 'Java',\n",
       " 'Java',\n",
       " 'C#',\n",
       " 'C#',\n",
       " 'JavaScript',\n",
       " 'JavaScript',\n",
       " 'Go',\n",
       " 'Java',\n",
       " 'TypeScript',\n",
       " 'Python',\n",
       " 'C++',\n",
       " None,\n",
       " 'Python',\n",
       " 'C#',\n",
       " 'HTML',\n",
       " None,\n",
       " 'PHP',\n",
       " 'PHP',\n",
       " 'Java',\n",
       " 'Python',\n",
       " 'Scala',\n",
       " 'Python',\n",
       " 'Python',\n",
       " 'Python',\n",
       " 'Python',\n",
       " 'Java',\n",
       " 'Swift',\n",
       " 'Python',\n",
       " 'TypeScript',\n",
       " 'TypeScript',\n",
       " 'Ruby',\n",
       " 'Python',\n",
       " 'Python',\n",
       " 'C',\n",
       " 'Python',\n",
       " 'Python',\n",
       " 'Python',\n",
       " 'C++',\n",
       " 'Java',\n",
       " 'HTML',\n",
       " 'Java',\n",
       " 'Python',\n",
       " 'Swift',\n",
       " 'JavaScript',\n",
       " 'Swift',\n",
       " 'Swift',\n",
       " 'Swift',\n",
       " 'Swift',\n",
       " 'Swift',\n",
       " 'Swift',\n",
       " 'Swift',\n",
       " 'Swift',\n",
       " 'Swift',\n",
       " 'Python',\n",
       " 'Python',\n",
       " 'Python',\n",
       " 'JavaScript',\n",
       " 'Python',\n",
       " 'TypeScript',\n",
       " 'Python',\n",
       " 'JavaScript',\n",
       " 'Python',\n",
       " 'Zeek',\n",
       " 'Zeek',\n",
       " 'Zeek',\n",
       " 'Zeek',\n",
       " 'Zeek',\n",
       " 'Python']"
      ]
     },
     "execution_count": 53,
     "metadata": {},
     "output_type": "execute_result"
    }
   ],
   "source": [
    "repos_language"
   ]
  },
  {
   "attachments": {},
   "cell_type": "markdown",
   "metadata": {},
   "source": [
    "### Criando um DataFrame"
   ]
  },
  {
   "cell_type": "code",
   "execution_count": 54,
   "metadata": {},
   "outputs": [],
   "source": [
    "import pandas as pd"
   ]
  },
  {
   "cell_type": "code",
   "execution_count": 55,
   "metadata": {},
   "outputs": [],
   "source": [
    "dados_amz = pd.DataFrame()\n",
    "dados_amz['repository_name'] = repos_name\n",
    "dados_amz['language'] = repos_language"
   ]
  },
  {
   "cell_type": "code",
   "execution_count": 56,
   "metadata": {},
   "outputs": [
    {
     "data": {
      "text/html": [
       "<div>\n",
       "<style scoped>\n",
       "    .dataframe tbody tr th:only-of-type {\n",
       "        vertical-align: middle;\n",
       "    }\n",
       "\n",
       "    .dataframe tbody tr th {\n",
       "        vertical-align: top;\n",
       "    }\n",
       "\n",
       "    .dataframe thead th {\n",
       "        text-align: right;\n",
       "    }\n",
       "</style>\n",
       "<table border=\"1\" class=\"dataframe\">\n",
       "  <thead>\n",
       "    <tr style=\"text-align: right;\">\n",
       "      <th></th>\n",
       "      <th>repository_name</th>\n",
       "      <th>language</th>\n",
       "    </tr>\n",
       "  </thead>\n",
       "  <tbody>\n",
       "    <tr>\n",
       "      <th>0</th>\n",
       "      <td>.github</td>\n",
       "      <td>None</td>\n",
       "    </tr>\n",
       "    <tr>\n",
       "      <th>1</th>\n",
       "      <td>ads-advanced-tools-docs</td>\n",
       "      <td>None</td>\n",
       "    </tr>\n",
       "    <tr>\n",
       "      <th>2</th>\n",
       "      <td>alexa-coho</td>\n",
       "      <td>JavaScript</td>\n",
       "    </tr>\n",
       "    <tr>\n",
       "      <th>3</th>\n",
       "      <td>alexa-skills-kit-js</td>\n",
       "      <td>None</td>\n",
       "    </tr>\n",
       "    <tr>\n",
       "      <th>4</th>\n",
       "      <td>amazon-ads-advertiser-audience-normalization-s...</td>\n",
       "      <td>Python</td>\n",
       "    </tr>\n",
       "    <tr>\n",
       "      <th>...</th>\n",
       "      <td>...</td>\n",
       "      <td>...</td>\n",
       "    </tr>\n",
       "    <tr>\n",
       "      <th>128</th>\n",
       "      <td>zeek-plugin-enip</td>\n",
       "      <td>Zeek</td>\n",
       "    </tr>\n",
       "    <tr>\n",
       "      <th>129</th>\n",
       "      <td>zeek-plugin-profinet</td>\n",
       "      <td>Zeek</td>\n",
       "    </tr>\n",
       "    <tr>\n",
       "      <th>130</th>\n",
       "      <td>zeek-plugin-s7comm</td>\n",
       "      <td>Zeek</td>\n",
       "    </tr>\n",
       "    <tr>\n",
       "      <th>131</th>\n",
       "      <td>zeek-plugin-tds</td>\n",
       "      <td>Zeek</td>\n",
       "    </tr>\n",
       "    <tr>\n",
       "      <th>132</th>\n",
       "      <td>zero-shot-rlhr</td>\n",
       "      <td>Python</td>\n",
       "    </tr>\n",
       "  </tbody>\n",
       "</table>\n",
       "<p>133 rows × 2 columns</p>\n",
       "</div>"
      ],
      "text/plain": [
       "                                       repository_name    language\n",
       "0                                              .github        None\n",
       "1                              ads-advanced-tools-docs        None\n",
       "2                                           alexa-coho  JavaScript\n",
       "3                                  alexa-skills-kit-js        None\n",
       "4    amazon-ads-advertiser-audience-normalization-s...      Python\n",
       "..                                                 ...         ...\n",
       "128                                   zeek-plugin-enip        Zeek\n",
       "129                               zeek-plugin-profinet        Zeek\n",
       "130                                 zeek-plugin-s7comm        Zeek\n",
       "131                                    zeek-plugin-tds        Zeek\n",
       "132                                     zero-shot-rlhr      Python\n",
       "\n",
       "[133 rows x 2 columns]"
      ]
     },
     "execution_count": 56,
     "metadata": {},
     "output_type": "execute_result"
    }
   ],
   "source": [
    "dados_amz"
   ]
  },
  {
   "attachments": {},
   "cell_type": "markdown",
   "metadata": {},
   "source": [
    "Salvando o DataFrame"
   ]
  },
  {
   "cell_type": "code",
   "execution_count": 57,
   "metadata": {},
   "outputs": [],
   "source": [
    "dados_amz.to_csv('amazon.csv')"
   ]
  },
  {
   "attachments": {},
   "cell_type": "markdown",
   "metadata": {},
   "source": [
    "## Armazenando os dados"
   ]
  },
  {
   "attachments": {},
   "cell_type": "markdown",
   "metadata": {},
   "source": [
    "### Criando repositório com POST"
   ]
  },
  {
   "cell_type": "code",
   "execution_count": 58,
   "metadata": {},
   "outputs": [
    {
     "data": {
      "text/plain": [
       "'https://api.github.com/user/repos'"
      ]
     },
     "execution_count": 58,
     "metadata": {},
     "output_type": "execute_result"
    }
   ],
   "source": [
    "api_base_url = 'https://api.github.com'\n",
    "url = f'{api_base_url}/user/repos'\n",
    "\n",
    "url"
   ]
  },
  {
   "cell_type": "code",
   "execution_count": 59,
   "metadata": {},
   "outputs": [
    {
     "data": {
      "text/plain": [
       "201"
      ]
     },
     "execution_count": 59,
     "metadata": {},
     "output_type": "execute_result"
    }
   ],
   "source": [
    "data = {\n",
    "    'name': 'linguagens-utilizadas',\n",
    "    'description': 'Repositorio com as linguagens de prog da Amazon',\n",
    "    'private': False\n",
    "}\n",
    "\n",
    "response = requests.post(url, json=data, headers=headers)\n",
    "response.status_code"
   ]
  },
  {
   "attachments": {},
   "cell_type": "markdown",
   "metadata": {},
   "source": [
    "### Formato do arquivo"
   ]
  },
  {
   "cell_type": "code",
   "execution_count": 60,
   "metadata": {},
   "outputs": [],
   "source": [
    "import base64"
   ]
  },
  {
   "cell_type": "code",
   "execution_count": 61,
   "metadata": {},
   "outputs": [],
   "source": [
    "with open('amazon.csv', 'rb') as file:\n",
    "    file_content = file.read()\n",
    "\n",
    "encoded_content = base64.b64encode(file_content)"
   ]
  },
  {
   "attachments": {},
   "cell_type": "markdown",
   "metadata": {},
   "source": [
    "### Upload de arquivo com PUT"
   ]
  },
  {
   "cell_type": "code",
   "execution_count": 62,
   "metadata": {},
   "outputs": [
    {
     "data": {
      "text/plain": [
       "'https://api.github.com/repos/millenagena/linguagens-utilizadas/contents/amazon.csv'"
      ]
     },
     "execution_count": 62,
     "metadata": {},
     "output_type": "execute_result"
    }
   ],
   "source": [
    "api_base_url = 'https://api.github.com'\n",
    "username = 'millenagena'\n",
    "repo = 'linguagens-utilizadas'\n",
    "path = 'amazon.csv'\n",
    "\n",
    "url = f'{api_base_url}/repos/{username}/{repo}/contents/{path}'\n",
    "url"
   ]
  },
  {
   "cell_type": "code",
   "execution_count": 63,
   "metadata": {},
   "outputs": [
    {
     "data": {
      "text/plain": [
       "201"
      ]
     },
     "execution_count": 63,
     "metadata": {},
     "output_type": "execute_result"
    }
   ],
   "source": [
    "data = {\n",
    "    'message': 'Adicionando um novo arquivo',\n",
    "    'content': encoded_content.decode('utf-8')\n",
    "}\n",
    "\n",
    "response = requests.put(url, json=data, headers=headers)\n",
    "response.status_code"
   ]
  },
  {
   "cell_type": "code",
   "execution_count": null,
   "metadata": {},
   "outputs": [],
   "source": []
  }
 ],
 "metadata": {
  "kernelspec": {
   "display_name": "venv",
   "language": "python",
   "name": "python3"
  },
  "language_info": {
   "codemirror_mode": {
    "name": "ipython",
    "version": 3
   },
   "file_extension": ".py",
   "mimetype": "text/x-python",
   "name": "python",
   "nbconvert_exporter": "python",
   "pygments_lexer": "ipython3",
   "version": "3.10.6"
  },
  "orig_nbformat": 4
 },
 "nbformat": 4,
 "nbformat_minor": 2
}
